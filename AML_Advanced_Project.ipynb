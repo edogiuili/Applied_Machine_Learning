{
  "nbformat": 4,
  "nbformat_minor": 0,
  "metadata": {
    "colab": {
      "name": "AML_Advanced_Project.ipynb",
      "provenance": [],
      "collapsed_sections": [
        "nFJYC8oteS0I",
        "5umeV4M-vqC5",
        "fecVrOzjsy2j",
        "C5GsTUg-wCij",
        "sa0xg2P772cN",
        "61S3Py86TR8K",
        "lTey7K62WB_W",
        "TVVw7xcL6xaj",
        "dF6fWoPmJDIQ",
        "Z-DT9pDnH6CA",
        "3UTJ783zMvKb",
        "pr_tjYn3M2aN",
        "GNABt2jE9Vf0",
        "Gk1CbOLS1Lip",
        "uTcjaTMj0HxT"
      ]
    },
    "kernelspec": {
      "display_name": "Python 3",
      "name": "python3"
    },
    "language_info": {
      "name": "python"
    },
    "accelerator": "TPU"
  },
  "cells": [
    {
      "cell_type": "markdown",
      "metadata": {
        "id": "SHokli3anuXA"
      },
      "source": [
        "###**Advanced Machine Learning - Edoardo Giuili** "
      ]
    },
    {
      "cell_type": "markdown",
      "metadata": {
        "id": "gPlKIhiOeBIT"
      },
      "source": [
        "# **Gene expression analysis for colorectal cancer prediction**\n",
        "The dataset can be found at the following site: https://sbcb.inf.ufrgs.br/cumida"
      ]
    },
    {
      "cell_type": "markdown",
      "metadata": {
        "id": "bWBv9mlDovEF"
      },
      "source": [
        "## **Description of the DataSet**\n",
        "The Curated Microarray Database (CuMiDa) is a repository containing  several cancer microarray datasets. CuMiDa offers new, manually and carefully curated datasets (*Feltes, B.C.; et al. CuMiDa: An Extensively Curated Microarray Database for Benchmarking and Testing of Machine Learning Approaches in Cancer Research. Journal of Computational Biology, 2019*). \n",
        "In my case, the dataset contains 105 rows/samples (patients) and 22280 columns: 2 columns represent the sample id and the categorical value (tumoral or normal) while the other columns represent the expression of 22278 different genes. \n",
        "The aim of this project is to design one or more machine learning methods that are able to make accurate predictions on new unknown examples."
      ]
    },
    {
      "cell_type": "markdown",
      "source": [
        "# **Data preprocessing**"
      ],
      "metadata": {
        "id": "DUAgbSMo7Vq3"
      }
    },
    {
      "cell_type": "markdown",
      "metadata": {
        "id": "nFJYC8oteS0I"
      },
      "source": [
        "## *Step 1 - Import the Libraries*\n",
        "\n"
      ]
    },
    {
      "cell_type": "code",
      "metadata": {
        "id": "ws8GLX4Ydv7W"
      },
      "source": [
        "# Import General Libraries\n",
        "import numpy\n",
        "import pandas as pd\n",
        "import matplotlib.pyplot as plt\n",
        "from imblearn.over_sampling import SMOTE\n",
        "\n",
        "# Import Libraries for Classification\n",
        "from sklearn import preprocessing\n",
        "from sklearn.utils import resample\n",
        "from sklearn.model_selection import GridSearchCV\n",
        "from sklearn.model_selection import KFold\n",
        "from sklearn.model_selection import cross_val_score\n",
        "from sklearn.model_selection import cross_val_predict\n",
        "from sklearn.model_selection import train_test_split\n",
        "from sklearn.naive_bayes import GaussianNB\n",
        "from sklearn.ensemble import RandomForestClassifier\n",
        "from sklearn.decomposition import PCA as sklearnPCA\n",
        "from mpl_toolkits.mplot3d import Axes3D\n",
        "import sklearn.metrics \n",
        "\n",
        "from sklearn.linear_model import LogisticRegression\n",
        "from sklearn.tree import DecisionTreeClassifier\n",
        "from sklearn.neighbors import KNeighborsClassifier\n",
        "from sklearn.svm import SVC\n",
        "\n",
        "# Import Libraries for Deep Learning\n",
        "from tensorflow.keras import models\n",
        "from tensorflow.keras import layers\n",
        "from tensorflow.random import set_seed\n",
        "from tensorflow.keras import optimizers\n",
        "from tensorflow.keras import initializers\n",
        "from tensorflow import keras\n",
        "from keras.wrappers.scikit_learn import KerasClassifier\n"
      ],
      "execution_count": null,
      "outputs": []
    },
    {
      "cell_type": "markdown",
      "metadata": {
        "id": "5umeV4M-vqC5"
      },
      "source": [
        "## *Step 2 - Load Data and process it*\n",
        "\n"
      ]
    },
    {
      "cell_type": "code",
      "metadata": {
        "colab": {
          "resources": {
            "http://localhost:8080/nbextensions/google.colab/files.js": {
              "data": "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",
              "ok": true,
              "headers": [
                [
                  "content-type",
                  "application/javascript"
                ]
              ],
              "status": 200,
              "status_text": ""
            }
          },
          "base_uri": "https://localhost:8080/",
          "height": 73
        },
        "id": "WcIVVAmzvvGn",
        "outputId": "0a31c8f9-e674-444b-c924-d79242ef2027"
      },
      "source": [
        "from google.colab import files\n",
        "uploaded = files.upload()"
      ],
      "execution_count": null,
      "outputs": [
        {
          "output_type": "display_data",
          "data": {
            "text/html": [
              "\n",
              "     <input type=\"file\" id=\"files-a821dc33-d5e1-46d9-9082-061d33712755\" name=\"files[]\" multiple disabled\n",
              "        style=\"border:none\" />\n",
              "     <output id=\"result-a821dc33-d5e1-46d9-9082-061d33712755\">\n",
              "      Upload widget is only available when the cell has been executed in the\n",
              "      current browser session. Please rerun this cell to enable.\n",
              "      </output>\n",
              "      <script src=\"/nbextensions/google.colab/files.js\"></script> "
            ],
            "text/plain": [
              "<IPython.core.display.HTML object>"
            ]
          },
          "metadata": {}
        },
        {
          "output_type": "stream",
          "name": "stdout",
          "text": [
            "Saving Colorectal_GSE44861.csv to Colorectal_GSE44861.csv\n"
          ]
        }
      ]
    },
    {
      "cell_type": "code",
      "metadata": {
        "colab": {
          "base_uri": "https://localhost:8080/",
          "height": 459
        },
        "id": "ILTl8t0gFB0J",
        "outputId": "3ccc424a-aac1-4e9d-a294-6619069e9c74"
      },
      "source": [
        "entire_ds = pd.read_csv(\"drive/MyDrive/Colorectal_GSE44861.csv\")\n",
        "print(entire_ds.shape)\n",
        "entire_ds.head(10)"
      ],
      "execution_count": null,
      "outputs": [
        {
          "output_type": "stream",
          "name": "stdout",
          "text": [
            "(105, 22279)\n"
          ]
        },
        {
          "output_type": "execute_result",
          "data": {
            "text/html": [
              "<div>\n",
              "<style scoped>\n",
              "    .dataframe tbody tr th:only-of-type {\n",
              "        vertical-align: middle;\n",
              "    }\n",
              "\n",
              "    .dataframe tbody tr th {\n",
              "        vertical-align: top;\n",
              "    }\n",
              "\n",
              "    .dataframe thead th {\n",
              "        text-align: right;\n",
              "    }\n",
              "</style>\n",
              "<table border=\"1\" class=\"dataframe\">\n",
              "  <thead>\n",
              "    <tr style=\"text-align: right;\">\n",
              "      <th></th>\n",
              "      <th>samples</th>\n",
              "      <th>type</th>\n",
              "      <th>1007_s_at</th>\n",
              "      <th>1053_at</th>\n",
              "      <th>117_at</th>\n",
              "      <th>121_at</th>\n",
              "      <th>1255_g_at</th>\n",
              "      <th>1294_at</th>\n",
              "      <th>1316_at</th>\n",
              "      <th>1320_at</th>\n",
              "      <th>1405_i_at</th>\n",
              "      <th>1431_at</th>\n",
              "      <th>1438_at</th>\n",
              "      <th>1487_at</th>\n",
              "      <th>1494_f_at</th>\n",
              "      <th>1598_g_at</th>\n",
              "      <th>160020_at</th>\n",
              "      <th>1729_at</th>\n",
              "      <th>1773_at</th>\n",
              "      <th>177_at</th>\n",
              "      <th>179_at</th>\n",
              "      <th>1861_at</th>\n",
              "      <th>200000_s_at</th>\n",
              "      <th>200001_at</th>\n",
              "      <th>200002_at</th>\n",
              "      <th>200003_s_at</th>\n",
              "      <th>200004_at</th>\n",
              "      <th>200005_at</th>\n",
              "      <th>200006_at</th>\n",
              "      <th>200007_at</th>\n",
              "      <th>200008_s_at</th>\n",
              "      <th>200009_at</th>\n",
              "      <th>200010_at</th>\n",
              "      <th>200011_s_at</th>\n",
              "      <th>200012_x_at</th>\n",
              "      <th>200013_at</th>\n",
              "      <th>200014_s_at</th>\n",
              "      <th>200015_s_at</th>\n",
              "      <th>200016_x_at</th>\n",
              "      <th>200017_at</th>\n",
              "      <th>...</th>\n",
              "      <th>AFFX-HUMISGF3A/M97935_MB_at</th>\n",
              "      <th>AFFX-HUMRGE/M10098_3_at</th>\n",
              "      <th>AFFX-HUMRGE/M10098_5_at</th>\n",
              "      <th>AFFX-HUMRGE/M10098_M_at</th>\n",
              "      <th>AFFX-LysX-3_at</th>\n",
              "      <th>AFFX-LysX-5_at</th>\n",
              "      <th>AFFX-LysX-M_at</th>\n",
              "      <th>AFFX-M27830_3_at</th>\n",
              "      <th>AFFX-M27830_5_at</th>\n",
              "      <th>AFFX-M27830_M_at</th>\n",
              "      <th>AFFX-PheX-3_at</th>\n",
              "      <th>AFFX-PheX-5_at</th>\n",
              "      <th>AFFX-PheX-M_at</th>\n",
              "      <th>AFFX-r2-Bs-dap-3_at</th>\n",
              "      <th>AFFX-r2-Bs-dap-5_at</th>\n",
              "      <th>AFFX-r2-Bs-dap-M_at</th>\n",
              "      <th>AFFX-r2-Bs-lys-3_at</th>\n",
              "      <th>AFFX-r2-Bs-lys-5_at</th>\n",
              "      <th>AFFX-r2-Bs-lys-M_at</th>\n",
              "      <th>AFFX-r2-Bs-phe-3_at</th>\n",
              "      <th>AFFX-r2-Bs-phe-5_at</th>\n",
              "      <th>AFFX-r2-Bs-phe-M_at</th>\n",
              "      <th>AFFX-r2-Bs-thr-3_s_at</th>\n",
              "      <th>AFFX-r2-Bs-thr-5_s_at</th>\n",
              "      <th>AFFX-r2-Bs-thr-M_s_at</th>\n",
              "      <th>AFFX-r2-Ec-bioB-3_at</th>\n",
              "      <th>AFFX-r2-Ec-bioB-5_at</th>\n",
              "      <th>AFFX-r2-Ec-bioB-M_at</th>\n",
              "      <th>AFFX-r2-Ec-bioC-3_at</th>\n",
              "      <th>AFFX-r2-Ec-bioC-5_at</th>\n",
              "      <th>AFFX-r2-Ec-bioD-3_at</th>\n",
              "      <th>AFFX-r2-Ec-bioD-5_at</th>\n",
              "      <th>AFFX-r2-P1-cre-3_at</th>\n",
              "      <th>AFFX-r2-P1-cre-5_at</th>\n",
              "      <th>AFFX-ThrX-3_at</th>\n",
              "      <th>AFFX-ThrX-5_at</th>\n",
              "      <th>AFFX-ThrX-M_at</th>\n",
              "      <th>AFFX-TrpnX-3_at</th>\n",
              "      <th>AFFX-TrpnX-5_at</th>\n",
              "      <th>AFFX-TrpnX-M_at</th>\n",
              "    </tr>\n",
              "  </thead>\n",
              "  <tbody>\n",
              "    <tr>\n",
              "      <th>0</th>\n",
              "      <td>909</td>\n",
              "      <td>normal</td>\n",
              "      <td>11.603630</td>\n",
              "      <td>6.161494</td>\n",
              "      <td>5.586689</td>\n",
              "      <td>7.665427</td>\n",
              "      <td>5.181192</td>\n",
              "      <td>9.328589</td>\n",
              "      <td>5.667076</td>\n",
              "      <td>5.825957</td>\n",
              "      <td>7.684897</td>\n",
              "      <td>5.280453</td>\n",
              "      <td>5.924691</td>\n",
              "      <td>9.171197</td>\n",
              "      <td>5.892172</td>\n",
              "      <td>10.675036</td>\n",
              "      <td>7.130390</td>\n",
              "      <td>8.365860</td>\n",
              "      <td>5.777034</td>\n",
              "      <td>7.294819</td>\n",
              "      <td>7.452211</td>\n",
              "      <td>7.183493</td>\n",
              "      <td>10.563175</td>\n",
              "      <td>11.694286</td>\n",
              "      <td>11.793642</td>\n",
              "      <td>14.133192</td>\n",
              "      <td>13.253494</td>\n",
              "      <td>11.688668</td>\n",
              "      <td>12.730797</td>\n",
              "      <td>13.111323</td>\n",
              "      <td>10.624835</td>\n",
              "      <td>13.324794</td>\n",
              "      <td>13.509437</td>\n",
              "      <td>11.613050</td>\n",
              "      <td>14.513084</td>\n",
              "      <td>13.557289</td>\n",
              "      <td>11.010666</td>\n",
              "      <td>12.461846</td>\n",
              "      <td>13.717629</td>\n",
              "      <td>14.266796</td>\n",
              "      <td>...</td>\n",
              "      <td>7.421438</td>\n",
              "      <td>12.472236</td>\n",
              "      <td>12.823305</td>\n",
              "      <td>11.611549</td>\n",
              "      <td>5.473242</td>\n",
              "      <td>5.038363</td>\n",
              "      <td>5.336605</td>\n",
              "      <td>5.434170</td>\n",
              "      <td>12.581952</td>\n",
              "      <td>10.383143</td>\n",
              "      <td>5.850063</td>\n",
              "      <td>5.218544</td>\n",
              "      <td>4.953496</td>\n",
              "      <td>4.927370</td>\n",
              "      <td>5.013688</td>\n",
              "      <td>4.972475</td>\n",
              "      <td>5.332326</td>\n",
              "      <td>5.216208</td>\n",
              "      <td>4.976444</td>\n",
              "      <td>5.588318</td>\n",
              "      <td>5.116983</td>\n",
              "      <td>5.207860</td>\n",
              "      <td>5.128672</td>\n",
              "      <td>5.333412</td>\n",
              "      <td>5.202440</td>\n",
              "      <td>9.222836</td>\n",
              "      <td>8.555462</td>\n",
              "      <td>8.541967</td>\n",
              "      <td>9.949472</td>\n",
              "      <td>10.225310</td>\n",
              "      <td>12.825918</td>\n",
              "      <td>12.744079</td>\n",
              "      <td>14.633211</td>\n",
              "      <td>14.077696</td>\n",
              "      <td>5.493690</td>\n",
              "      <td>5.129016</td>\n",
              "      <td>5.013772</td>\n",
              "      <td>4.964384</td>\n",
              "      <td>5.012729</td>\n",
              "      <td>5.032029</td>\n",
              "    </tr>\n",
              "    <tr>\n",
              "      <th>1</th>\n",
              "      <td>911</td>\n",
              "      <td>normal</td>\n",
              "      <td>10.724242</td>\n",
              "      <td>6.168925</td>\n",
              "      <td>5.645848</td>\n",
              "      <td>8.285704</td>\n",
              "      <td>5.270711</td>\n",
              "      <td>8.892988</td>\n",
              "      <td>6.484289</td>\n",
              "      <td>5.596518</td>\n",
              "      <td>7.735154</td>\n",
              "      <td>5.680837</td>\n",
              "      <td>5.373245</td>\n",
              "      <td>9.374720</td>\n",
              "      <td>6.469610</td>\n",
              "      <td>10.410668</td>\n",
              "      <td>7.434784</td>\n",
              "      <td>8.037932</td>\n",
              "      <td>5.692502</td>\n",
              "      <td>7.650652</td>\n",
              "      <td>8.252928</td>\n",
              "      <td>6.130473</td>\n",
              "      <td>9.415151</td>\n",
              "      <td>9.691296</td>\n",
              "      <td>10.760481</td>\n",
              "      <td>13.053457</td>\n",
              "      <td>12.786984</td>\n",
              "      <td>10.893364</td>\n",
              "      <td>11.531514</td>\n",
              "      <td>12.790593</td>\n",
              "      <td>7.645248</td>\n",
              "      <td>12.030956</td>\n",
              "      <td>12.254362</td>\n",
              "      <td>10.844536</td>\n",
              "      <td>14.126348</td>\n",
              "      <td>12.373588</td>\n",
              "      <td>10.444607</td>\n",
              "      <td>12.200934</td>\n",
              "      <td>13.551583</td>\n",
              "      <td>13.896925</td>\n",
              "      <td>...</td>\n",
              "      <td>6.336246</td>\n",
              "      <td>12.044913</td>\n",
              "      <td>13.853550</td>\n",
              "      <td>12.724685</td>\n",
              "      <td>5.728112</td>\n",
              "      <td>5.380797</td>\n",
              "      <td>5.343777</td>\n",
              "      <td>5.905650</td>\n",
              "      <td>12.531953</td>\n",
              "      <td>11.676500</td>\n",
              "      <td>6.545668</td>\n",
              "      <td>5.276944</td>\n",
              "      <td>5.160995</td>\n",
              "      <td>5.000274</td>\n",
              "      <td>5.093408</td>\n",
              "      <td>5.191535</td>\n",
              "      <td>5.537860</td>\n",
              "      <td>5.232726</td>\n",
              "      <td>5.146406</td>\n",
              "      <td>5.845758</td>\n",
              "      <td>6.267728</td>\n",
              "      <td>5.106717</td>\n",
              "      <td>5.253862</td>\n",
              "      <td>5.393300</td>\n",
              "      <td>5.259405</td>\n",
              "      <td>11.920945</td>\n",
              "      <td>11.540363</td>\n",
              "      <td>11.581186</td>\n",
              "      <td>12.507296</td>\n",
              "      <td>12.877094</td>\n",
              "      <td>14.610437</td>\n",
              "      <td>14.852044</td>\n",
              "      <td>15.309681</td>\n",
              "      <td>15.190121</td>\n",
              "      <td>5.535807</td>\n",
              "      <td>5.063369</td>\n",
              "      <td>5.103648</td>\n",
              "      <td>5.089872</td>\n",
              "      <td>5.156410</td>\n",
              "      <td>5.270410</td>\n",
              "    </tr>\n",
              "    <tr>\n",
              "      <th>2</th>\n",
              "      <td>913</td>\n",
              "      <td>normal</td>\n",
              "      <td>9.897182</td>\n",
              "      <td>6.141052</td>\n",
              "      <td>6.028690</td>\n",
              "      <td>7.382975</td>\n",
              "      <td>5.241439</td>\n",
              "      <td>8.906832</td>\n",
              "      <td>6.253771</td>\n",
              "      <td>5.728508</td>\n",
              "      <td>8.553831</td>\n",
              "      <td>5.306472</td>\n",
              "      <td>5.497906</td>\n",
              "      <td>8.239426</td>\n",
              "      <td>5.861003</td>\n",
              "      <td>10.149764</td>\n",
              "      <td>7.203162</td>\n",
              "      <td>8.205351</td>\n",
              "      <td>5.767240</td>\n",
              "      <td>6.306600</td>\n",
              "      <td>7.136410</td>\n",
              "      <td>6.118094</td>\n",
              "      <td>10.557734</td>\n",
              "      <td>9.942647</td>\n",
              "      <td>12.476845</td>\n",
              "      <td>14.577318</td>\n",
              "      <td>12.884134</td>\n",
              "      <td>11.877103</td>\n",
              "      <td>13.159349</td>\n",
              "      <td>13.158277</td>\n",
              "      <td>8.516653</td>\n",
              "      <td>12.981577</td>\n",
              "      <td>13.543751</td>\n",
              "      <td>10.236101</td>\n",
              "      <td>14.826589</td>\n",
              "      <td>13.889126</td>\n",
              "      <td>11.686800</td>\n",
              "      <td>12.700132</td>\n",
              "      <td>14.270469</td>\n",
              "      <td>14.620751</td>\n",
              "      <td>...</td>\n",
              "      <td>6.072724</td>\n",
              "      <td>12.921625</td>\n",
              "      <td>13.395459</td>\n",
              "      <td>12.750573</td>\n",
              "      <td>5.588481</td>\n",
              "      <td>5.231683</td>\n",
              "      <td>5.432931</td>\n",
              "      <td>5.697047</td>\n",
              "      <td>12.539151</td>\n",
              "      <td>10.797103</td>\n",
              "      <td>6.130881</td>\n",
              "      <td>5.343271</td>\n",
              "      <td>5.036490</td>\n",
              "      <td>5.092366</td>\n",
              "      <td>5.098212</td>\n",
              "      <td>5.090961</td>\n",
              "      <td>5.207550</td>\n",
              "      <td>4.967397</td>\n",
              "      <td>5.024144</td>\n",
              "      <td>5.471654</td>\n",
              "      <td>5.447919</td>\n",
              "      <td>5.363319</td>\n",
              "      <td>5.487234</td>\n",
              "      <td>5.585319</td>\n",
              "      <td>5.145920</td>\n",
              "      <td>10.562255</td>\n",
              "      <td>10.171149</td>\n",
              "      <td>10.124445</td>\n",
              "      <td>11.320522</td>\n",
              "      <td>11.639455</td>\n",
              "      <td>13.795802</td>\n",
              "      <td>14.016776</td>\n",
              "      <td>15.093576</td>\n",
              "      <td>14.821565</td>\n",
              "      <td>5.406839</td>\n",
              "      <td>5.186247</td>\n",
              "      <td>5.113486</td>\n",
              "      <td>5.021668</td>\n",
              "      <td>5.170374</td>\n",
              "      <td>5.031002</td>\n",
              "    </tr>\n",
              "    <tr>\n",
              "      <th>3</th>\n",
              "      <td>916</td>\n",
              "      <td>normal</td>\n",
              "      <td>10.177590</td>\n",
              "      <td>6.547922</td>\n",
              "      <td>5.657623</td>\n",
              "      <td>8.108889</td>\n",
              "      <td>5.309596</td>\n",
              "      <td>9.694124</td>\n",
              "      <td>6.511937</td>\n",
              "      <td>5.666979</td>\n",
              "      <td>7.737384</td>\n",
              "      <td>5.845548</td>\n",
              "      <td>5.902324</td>\n",
              "      <td>8.407829</td>\n",
              "      <td>6.315867</td>\n",
              "      <td>10.328124</td>\n",
              "      <td>7.244356</td>\n",
              "      <td>8.320469</td>\n",
              "      <td>6.045240</td>\n",
              "      <td>6.019156</td>\n",
              "      <td>7.755093</td>\n",
              "      <td>6.218387</td>\n",
              "      <td>10.711764</td>\n",
              "      <td>10.561821</td>\n",
              "      <td>12.321879</td>\n",
              "      <td>14.567547</td>\n",
              "      <td>12.159402</td>\n",
              "      <td>12.169462</td>\n",
              "      <td>12.772461</td>\n",
              "      <td>12.678296</td>\n",
              "      <td>8.753287</td>\n",
              "      <td>12.975418</td>\n",
              "      <td>13.677728</td>\n",
              "      <td>10.650770</td>\n",
              "      <td>14.813610</td>\n",
              "      <td>13.609111</td>\n",
              "      <td>11.203525</td>\n",
              "      <td>12.341656</td>\n",
              "      <td>14.170792</td>\n",
              "      <td>14.321302</td>\n",
              "      <td>...</td>\n",
              "      <td>6.035609</td>\n",
              "      <td>12.967256</td>\n",
              "      <td>13.918037</td>\n",
              "      <td>13.399531</td>\n",
              "      <td>5.883299</td>\n",
              "      <td>5.174830</td>\n",
              "      <td>5.548479</td>\n",
              "      <td>6.323225</td>\n",
              "      <td>14.013843</td>\n",
              "      <td>11.683140</td>\n",
              "      <td>6.000761</td>\n",
              "      <td>5.408122</td>\n",
              "      <td>5.129871</td>\n",
              "      <td>5.250453</td>\n",
              "      <td>5.101656</td>\n",
              "      <td>5.185830</td>\n",
              "      <td>5.422394</td>\n",
              "      <td>5.195827</td>\n",
              "      <td>5.009103</td>\n",
              "      <td>6.256389</td>\n",
              "      <td>6.254604</td>\n",
              "      <td>5.279590</td>\n",
              "      <td>5.314941</td>\n",
              "      <td>5.717720</td>\n",
              "      <td>5.407801</td>\n",
              "      <td>11.899847</td>\n",
              "      <td>11.541538</td>\n",
              "      <td>11.518942</td>\n",
              "      <td>12.586304</td>\n",
              "      <td>12.969694</td>\n",
              "      <td>14.516896</td>\n",
              "      <td>14.672769</td>\n",
              "      <td>15.197588</td>\n",
              "      <td>15.091035</td>\n",
              "      <td>5.547692</td>\n",
              "      <td>5.284327</td>\n",
              "      <td>5.242697</td>\n",
              "      <td>5.357589</td>\n",
              "      <td>5.248072</td>\n",
              "      <td>5.063287</td>\n",
              "    </tr>\n",
              "    <tr>\n",
              "      <th>4</th>\n",
              "      <td>917</td>\n",
              "      <td>normal</td>\n",
              "      <td>10.243669</td>\n",
              "      <td>5.703212</td>\n",
              "      <td>5.644889</td>\n",
              "      <td>8.296944</td>\n",
              "      <td>5.542044</td>\n",
              "      <td>9.384085</td>\n",
              "      <td>6.967511</td>\n",
              "      <td>5.681129</td>\n",
              "      <td>8.910061</td>\n",
              "      <td>5.683377</td>\n",
              "      <td>6.097692</td>\n",
              "      <td>8.359901</td>\n",
              "      <td>6.376017</td>\n",
              "      <td>10.373152</td>\n",
              "      <td>7.756876</td>\n",
              "      <td>8.323301</td>\n",
              "      <td>6.000281</td>\n",
              "      <td>6.775999</td>\n",
              "      <td>8.007685</td>\n",
              "      <td>5.963374</td>\n",
              "      <td>8.455941</td>\n",
              "      <td>7.761780</td>\n",
              "      <td>11.030542</td>\n",
              "      <td>12.784515</td>\n",
              "      <td>11.697208</td>\n",
              "      <td>10.735593</td>\n",
              "      <td>12.222912</td>\n",
              "      <td>12.705972</td>\n",
              "      <td>7.802126</td>\n",
              "      <td>10.617630</td>\n",
              "      <td>12.515660</td>\n",
              "      <td>9.423400</td>\n",
              "      <td>14.734102</td>\n",
              "      <td>12.739837</td>\n",
              "      <td>10.803399</td>\n",
              "      <td>12.876395</td>\n",
              "      <td>14.264361</td>\n",
              "      <td>14.413956</td>\n",
              "      <td>...</td>\n",
              "      <td>6.481728</td>\n",
              "      <td>10.114141</td>\n",
              "      <td>10.585099</td>\n",
              "      <td>10.986814</td>\n",
              "      <td>6.234042</td>\n",
              "      <td>5.373069</td>\n",
              "      <td>5.552485</td>\n",
              "      <td>6.138474</td>\n",
              "      <td>10.613065</td>\n",
              "      <td>10.374428</td>\n",
              "      <td>6.048980</td>\n",
              "      <td>5.575283</td>\n",
              "      <td>5.415161</td>\n",
              "      <td>5.379466</td>\n",
              "      <td>5.321983</td>\n",
              "      <td>5.523485</td>\n",
              "      <td>6.010949</td>\n",
              "      <td>5.383782</td>\n",
              "      <td>5.141887</td>\n",
              "      <td>6.137183</td>\n",
              "      <td>5.808421</td>\n",
              "      <td>5.303310</td>\n",
              "      <td>5.421791</td>\n",
              "      <td>5.581629</td>\n",
              "      <td>5.613864</td>\n",
              "      <td>12.101202</td>\n",
              "      <td>11.590230</td>\n",
              "      <td>11.492097</td>\n",
              "      <td>12.522723</td>\n",
              "      <td>12.878605</td>\n",
              "      <td>14.572370</td>\n",
              "      <td>14.688109</td>\n",
              "      <td>15.174612</td>\n",
              "      <td>15.069524</td>\n",
              "      <td>5.812392</td>\n",
              "      <td>5.555466</td>\n",
              "      <td>5.185894</td>\n",
              "      <td>5.402853</td>\n",
              "      <td>5.236353</td>\n",
              "      <td>5.356429</td>\n",
              "    </tr>\n",
              "    <tr>\n",
              "      <th>5</th>\n",
              "      <td>920</td>\n",
              "      <td>normal</td>\n",
              "      <td>10.883507</td>\n",
              "      <td>6.358084</td>\n",
              "      <td>5.713601</td>\n",
              "      <td>7.798066</td>\n",
              "      <td>5.290464</td>\n",
              "      <td>8.931954</td>\n",
              "      <td>5.914310</td>\n",
              "      <td>5.744955</td>\n",
              "      <td>8.721526</td>\n",
              "      <td>5.337788</td>\n",
              "      <td>5.858222</td>\n",
              "      <td>9.292434</td>\n",
              "      <td>5.735491</td>\n",
              "      <td>11.040338</td>\n",
              "      <td>6.744978</td>\n",
              "      <td>8.466489</td>\n",
              "      <td>5.752464</td>\n",
              "      <td>7.202450</td>\n",
              "      <td>7.046610</td>\n",
              "      <td>6.713187</td>\n",
              "      <td>10.212622</td>\n",
              "      <td>11.138651</td>\n",
              "      <td>12.057615</td>\n",
              "      <td>14.119232</td>\n",
              "      <td>12.763285</td>\n",
              "      <td>11.750927</td>\n",
              "      <td>12.784855</td>\n",
              "      <td>12.930344</td>\n",
              "      <td>8.295308</td>\n",
              "      <td>12.820016</td>\n",
              "      <td>13.470702</td>\n",
              "      <td>11.339424</td>\n",
              "      <td>14.580265</td>\n",
              "      <td>13.517375</td>\n",
              "      <td>11.180746</td>\n",
              "      <td>12.520592</td>\n",
              "      <td>14.028707</td>\n",
              "      <td>14.354729</td>\n",
              "      <td>...</td>\n",
              "      <td>6.052173</td>\n",
              "      <td>11.833752</td>\n",
              "      <td>12.402697</td>\n",
              "      <td>11.054072</td>\n",
              "      <td>5.573618</td>\n",
              "      <td>5.156082</td>\n",
              "      <td>5.420193</td>\n",
              "      <td>5.522676</td>\n",
              "      <td>12.227169</td>\n",
              "      <td>10.166459</td>\n",
              "      <td>5.909235</td>\n",
              "      <td>5.070872</td>\n",
              "      <td>4.977044</td>\n",
              "      <td>5.025551</td>\n",
              "      <td>4.851883</td>\n",
              "      <td>5.017461</td>\n",
              "      <td>5.222631</td>\n",
              "      <td>5.253409</td>\n",
              "      <td>5.126335</td>\n",
              "      <td>5.343424</td>\n",
              "      <td>5.143775</td>\n",
              "      <td>5.324338</td>\n",
              "      <td>5.151965</td>\n",
              "      <td>5.726868</td>\n",
              "      <td>5.085027</td>\n",
              "      <td>9.545492</td>\n",
              "      <td>9.129389</td>\n",
              "      <td>9.147066</td>\n",
              "      <td>10.246157</td>\n",
              "      <td>10.559741</td>\n",
              "      <td>12.954691</td>\n",
              "      <td>12.989804</td>\n",
              "      <td>14.655947</td>\n",
              "      <td>14.266794</td>\n",
              "      <td>5.466816</td>\n",
              "      <td>5.072277</td>\n",
              "      <td>5.231908</td>\n",
              "      <td>5.096166</td>\n",
              "      <td>5.068430</td>\n",
              "      <td>4.949972</td>\n",
              "    </tr>\n",
              "    <tr>\n",
              "      <th>6</th>\n",
              "      <td>922</td>\n",
              "      <td>normal</td>\n",
              "      <td>10.334476</td>\n",
              "      <td>6.503902</td>\n",
              "      <td>6.225749</td>\n",
              "      <td>7.837346</td>\n",
              "      <td>5.108317</td>\n",
              "      <td>8.408111</td>\n",
              "      <td>5.864856</td>\n",
              "      <td>5.482676</td>\n",
              "      <td>8.351655</td>\n",
              "      <td>5.496987</td>\n",
              "      <td>5.627820</td>\n",
              "      <td>8.965381</td>\n",
              "      <td>5.797710</td>\n",
              "      <td>10.744541</td>\n",
              "      <td>6.907291</td>\n",
              "      <td>8.392720</td>\n",
              "      <td>5.617682</td>\n",
              "      <td>6.538549</td>\n",
              "      <td>7.099215</td>\n",
              "      <td>6.516085</td>\n",
              "      <td>9.839878</td>\n",
              "      <td>10.643651</td>\n",
              "      <td>12.339436</td>\n",
              "      <td>14.352482</td>\n",
              "      <td>12.872265</td>\n",
              "      <td>11.764884</td>\n",
              "      <td>12.994810</td>\n",
              "      <td>13.157023</td>\n",
              "      <td>8.490657</td>\n",
              "      <td>12.609861</td>\n",
              "      <td>13.633622</td>\n",
              "      <td>10.835648</td>\n",
              "      <td>14.741516</td>\n",
              "      <td>13.830141</td>\n",
              "      <td>11.296805</td>\n",
              "      <td>12.636087</td>\n",
              "      <td>14.039177</td>\n",
              "      <td>14.530964</td>\n",
              "      <td>...</td>\n",
              "      <td>6.133281</td>\n",
              "      <td>11.401690</td>\n",
              "      <td>13.041445</td>\n",
              "      <td>11.449972</td>\n",
              "      <td>5.387394</td>\n",
              "      <td>5.149367</td>\n",
              "      <td>5.197701</td>\n",
              "      <td>5.452211</td>\n",
              "      <td>11.940227</td>\n",
              "      <td>10.513452</td>\n",
              "      <td>5.927119</td>\n",
              "      <td>5.164437</td>\n",
              "      <td>5.005276</td>\n",
              "      <td>4.937751</td>\n",
              "      <td>4.931643</td>\n",
              "      <td>4.978742</td>\n",
              "      <td>5.333754</td>\n",
              "      <td>5.074768</td>\n",
              "      <td>5.073527</td>\n",
              "      <td>5.575022</td>\n",
              "      <td>5.174150</td>\n",
              "      <td>5.205865</td>\n",
              "      <td>5.323120</td>\n",
              "      <td>5.456077</td>\n",
              "      <td>5.279505</td>\n",
              "      <td>10.306641</td>\n",
              "      <td>9.835792</td>\n",
              "      <td>9.835504</td>\n",
              "      <td>10.966547</td>\n",
              "      <td>11.329361</td>\n",
              "      <td>13.616817</td>\n",
              "      <td>13.655340</td>\n",
              "      <td>14.934272</td>\n",
              "      <td>14.633959</td>\n",
              "      <td>5.347464</td>\n",
              "      <td>5.044476</td>\n",
              "      <td>4.941938</td>\n",
              "      <td>5.103553</td>\n",
              "      <td>4.970727</td>\n",
              "      <td>4.974458</td>\n",
              "    </tr>\n",
              "    <tr>\n",
              "      <th>7</th>\n",
              "      <td>924</td>\n",
              "      <td>normal</td>\n",
              "      <td>11.104597</td>\n",
              "      <td>6.712157</td>\n",
              "      <td>5.668190</td>\n",
              "      <td>7.373610</td>\n",
              "      <td>5.238014</td>\n",
              "      <td>8.807724</td>\n",
              "      <td>5.585496</td>\n",
              "      <td>5.794391</td>\n",
              "      <td>10.563897</td>\n",
              "      <td>5.376059</td>\n",
              "      <td>6.485171</td>\n",
              "      <td>8.862814</td>\n",
              "      <td>5.837258</td>\n",
              "      <td>11.035745</td>\n",
              "      <td>7.074368</td>\n",
              "      <td>8.043208</td>\n",
              "      <td>5.732058</td>\n",
              "      <td>6.570883</td>\n",
              "      <td>7.293883</td>\n",
              "      <td>6.624913</td>\n",
              "      <td>11.021810</td>\n",
              "      <td>11.374629</td>\n",
              "      <td>12.208189</td>\n",
              "      <td>14.473121</td>\n",
              "      <td>12.881676</td>\n",
              "      <td>11.987216</td>\n",
              "      <td>13.026751</td>\n",
              "      <td>13.153480</td>\n",
              "      <td>10.450193</td>\n",
              "      <td>13.161723</td>\n",
              "      <td>13.596879</td>\n",
              "      <td>11.434590</td>\n",
              "      <td>14.585531</td>\n",
              "      <td>13.730789</td>\n",
              "      <td>11.512010</td>\n",
              "      <td>12.484114</td>\n",
              "      <td>14.098276</td>\n",
              "      <td>14.364424</td>\n",
              "      <td>...</td>\n",
              "      <td>7.254920</td>\n",
              "      <td>11.490834</td>\n",
              "      <td>12.592521</td>\n",
              "      <td>11.105898</td>\n",
              "      <td>5.272559</td>\n",
              "      <td>5.029400</td>\n",
              "      <td>5.249350</td>\n",
              "      <td>5.519213</td>\n",
              "      <td>11.553369</td>\n",
              "      <td>10.019600</td>\n",
              "      <td>5.797745</td>\n",
              "      <td>5.189250</td>\n",
              "      <td>4.948964</td>\n",
              "      <td>4.903961</td>\n",
              "      <td>4.912838</td>\n",
              "      <td>5.035756</td>\n",
              "      <td>5.089161</td>\n",
              "      <td>4.999980</td>\n",
              "      <td>5.142136</td>\n",
              "      <td>5.410162</td>\n",
              "      <td>4.954773</td>\n",
              "      <td>5.001869</td>\n",
              "      <td>5.101809</td>\n",
              "      <td>5.365714</td>\n",
              "      <td>5.369586</td>\n",
              "      <td>9.725619</td>\n",
              "      <td>9.096012</td>\n",
              "      <td>9.199884</td>\n",
              "      <td>10.368645</td>\n",
              "      <td>10.660113</td>\n",
              "      <td>13.140723</td>\n",
              "      <td>13.189933</td>\n",
              "      <td>14.715652</td>\n",
              "      <td>14.393195</td>\n",
              "      <td>5.201713</td>\n",
              "      <td>5.175133</td>\n",
              "      <td>5.124318</td>\n",
              "      <td>4.968709</td>\n",
              "      <td>4.999055</td>\n",
              "      <td>5.006359</td>\n",
              "    </tr>\n",
              "    <tr>\n",
              "      <th>8</th>\n",
              "      <td>925</td>\n",
              "      <td>normal</td>\n",
              "      <td>10.158716</td>\n",
              "      <td>7.034690</td>\n",
              "      <td>5.482332</td>\n",
              "      <td>7.635554</td>\n",
              "      <td>5.357286</td>\n",
              "      <td>9.562766</td>\n",
              "      <td>6.007403</td>\n",
              "      <td>5.603556</td>\n",
              "      <td>10.600154</td>\n",
              "      <td>5.420295</td>\n",
              "      <td>5.584818</td>\n",
              "      <td>9.163705</td>\n",
              "      <td>6.316064</td>\n",
              "      <td>10.801244</td>\n",
              "      <td>7.428380</td>\n",
              "      <td>8.216016</td>\n",
              "      <td>5.937365</td>\n",
              "      <td>6.262895</td>\n",
              "      <td>7.526739</td>\n",
              "      <td>6.769016</td>\n",
              "      <td>10.471970</td>\n",
              "      <td>11.398313</td>\n",
              "      <td>12.293539</td>\n",
              "      <td>14.302296</td>\n",
              "      <td>12.274100</td>\n",
              "      <td>11.884261</td>\n",
              "      <td>13.023931</td>\n",
              "      <td>13.039100</td>\n",
              "      <td>8.455113</td>\n",
              "      <td>12.793876</td>\n",
              "      <td>13.480846</td>\n",
              "      <td>10.544276</td>\n",
              "      <td>14.710931</td>\n",
              "      <td>13.535027</td>\n",
              "      <td>11.082722</td>\n",
              "      <td>12.151251</td>\n",
              "      <td>13.992824</td>\n",
              "      <td>14.221049</td>\n",
              "      <td>...</td>\n",
              "      <td>6.038053</td>\n",
              "      <td>12.160185</td>\n",
              "      <td>13.689416</td>\n",
              "      <td>12.348860</td>\n",
              "      <td>5.928123</td>\n",
              "      <td>5.235672</td>\n",
              "      <td>5.431926</td>\n",
              "      <td>5.539327</td>\n",
              "      <td>12.578100</td>\n",
              "      <td>10.896501</td>\n",
              "      <td>6.001054</td>\n",
              "      <td>5.289057</td>\n",
              "      <td>5.032878</td>\n",
              "      <td>5.000828</td>\n",
              "      <td>5.171884</td>\n",
              "      <td>5.102308</td>\n",
              "      <td>5.387260</td>\n",
              "      <td>5.134087</td>\n",
              "      <td>5.117789</td>\n",
              "      <td>5.766971</td>\n",
              "      <td>5.832299</td>\n",
              "      <td>5.114209</td>\n",
              "      <td>5.281490</td>\n",
              "      <td>5.336783</td>\n",
              "      <td>5.411891</td>\n",
              "      <td>11.663485</td>\n",
              "      <td>11.104313</td>\n",
              "      <td>11.115273</td>\n",
              "      <td>12.125272</td>\n",
              "      <td>12.460471</td>\n",
              "      <td>14.231880</td>\n",
              "      <td>14.389727</td>\n",
              "      <td>15.129897</td>\n",
              "      <td>14.976616</td>\n",
              "      <td>5.583674</td>\n",
              "      <td>5.255619</td>\n",
              "      <td>5.053729</td>\n",
              "      <td>5.146267</td>\n",
              "      <td>5.194548</td>\n",
              "      <td>5.115405</td>\n",
              "    </tr>\n",
              "    <tr>\n",
              "      <th>9</th>\n",
              "      <td>928</td>\n",
              "      <td>normal</td>\n",
              "      <td>11.163464</td>\n",
              "      <td>7.016795</td>\n",
              "      <td>5.631753</td>\n",
              "      <td>7.709444</td>\n",
              "      <td>5.182593</td>\n",
              "      <td>9.191572</td>\n",
              "      <td>5.652939</td>\n",
              "      <td>5.704759</td>\n",
              "      <td>9.142179</td>\n",
              "      <td>5.554153</td>\n",
              "      <td>5.670742</td>\n",
              "      <td>9.560064</td>\n",
              "      <td>5.729186</td>\n",
              "      <td>10.563195</td>\n",
              "      <td>6.850626</td>\n",
              "      <td>8.562771</td>\n",
              "      <td>5.549402</td>\n",
              "      <td>6.458422</td>\n",
              "      <td>7.285570</td>\n",
              "      <td>6.848308</td>\n",
              "      <td>10.861576</td>\n",
              "      <td>11.767165</td>\n",
              "      <td>12.392304</td>\n",
              "      <td>14.343352</td>\n",
              "      <td>12.782968</td>\n",
              "      <td>11.912306</td>\n",
              "      <td>13.202460</td>\n",
              "      <td>13.122989</td>\n",
              "      <td>9.055861</td>\n",
              "      <td>13.143364</td>\n",
              "      <td>13.598588</td>\n",
              "      <td>11.530360</td>\n",
              "      <td>14.607736</td>\n",
              "      <td>13.634449</td>\n",
              "      <td>11.419988</td>\n",
              "      <td>12.453095</td>\n",
              "      <td>14.023034</td>\n",
              "      <td>14.334622</td>\n",
              "      <td>...</td>\n",
              "      <td>6.503104</td>\n",
              "      <td>12.272960</td>\n",
              "      <td>12.712224</td>\n",
              "      <td>11.664569</td>\n",
              "      <td>5.367998</td>\n",
              "      <td>5.241049</td>\n",
              "      <td>5.410512</td>\n",
              "      <td>5.483013</td>\n",
              "      <td>12.492002</td>\n",
              "      <td>10.787740</td>\n",
              "      <td>5.848194</td>\n",
              "      <td>5.342132</td>\n",
              "      <td>4.974807</td>\n",
              "      <td>4.913624</td>\n",
              "      <td>4.979323</td>\n",
              "      <td>5.033628</td>\n",
              "      <td>5.215424</td>\n",
              "      <td>5.013514</td>\n",
              "      <td>5.100513</td>\n",
              "      <td>5.363077</td>\n",
              "      <td>5.253550</td>\n",
              "      <td>5.125690</td>\n",
              "      <td>5.172440</td>\n",
              "      <td>5.349054</td>\n",
              "      <td>5.183546</td>\n",
              "      <td>9.300209</td>\n",
              "      <td>8.884612</td>\n",
              "      <td>8.812066</td>\n",
              "      <td>10.118115</td>\n",
              "      <td>10.345607</td>\n",
              "      <td>12.832546</td>\n",
              "      <td>12.921608</td>\n",
              "      <td>14.660357</td>\n",
              "      <td>14.301705</td>\n",
              "      <td>5.360712</td>\n",
              "      <td>5.078978</td>\n",
              "      <td>5.115057</td>\n",
              "      <td>4.921319</td>\n",
              "      <td>5.032157</td>\n",
              "      <td>5.052324</td>\n",
              "    </tr>\n",
              "  </tbody>\n",
              "</table>\n",
              "<p>10 rows × 22279 columns</p>\n",
              "</div>"
            ],
            "text/plain": [
              "   samples    type  ...  AFFX-TrpnX-5_at  AFFX-TrpnX-M_at\n",
              "0      909  normal  ...         5.012729         5.032029\n",
              "1      911  normal  ...         5.156410         5.270410\n",
              "2      913  normal  ...         5.170374         5.031002\n",
              "3      916  normal  ...         5.248072         5.063287\n",
              "4      917  normal  ...         5.236353         5.356429\n",
              "5      920  normal  ...         5.068430         4.949972\n",
              "6      922  normal  ...         4.970727         4.974458\n",
              "7      924  normal  ...         4.999055         5.006359\n",
              "8      925  normal  ...         5.194548         5.115405\n",
              "9      928  normal  ...         5.032157         5.052324\n",
              "\n",
              "[10 rows x 22279 columns]"
            ]
          },
          "metadata": {},
          "execution_count": 2
        }
      ]
    },
    {
      "cell_type": "code",
      "metadata": {
        "id": "mLdq8ltbl78z"
      },
      "source": [
        "#replace categorical labels with 0 (for normal) and 1 (for tumoral)\n",
        "entire_ds[\"type\"] = entire_ds[\"type\"].replace(\"tumoral\",1)\n",
        "entire_ds[\"type\"] = entire_ds[\"type\"].replace(\"normal\",0)"
      ],
      "execution_count": null,
      "outputs": []
    },
    {
      "cell_type": "code",
      "metadata": {
        "id": "oZSXVwm_xv3s"
      },
      "source": [
        "#save the cols \"samples\" and \"type\"\n",
        "samples_col = entire_ds[\"samples\"]\n",
        "type_col = entire_ds[\"type\"]"
      ],
      "execution_count": null,
      "outputs": []
    },
    {
      "cell_type": "code",
      "metadata": {
        "id": "nTy994Qjq1wm"
      },
      "source": [
        "#let's plot the distribution of the genes' expressions\n",
        "data = entire_ds.drop(columns=[\"samples\",\"type\"])\n",
        "#data.plot(kind=\"kde\",legend=None)"
      ],
      "execution_count": null,
      "outputs": []
    },
    {
      "cell_type": "code",
      "metadata": {
        "id": "FMhtq98dwESu"
      },
      "source": [
        "#standardize the distribution of data\n",
        "scaler = preprocessing.StandardScaler()\n",
        "data = pd.DataFrame(scaler.fit_transform(data),columns=data.columns)\n",
        "#data.plot(kind=\"kde\",legend=None)"
      ],
      "execution_count": null,
      "outputs": []
    },
    {
      "cell_type": "code",
      "metadata": {
        "id": "2GrMCxmtxZrK",
        "colab": {
          "base_uri": "https://localhost:8080/",
          "height": 294
        },
        "outputId": "e38b8a75-87a6-4692-b347-1480367bcdbd"
      },
      "source": [
        "#merge the type and samples cols again with the standardized dataset (data)\n",
        "lab = pd.DataFrame(type_col)\n",
        "sample = pd.DataFrame(samples_col)\n",
        "stand_dataset = pd.concat([sample,lab,data],axis=1)\n",
        "stand_dataset.head()"
      ],
      "execution_count": null,
      "outputs": [
        {
          "output_type": "execute_result",
          "data": {
            "text/html": [
              "<div>\n",
              "<style scoped>\n",
              "    .dataframe tbody tr th:only-of-type {\n",
              "        vertical-align: middle;\n",
              "    }\n",
              "\n",
              "    .dataframe tbody tr th {\n",
              "        vertical-align: top;\n",
              "    }\n",
              "\n",
              "    .dataframe thead th {\n",
              "        text-align: right;\n",
              "    }\n",
              "</style>\n",
              "<table border=\"1\" class=\"dataframe\">\n",
              "  <thead>\n",
              "    <tr style=\"text-align: right;\">\n",
              "      <th></th>\n",
              "      <th>samples</th>\n",
              "      <th>type</th>\n",
              "      <th>1007_s_at</th>\n",
              "      <th>1053_at</th>\n",
              "      <th>117_at</th>\n",
              "      <th>121_at</th>\n",
              "      <th>1255_g_at</th>\n",
              "      <th>1294_at</th>\n",
              "      <th>1316_at</th>\n",
              "      <th>1320_at</th>\n",
              "      <th>1405_i_at</th>\n",
              "      <th>1431_at</th>\n",
              "      <th>1438_at</th>\n",
              "      <th>1487_at</th>\n",
              "      <th>1494_f_at</th>\n",
              "      <th>1598_g_at</th>\n",
              "      <th>160020_at</th>\n",
              "      <th>1729_at</th>\n",
              "      <th>1773_at</th>\n",
              "      <th>177_at</th>\n",
              "      <th>179_at</th>\n",
              "      <th>1861_at</th>\n",
              "      <th>200000_s_at</th>\n",
              "      <th>200001_at</th>\n",
              "      <th>200002_at</th>\n",
              "      <th>200003_s_at</th>\n",
              "      <th>200004_at</th>\n",
              "      <th>200005_at</th>\n",
              "      <th>200006_at</th>\n",
              "      <th>200007_at</th>\n",
              "      <th>200008_s_at</th>\n",
              "      <th>200009_at</th>\n",
              "      <th>200010_at</th>\n",
              "      <th>200011_s_at</th>\n",
              "      <th>200012_x_at</th>\n",
              "      <th>200013_at</th>\n",
              "      <th>200014_s_at</th>\n",
              "      <th>200015_s_at</th>\n",
              "      <th>200016_x_at</th>\n",
              "      <th>200017_at</th>\n",
              "      <th>...</th>\n",
              "      <th>AFFX-HUMISGF3A/M97935_MB_at</th>\n",
              "      <th>AFFX-HUMRGE/M10098_3_at</th>\n",
              "      <th>AFFX-HUMRGE/M10098_5_at</th>\n",
              "      <th>AFFX-HUMRGE/M10098_M_at</th>\n",
              "      <th>AFFX-LysX-3_at</th>\n",
              "      <th>AFFX-LysX-5_at</th>\n",
              "      <th>AFFX-LysX-M_at</th>\n",
              "      <th>AFFX-M27830_3_at</th>\n",
              "      <th>AFFX-M27830_5_at</th>\n",
              "      <th>AFFX-M27830_M_at</th>\n",
              "      <th>AFFX-PheX-3_at</th>\n",
              "      <th>AFFX-PheX-5_at</th>\n",
              "      <th>AFFX-PheX-M_at</th>\n",
              "      <th>AFFX-r2-Bs-dap-3_at</th>\n",
              "      <th>AFFX-r2-Bs-dap-5_at</th>\n",
              "      <th>AFFX-r2-Bs-dap-M_at</th>\n",
              "      <th>AFFX-r2-Bs-lys-3_at</th>\n",
              "      <th>AFFX-r2-Bs-lys-5_at</th>\n",
              "      <th>AFFX-r2-Bs-lys-M_at</th>\n",
              "      <th>AFFX-r2-Bs-phe-3_at</th>\n",
              "      <th>AFFX-r2-Bs-phe-5_at</th>\n",
              "      <th>AFFX-r2-Bs-phe-M_at</th>\n",
              "      <th>AFFX-r2-Bs-thr-3_s_at</th>\n",
              "      <th>AFFX-r2-Bs-thr-5_s_at</th>\n",
              "      <th>AFFX-r2-Bs-thr-M_s_at</th>\n",
              "      <th>AFFX-r2-Ec-bioB-3_at</th>\n",
              "      <th>AFFX-r2-Ec-bioB-5_at</th>\n",
              "      <th>AFFX-r2-Ec-bioB-M_at</th>\n",
              "      <th>AFFX-r2-Ec-bioC-3_at</th>\n",
              "      <th>AFFX-r2-Ec-bioC-5_at</th>\n",
              "      <th>AFFX-r2-Ec-bioD-3_at</th>\n",
              "      <th>AFFX-r2-Ec-bioD-5_at</th>\n",
              "      <th>AFFX-r2-P1-cre-3_at</th>\n",
              "      <th>AFFX-r2-P1-cre-5_at</th>\n",
              "      <th>AFFX-ThrX-3_at</th>\n",
              "      <th>AFFX-ThrX-5_at</th>\n",
              "      <th>AFFX-ThrX-M_at</th>\n",
              "      <th>AFFX-TrpnX-3_at</th>\n",
              "      <th>AFFX-TrpnX-5_at</th>\n",
              "      <th>AFFX-TrpnX-M_at</th>\n",
              "    </tr>\n",
              "  </thead>\n",
              "  <tbody>\n",
              "    <tr>\n",
              "      <th>0</th>\n",
              "      <td>909</td>\n",
              "      <td>0</td>\n",
              "      <td>1.179505</td>\n",
              "      <td>-1.071123</td>\n",
              "      <td>-0.689799</td>\n",
              "      <td>-0.201807</td>\n",
              "      <td>-0.550619</td>\n",
              "      <td>1.261573</td>\n",
              "      <td>-0.557836</td>\n",
              "      <td>0.987395</td>\n",
              "      <td>-0.251630</td>\n",
              "      <td>-0.448654</td>\n",
              "      <td>-0.423422</td>\n",
              "      <td>0.779346</td>\n",
              "      <td>-0.236636</td>\n",
              "      <td>0.273873</td>\n",
              "      <td>-0.481050</td>\n",
              "      <td>0.392672</td>\n",
              "      <td>-0.182818</td>\n",
              "      <td>1.528535</td>\n",
              "      <td>-0.263488</td>\n",
              "      <td>1.071036</td>\n",
              "      <td>0.237507</td>\n",
              "      <td>0.391959</td>\n",
              "      <td>-0.912532</td>\n",
              "      <td>-0.087001</td>\n",
              "      <td>1.102235</td>\n",
              "      <td>-0.146565</td>\n",
              "      <td>-0.277405</td>\n",
              "      <td>0.517323</td>\n",
              "      <td>0.572566</td>\n",
              "      <td>0.889964</td>\n",
              "      <td>0.038363</td>\n",
              "      <td>0.876542</td>\n",
              "      <td>-1.199022</td>\n",
              "      <td>-0.270913</td>\n",
              "      <td>-0.526010</td>\n",
              "      <td>-0.007375</td>\n",
              "      <td>-1.778782</td>\n",
              "      <td>-0.281974</td>\n",
              "      <td>...</td>\n",
              "      <td>0.335993</td>\n",
              "      <td>0.910172</td>\n",
              "      <td>0.726863</td>\n",
              "      <td>0.439371</td>\n",
              "      <td>-0.567516</td>\n",
              "      <td>-0.803600</td>\n",
              "      <td>-0.613926</td>\n",
              "      <td>-0.675474</td>\n",
              "      <td>0.898242</td>\n",
              "      <td>-0.200765</td>\n",
              "      <td>-0.692660</td>\n",
              "      <td>-0.587147</td>\n",
              "      <td>-0.579955</td>\n",
              "      <td>-0.666977</td>\n",
              "      <td>-0.494394</td>\n",
              "      <td>-0.638962</td>\n",
              "      <td>-0.287775</td>\n",
              "      <td>-0.179841</td>\n",
              "      <td>-0.644304</td>\n",
              "      <td>-0.520390</td>\n",
              "      <td>-0.790429</td>\n",
              "      <td>-0.502517</td>\n",
              "      <td>-0.674803</td>\n",
              "      <td>-0.615106</td>\n",
              "      <td>-0.612561</td>\n",
              "      <td>-1.156334</td>\n",
              "      <td>-1.250666</td>\n",
              "      <td>-1.239753</td>\n",
              "      <td>-1.191231</td>\n",
              "      <td>-1.181558</td>\n",
              "      <td>-1.236757</td>\n",
              "      <td>-1.384235</td>\n",
              "      <td>-1.209523</td>\n",
              "      <td>-1.496987</td>\n",
              "      <td>-0.548397</td>\n",
              "      <td>-0.549971</td>\n",
              "      <td>-0.588422</td>\n",
              "      <td>-0.708152</td>\n",
              "      <td>-0.779673</td>\n",
              "      <td>-0.412636</td>\n",
              "    </tr>\n",
              "    <tr>\n",
              "      <th>1</th>\n",
              "      <td>911</td>\n",
              "      <td>0</td>\n",
              "      <td>0.061814</td>\n",
              "      <td>-1.059531</td>\n",
              "      <td>-0.586830</td>\n",
              "      <td>1.456859</td>\n",
              "      <td>0.033475</td>\n",
              "      <td>0.503819</td>\n",
              "      <td>1.336078</td>\n",
              "      <td>-0.463019</td>\n",
              "      <td>-0.207974</td>\n",
              "      <td>0.013761</td>\n",
              "      <td>-0.971296</td>\n",
              "      <td>1.118277</td>\n",
              "      <td>0.641395</td>\n",
              "      <td>-0.078916</td>\n",
              "      <td>0.179939</td>\n",
              "      <td>-0.676124</td>\n",
              "      <td>-0.572852</td>\n",
              "      <td>2.285947</td>\n",
              "      <td>1.837519</td>\n",
              "      <td>-1.043856</td>\n",
              "      <td>-1.471882</td>\n",
              "      <td>-1.081876</td>\n",
              "      <td>-2.819705</td>\n",
              "      <td>-2.171712</td>\n",
              "      <td>0.027674</td>\n",
              "      <td>-1.992556</td>\n",
              "      <td>-3.829399</td>\n",
              "      <td>-0.618537</td>\n",
              "      <td>-1.270501</td>\n",
              "      <td>-1.203297</td>\n",
              "      <td>-3.001717</td>\n",
              "      <td>-0.028264</td>\n",
              "      <td>-4.014765</td>\n",
              "      <td>-3.359210</td>\n",
              "      <td>-1.854039</td>\n",
              "      <td>-0.856147</td>\n",
              "      <td>-2.667571</td>\n",
              "      <td>-2.435561</td>\n",
              "      <td>...</td>\n",
              "      <td>-0.751214</td>\n",
              "      <td>0.453951</td>\n",
              "      <td>1.647555</td>\n",
              "      <td>1.691231</td>\n",
              "      <td>-0.312193</td>\n",
              "      <td>0.235871</td>\n",
              "      <td>-0.600806</td>\n",
              "      <td>0.430509</td>\n",
              "      <td>0.843638</td>\n",
              "      <td>2.130498</td>\n",
              "      <td>0.287404</td>\n",
              "      <td>-0.443827</td>\n",
              "      <td>-0.271844</td>\n",
              "      <td>-0.640163</td>\n",
              "      <td>-0.423494</td>\n",
              "      <td>-0.525965</td>\n",
              "      <td>0.027606</td>\n",
              "      <td>-0.138884</td>\n",
              "      <td>-0.367287</td>\n",
              "      <td>-0.227139</td>\n",
              "      <td>1.470494</td>\n",
              "      <td>-0.636537</td>\n",
              "      <td>-0.596707</td>\n",
              "      <td>-0.505331</td>\n",
              "      <td>-0.539163</td>\n",
              "      <td>1.038967</td>\n",
              "      <td>1.094885</td>\n",
              "      <td>1.076155</td>\n",
              "      <td>1.067635</td>\n",
              "      <td>1.086288</td>\n",
              "      <td>1.190251</td>\n",
              "      <td>1.377466</td>\n",
              "      <td>1.391268</td>\n",
              "      <td>1.265896</td>\n",
              "      <td>-0.518303</td>\n",
              "      <td>-0.742907</td>\n",
              "      <td>-0.452413</td>\n",
              "      <td>0.377902</td>\n",
              "      <td>0.202331</td>\n",
              "      <td>1.406936</td>\n",
              "    </tr>\n",
              "    <tr>\n",
              "      <th>2</th>\n",
              "      <td>913</td>\n",
              "      <td>0</td>\n",
              "      <td>-0.989371</td>\n",
              "      <td>-1.103013</td>\n",
              "      <td>0.079531</td>\n",
              "      <td>-0.957104</td>\n",
              "      <td>-0.157519</td>\n",
              "      <td>0.527901</td>\n",
              "      <td>0.801846</td>\n",
              "      <td>0.371366</td>\n",
              "      <td>0.503178</td>\n",
              "      <td>-0.418605</td>\n",
              "      <td>-0.847442</td>\n",
              "      <td>-0.772353</td>\n",
              "      <td>-0.284031</td>\n",
              "      <td>-0.427081</td>\n",
              "      <td>-0.323026</td>\n",
              "      <td>-0.130464</td>\n",
              "      <td>-0.228005</td>\n",
              "      <td>-0.574945</td>\n",
              "      <td>-1.092119</td>\n",
              "      <td>-1.068719</td>\n",
              "      <td>0.229405</td>\n",
              "      <td>-0.896927</td>\n",
              "      <td>0.348633</td>\n",
              "      <td>0.770500</td>\n",
              "      <td>0.251451</td>\n",
              "      <td>0.290814</td>\n",
              "      <td>0.991865</td>\n",
              "      <td>0.683608</td>\n",
              "      <td>-0.731481</td>\n",
              "      <td>0.334684</td>\n",
              "      <td>0.121480</td>\n",
              "      <td>-0.744602</td>\n",
              "      <td>1.083549</td>\n",
              "      <td>0.594854</td>\n",
              "      <td>1.060266</td>\n",
              "      <td>0.767792</td>\n",
              "      <td>1.180392</td>\n",
              "      <td>1.778936</td>\n",
              "      <td>...</td>\n",
              "      <td>-1.015225</td>\n",
              "      <td>1.389950</td>\n",
              "      <td>1.238176</td>\n",
              "      <td>1.720345</td>\n",
              "      <td>-0.452073</td>\n",
              "      <td>-0.216771</td>\n",
              "      <td>-0.437705</td>\n",
              "      <td>-0.058825</td>\n",
              "      <td>0.851499</td>\n",
              "      <td>0.545394</td>\n",
              "      <td>-0.297005</td>\n",
              "      <td>-0.281055</td>\n",
              "      <td>-0.456719</td>\n",
              "      <td>-0.606290</td>\n",
              "      <td>-0.419221</td>\n",
              "      <td>-0.577844</td>\n",
              "      <td>-0.479238</td>\n",
              "      <td>-0.796770</td>\n",
              "      <td>-0.566558</td>\n",
              "      <td>-0.653283</td>\n",
              "      <td>-0.140223</td>\n",
              "      <td>-0.296526</td>\n",
              "      <td>-0.451127</td>\n",
              "      <td>-0.153356</td>\n",
              "      <td>-0.685385</td>\n",
              "      <td>-0.066524</td>\n",
              "      <td>0.018949</td>\n",
              "      <td>-0.033893</td>\n",
              "      <td>0.019570</td>\n",
              "      <td>0.027841</td>\n",
              "      <td>0.082320</td>\n",
              "      <td>0.283160</td>\n",
              "      <td>0.560421</td>\n",
              "      <td>0.350529</td>\n",
              "      <td>-0.610454</td>\n",
              "      <td>-0.381770</td>\n",
              "      <td>-0.437525</td>\n",
              "      <td>-0.212382</td>\n",
              "      <td>0.297764</td>\n",
              "      <td>-0.420473</td>\n",
              "    </tr>\n",
              "    <tr>\n",
              "      <th>3</th>\n",
              "      <td>916</td>\n",
              "      <td>0</td>\n",
              "      <td>-0.632976</td>\n",
              "      <td>-0.468287</td>\n",
              "      <td>-0.566334</td>\n",
              "      <td>0.984043</td>\n",
              "      <td>0.287189</td>\n",
              "      <td>1.897444</td>\n",
              "      <td>1.400152</td>\n",
              "      <td>-0.017594</td>\n",
              "      <td>-0.206037</td>\n",
              "      <td>0.203992</td>\n",
              "      <td>-0.445644</td>\n",
              "      <td>-0.491909</td>\n",
              "      <td>0.407620</td>\n",
              "      <td>-0.189067</td>\n",
              "      <td>-0.233575</td>\n",
              "      <td>0.244731</td>\n",
              "      <td>1.054694</td>\n",
              "      <td>-1.186786</td>\n",
              "      <td>0.531246</td>\n",
              "      <td>-0.867288</td>\n",
              "      <td>0.458753</td>\n",
              "      <td>-0.441328</td>\n",
              "      <td>0.062572</td>\n",
              "      <td>0.751635</td>\n",
              "      <td>-1.417898</td>\n",
              "      <td>0.969413</td>\n",
              "      <td>-0.154005</td>\n",
              "      <td>-1.016233</td>\n",
              "      <td>-0.585108</td>\n",
              "      <td>0.324721</td>\n",
              "      <td>0.446003</td>\n",
              "      <td>-0.256394</td>\n",
              "      <td>0.989052</td>\n",
              "      <td>-0.135710</td>\n",
              "      <td>-0.073544</td>\n",
              "      <td>-0.398364</td>\n",
              "      <td>0.646852</td>\n",
              "      <td>0.035388</td>\n",
              "      <td>...</td>\n",
              "      <td>-1.052410</td>\n",
              "      <td>1.438667</td>\n",
              "      <td>1.705184</td>\n",
              "      <td>2.450179</td>\n",
              "      <td>-0.156731</td>\n",
              "      <td>-0.389350</td>\n",
              "      <td>-0.226317</td>\n",
              "      <td>1.410044</td>\n",
              "      <td>2.462007</td>\n",
              "      <td>2.142467</td>\n",
              "      <td>-0.480336</td>\n",
              "      <td>-0.121906</td>\n",
              "      <td>-0.318059</td>\n",
              "      <td>-0.548145</td>\n",
              "      <td>-0.416158</td>\n",
              "      <td>-0.528908</td>\n",
              "      <td>-0.149570</td>\n",
              "      <td>-0.230375</td>\n",
              "      <td>-0.591074</td>\n",
              "      <td>0.240613</td>\n",
              "      <td>1.444709</td>\n",
              "      <td>-0.407471</td>\n",
              "      <td>-0.558606</td>\n",
              "      <td>0.089337</td>\n",
              "      <td>-0.347960</td>\n",
              "      <td>1.021801</td>\n",
              "      <td>1.095808</td>\n",
              "      <td>1.028724</td>\n",
              "      <td>1.137408</td>\n",
              "      <td>1.165481</td>\n",
              "      <td>1.063032</td>\n",
              "      <td>1.142593</td>\n",
              "      <td>0.960311</td>\n",
              "      <td>1.019800</td>\n",
              "      <td>-0.509811</td>\n",
              "      <td>-0.093510</td>\n",
              "      <td>-0.241991</td>\n",
              "      <td>2.694881</td>\n",
              "      <td>0.828804</td>\n",
              "      <td>-0.174038</td>\n",
              "    </tr>\n",
              "    <tr>\n",
              "      <th>4</th>\n",
              "      <td>917</td>\n",
              "      <td>0</td>\n",
              "      <td>-0.548990</td>\n",
              "      <td>-1.786054</td>\n",
              "      <td>-0.588500</td>\n",
              "      <td>1.486917</td>\n",
              "      <td>1.803855</td>\n",
              "      <td>1.358112</td>\n",
              "      <td>2.455957</td>\n",
              "      <td>0.071859</td>\n",
              "      <td>0.812621</td>\n",
              "      <td>0.016695</td>\n",
              "      <td>-0.251541</td>\n",
              "      <td>-0.571724</td>\n",
              "      <td>0.499082</td>\n",
              "      <td>-0.128979</td>\n",
              "      <td>0.879358</td>\n",
              "      <td>0.253962</td>\n",
              "      <td>0.847250</td>\n",
              "      <td>0.424197</td>\n",
              "      <td>1.194026</td>\n",
              "      <td>-1.379459</td>\n",
              "      <td>-2.900129</td>\n",
              "      <td>-2.501646</td>\n",
              "      <td>-2.321185</td>\n",
              "      <td>-2.690973</td>\n",
              "      <td>-2.482516</td>\n",
              "      <td>-2.358762</td>\n",
              "      <td>-1.781641</td>\n",
              "      <td>-0.918218</td>\n",
              "      <td>-1.173462</td>\n",
              "      <td>-3.489876</td>\n",
              "      <td>-2.368793</td>\n",
              "      <td>-1.701432</td>\n",
              "      <td>0.410168</td>\n",
              "      <td>-2.403660</td>\n",
              "      <td>-1.012278</td>\n",
              "      <td>1.341193</td>\n",
              "      <td>1.147697</td>\n",
              "      <td>0.574869</td>\n",
              "      <td>...</td>\n",
              "      <td>-0.605462</td>\n",
              "      <td>-1.607389</td>\n",
              "      <td>-1.273339</td>\n",
              "      <td>-0.263222</td>\n",
              "      <td>0.194636</td>\n",
              "      <td>0.212411</td>\n",
              "      <td>-0.218988</td>\n",
              "      <td>0.976658</td>\n",
              "      <td>-1.251975</td>\n",
              "      <td>-0.216474</td>\n",
              "      <td>-0.412398</td>\n",
              "      <td>0.288323</td>\n",
              "      <td>0.105565</td>\n",
              "      <td>-0.500693</td>\n",
              "      <td>-0.220207</td>\n",
              "      <td>-0.354737</td>\n",
              "      <td>0.753536</td>\n",
              "      <td>0.235660</td>\n",
              "      <td>-0.374652</td>\n",
              "      <td>0.104825</td>\n",
              "      <td>0.568072</td>\n",
              "      <td>-0.376041</td>\n",
              "      <td>-0.491951</td>\n",
              "      <td>-0.160120</td>\n",
              "      <td>-0.082454</td>\n",
              "      <td>1.185632</td>\n",
              "      <td>1.134070</td>\n",
              "      <td>1.008268</td>\n",
              "      <td>1.081258</td>\n",
              "      <td>1.087580</td>\n",
              "      <td>1.138478</td>\n",
              "      <td>1.162690</td>\n",
              "      <td>0.871978</td>\n",
              "      <td>0.966373</td>\n",
              "      <td>-0.320677</td>\n",
              "      <td>0.703368</td>\n",
              "      <td>-0.327950</td>\n",
              "      <td>3.086623</td>\n",
              "      <td>0.748710</td>\n",
              "      <td>2.063522</td>\n",
              "    </tr>\n",
              "  </tbody>\n",
              "</table>\n",
              "<p>5 rows × 22279 columns</p>\n",
              "</div>"
            ],
            "text/plain": [
              "   samples  type  1007_s_at  ...  AFFX-TrpnX-3_at  AFFX-TrpnX-5_at  AFFX-TrpnX-M_at\n",
              "0      909     0   1.179505  ...        -0.708152        -0.779673        -0.412636\n",
              "1      911     0   0.061814  ...         0.377902         0.202331         1.406936\n",
              "2      913     0  -0.989371  ...        -0.212382         0.297764        -0.420473\n",
              "3      916     0  -0.632976  ...         2.694881         0.828804        -0.174038\n",
              "4      917     0  -0.548990  ...         3.086623         0.748710         2.063522\n",
              "\n",
              "[5 rows x 22279 columns]"
            ]
          },
          "metadata": {},
          "execution_count": 7
        }
      ]
    },
    {
      "cell_type": "code",
      "metadata": {
        "colab": {
          "base_uri": "https://localhost:8080/"
        },
        "id": "4FectBldrM73",
        "outputId": "61f1fa5c-225a-40f3-8881-df39e522c199"
      },
      "source": [
        "data.shape\n",
        "entire_ds.shape\n",
        "#data[1:]"
      ],
      "execution_count": null,
      "outputs": [
        {
          "output_type": "execute_result",
          "data": {
            "text/plain": [
              "(105, 22279)"
            ]
          },
          "metadata": {},
          "execution_count": 8
        }
      ]
    },
    {
      "cell_type": "markdown",
      "metadata": {
        "id": "fecVrOzjsy2j"
      },
      "source": [
        "## *Step 3 - PCA*\n",
        "Looking at the variability present in my dataset is a good practise before starting the machine learning analysis. In particular, using PCA could be worth and give some more information about the data variability."
      ]
    },
    {
      "cell_type": "code",
      "metadata": {
        "id": "PcCQDAD403sX",
        "colab": {
          "base_uri": "https://localhost:8080/",
          "height": 336
        },
        "outputId": "dca3d591-4fcf-409c-80cc-5b7a7897221f"
      },
      "source": [
        "#study the dataset variability with PCA\n",
        "pca = sklearnPCA(n_components=3)\n",
        "X_reduced  = pca.fit_transform(data)\n",
        "Y=lab\n",
        "plt.clf()\n",
        "fig = plt.figure(1, figsize=(10,6 ))\n",
        "ax = Axes3D(fig, elev=48, azim=134,)\n",
        "ax.scatter(X_reduced[:, 0], X_reduced[:, 1], X_reduced[:, 2], c=Y,cmap=plt.cm.coolwarm,linewidths=10)\n",
        "ax.set_title(\"3D dimensionality reduction\")\n",
        "ax.w_xaxis.set_ticklabels([])\n",
        "ax.w_yaxis.set_ticklabels([])\n",
        "ax.w_zaxis.set_ticklabels([])"
      ],
      "execution_count": null,
      "outputs": [
        {
          "output_type": "execute_result",
          "data": {
            "text/plain": [
              "[]"
            ]
          },
          "metadata": {},
          "execution_count": 8
        },
        {
          "output_type": "display_data",
          "data": {
            "image/png": "[encoded data removed]",
            "text/plain": [
              "<Figure size 432x288 with 1 Axes>"
            ]
          },
          "metadata": {
            "needs_background": "light"
          }
        }
      ]
    },
    {
      "cell_type": "markdown",
      "metadata": {
        "id": "SbjtZvDfuU7I"
      },
      "source": [
        "PCA doesn't seem to find 3 main PCs that are able to separate the two classes of data (Tumoral vs Normal). For this reason, I have to check how many components are necessary to explain at least the 95% of variability."
      ]
    },
    {
      "cell_type": "code",
      "metadata": {
        "id": "VSFNSk1A2Ozm",
        "colab": {
          "base_uri": "https://localhost:8080/"
        },
        "outputId": "4fc769c8-9d12-497d-e5fa-7b336101c277"
      },
      "source": [
        "#find the number of components necessary to explain 95% of data variability\n",
        "pcaComponents = sklearnPCA(n_components=0.95)\n",
        "reduced  = pcaComponents.fit_transform(data)\n",
        "print(reduced.shape)"
      ],
      "execution_count": null,
      "outputs": [
        {
          "output_type": "stream",
          "name": "stdout",
          "text": [
            "(105, 73)\n"
          ]
        }
      ]
    },
    {
      "cell_type": "markdown",
      "metadata": {
        "id": "nzfEojM3v2IT"
      },
      "source": [
        "The number of components necessary to explain 95% of the variability in the dataset is 73."
      ]
    },
    {
      "cell_type": "code",
      "metadata": {
        "id": "oJqJftjl7RHB"
      },
      "source": [
        "d = {0:0}\n",
        "for i in range(5,100,5):\n",
        "  pcaComponents = sklearnPCA(n_components=i/100)\n",
        "  reduced = pcaComponents.fit_transform(data)\n",
        "  d[reduced.shape[1]]=i"
      ],
      "execution_count": null,
      "outputs": []
    },
    {
      "cell_type": "code",
      "metadata": {
        "id": "0eaRMFWKAkYd",
        "colab": {
          "base_uri": "https://localhost:8080/",
          "height": 300
        },
        "outputId": "39dbde4a-9a6a-4a2e-db56-466e70d5f71e"
      },
      "source": [
        "lists = d.items()\n",
        "x_axis,y_axis = zip(*lists)\n",
        "plt.plot(x_axis,y_axis,\"-o\")\n",
        "plt.ylabel(\"Cumulative explained variance\")\n",
        "plt.xlabel(\"Number of components\")\n",
        "x0 = [73]\n",
        "y0 = [95]\n",
        "plt.plot(x0,y0,\"s\")\n",
        "plt.ylim((0,100))\n",
        "plt.xlim((0,80))"
      ],
      "execution_count": null,
      "outputs": [
        {
          "output_type": "execute_result",
          "data": {
            "text/plain": [
              "(0.0, 80.0)"
            ]
          },
          "metadata": {},
          "execution_count": 66
        },
        {
          "output_type": "display_data",
          "data": {
            "image/png": "[encoded data removed]",
            "text/plain": [
              "<Figure size 432x288 with 1 Axes>"
            ]
          },
          "metadata": {
            "needs_background": "light"
          }
        }
      ]
    },
    {
      "cell_type": "markdown",
      "metadata": {
        "id": "C5GsTUg-wCij"
      },
      "source": [
        "# **Solving the Classification problem**\n",
        "Firstly I have to split my dataset into a training set and a test set."
      ]
    },
    {
      "cell_type": "code",
      "metadata": {
        "id": "IouiKDV3wPKQ"
      },
      "source": [
        "#split the dataset\n",
        "train,test = train_test_split(stand_dataset,test_size=0.2,random_state=10)\n",
        "train_y = train.type\n",
        "train_x = train.drop(columns= [\"type\",\"samples\"])\n",
        "test_y = test.type\n",
        "test_x = test.drop(columns= [\"type\",\"samples\"])"
      ],
      "execution_count": null,
      "outputs": []
    },
    {
      "cell_type": "code",
      "metadata": {
        "id": "9PTFVnh8y_nC",
        "colab": {
          "base_uri": "https://localhost:8080/"
        },
        "outputId": "4ea814f1-aa1a-46c0-a0f5-8b7de3bbe120"
      },
      "source": [
        "print(train[\"type\"].value_counts())"
      ],
      "execution_count": null,
      "outputs": [
        {
          "output_type": "stream",
          "name": "stdout",
          "text": [
            "1    44\n",
            "0    40\n",
            "Name: type, dtype: int64\n"
          ]
        }
      ]
    },
    {
      "cell_type": "markdown",
      "metadata": {
        "id": "B44nNClrz2FK"
      },
      "source": [
        "The classes in the training set are slightly unbalanced. For this reason, I use the SMOTE library, which uses a nearest neighbors algorithm to generate new and synthetic data."
      ]
    },
    {
      "cell_type": "code",
      "metadata": {
        "id": "ij0igx-D1i9Y"
      },
      "source": [
        "oversample = SMOTE(random_state=12)\n",
        "train_x,train_y = oversample.fit_resample(train_x,train_y)\n",
        "test_x,test_y = oversample.fit_resample(test_x,test_y)"
      ],
      "execution_count": null,
      "outputs": []
    },
    {
      "cell_type": "code",
      "metadata": {
        "id": "atHBba6h4KPN",
        "colab": {
          "base_uri": "https://localhost:8080/"
        },
        "outputId": "2fcca2f7-8f91-4a72-bca4-61cbdbc893d9"
      },
      "source": [
        "test_y.value_counts()"
      ],
      "execution_count": null,
      "outputs": [
        {
          "output_type": "execute_result",
          "data": {
            "text/plain": [
              "1    13\n",
              "0    13\n",
              "Name: type, dtype: int64"
            ]
          },
          "metadata": {},
          "execution_count": 136
        }
      ]
    },
    {
      "cell_type": "markdown",
      "metadata": {
        "id": "sa0xg2P772cN"
      },
      "source": [
        "## *Classifier 1 - Logistic Regression*"
      ]
    },
    {
      "cell_type": "code",
      "metadata": {
        "id": "CJ937TRQ8Ezn",
        "colab": {
          "base_uri": "https://localhost:8080/"
        },
        "outputId": "f905aa8c-4f53-4339-c408-8cd5c497dd2d"
      },
      "source": [
        "folds = [2,4,6,8,10]\n",
        "seed = 7\n",
        "model = LogisticRegression()\n",
        "results = []\n",
        "scoring_list = [\"accuracy\",\"roc_auc\"]\n",
        "for fold in folds:\n",
        "  print(\"\\nResults of %s-fold cross-validation\"%fold)\n",
        "  kfold = KFold(n_splits=fold, random_state=seed,shuffle=True)\n",
        "  for scoring in scoring_list:\n",
        "    cv_results = cross_val_score(model, train_x, train_y.ravel(), cv=kfold, scoring=scoring)\n",
        "    results.append(cv_results)\n",
        "    print(scoring+\": \"+str(round(cv_results.mean(),3))+\" +/- \"+str(round(cv_results.std(),3)))"
      ],
      "execution_count": null,
      "outputs": [
        {
          "output_type": "stream",
          "name": "stdout",
          "text": [
            "\n",
            "Results of 2-fold cross-validation\n",
            "accuracy: 0.875 +/- 0.034\n",
            "roc_auc: 0.857 +/- 0.039\n",
            "\n",
            "Results of 4-fold cross-validation\n",
            "accuracy: 0.852 +/- 0.059\n",
            "roc_auc: 0.879 +/- 0.053\n",
            "\n",
            "Results of 6-fold cross-validation\n",
            "accuracy: 0.842 +/- 0.082\n",
            "roc_auc: 0.865 +/- 0.1\n",
            "\n",
            "Results of 8-fold cross-validation\n",
            "accuracy: 0.852 +/- 0.063\n",
            "roc_auc: 0.891 +/- 0.096\n",
            "\n",
            "Results of 10-fold cross-validation\n",
            "accuracy: 0.854 +/- 0.1\n",
            "roc_auc: 0.871 +/- 0.152\n"
          ]
        }
      ]
    },
    {
      "cell_type": "markdown",
      "metadata": {
        "id": "lKns1D1YJB33"
      },
      "source": [
        "Logistic regression seems to perform quite good for both accuracy and roc_auc. However, I can perform the tuning of the algorithm, also called hyperparameter optimization. One approach to perform this task is the Grid Search approach, which will build and evaluate a model for each combination of hyperparameters specified in a grid. The dual is set to True since the number of features >> number of examples."
      ]
    },
    {
      "cell_type": "code",
      "metadata": {
        "id": "_DMcTGT2Js7-",
        "colab": {
          "base_uri": "https://localhost:8080/"
        },
        "outputId": "97f9a566-60a3-4499-ef19-8e0cb37a11a3"
      },
      "source": [
        "#Grid Search\n",
        "hyperpar = {\"C\":[1e-10, 1e-8, 1e-6, 1e-4,1e-2,1e-1,1,10,100]}\n",
        "grid = GridSearchCV(estimator=LogisticRegression(dual=True,solver=\"liblinear\",random_state = 7),param_grid=hyperpar,scoring=\"accuracy\")\n",
        "grid.fit(train_x,train_y.ravel())\n",
        "best_accuracy = grid.best_score_\n",
        "best_hyperp = grid.best_params_\n",
        "print(\"Best CV accuracy: \",best_accuracy)\n",
        "print(\"Best Params: \",best_hyperp)"
      ],
      "execution_count": null,
      "outputs": [
        {
          "output_type": "stream",
          "name": "stdout",
          "text": [
            "Best CV accuracy:  0.8633986928104577\n",
            "Best Params:  {'C': 1e-10}\n"
          ]
        }
      ]
    },
    {
      "cell_type": "code",
      "metadata": {
        "id": "9xM8R7MhNb41",
        "colab": {
          "base_uri": "https://localhost:8080/"
        },
        "outputId": "61e0b3ce-d37b-4052-f645-41dcbb1a4189"
      },
      "source": [
        "#Make predictions on the test set\n",
        "predictions = grid.predict(test_x)\n",
        "print(\"Accuracy on Test Set: \",sklearn.metrics.accuracy_score(test_y.ravel(), predictions))\n",
        "print(\"AUC: \",sklearn.metrics.roc_auc_score(test_y.ravel(), predictions))"
      ],
      "execution_count": null,
      "outputs": [
        {
          "output_type": "stream",
          "name": "stdout",
          "text": [
            "Accuracy on Test Set:  0.8461538461538461\n",
            "AUC:  0.8461538461538461\n"
          ]
        }
      ]
    },
    {
      "cell_type": "markdown",
      "metadata": {
        "id": "bKdhhwq_Q_j4"
      },
      "source": [
        "Even tuning the hyperparameter C, no great improvement has been reached with the Grid Search approach. The reason can be due to the fact that there are no features (since the PCA failed in separating data in 3D space) that can explain an high percentage of variability, meaning that there is no feature associated with high weight. Thus, a simple linear logistic regression may not be able to correctly make the classification."
      ]
    },
    {
      "cell_type": "markdown",
      "metadata": {
        "id": "61S3Py86TR8K"
      },
      "source": [
        "## *Classifier 2 - Naive Bayes (NB)*"
      ]
    },
    {
      "cell_type": "code",
      "metadata": {
        "id": "SuyOlRImTapJ",
        "colab": {
          "base_uri": "https://localhost:8080/"
        },
        "outputId": "33932a14-7dae-49e4-bb09-c0ecfff506b2"
      },
      "source": [
        "#Perform the cross-validation procedure\n",
        "folds = [2,4,6,8,10]\n",
        "seed = 7\n",
        "model = GaussianNB()\n",
        "results = []\n",
        "scoring_list = [\"accuracy\",\"roc_auc\"]\n",
        "for fold in folds:\n",
        "  print(\"\\nResults of %s-fold cross-validation\"%fold)\n",
        "  kfold = KFold(n_splits=fold, random_state=seed,shuffle=True)\n",
        "  for scoring in scoring_list:\n",
        "    cv_results = cross_val_score(model, train_x, train_y.ravel(), cv=kfold, scoring=scoring)\n",
        "    results.append(cv_results)\n",
        "    print(scoring+\": \"+str(round(cv_results.mean(),3))+\" +/- \"+str(round(cv_results.std(),3)))"
      ],
      "execution_count": null,
      "outputs": [
        {
          "output_type": "stream",
          "name": "stdout",
          "text": [
            "\n",
            "Results of 2-fold cross-validation\n",
            "accuracy: 0.852 +/- 0.034\n",
            "roc_auc: 0.847 +/- 0.03\n",
            "\n",
            "Results of 4-fold cross-validation\n",
            "accuracy: 0.864 +/- 0.079\n",
            "roc_auc: 0.877 +/- 0.083\n",
            "\n",
            "Results of 6-fold cross-validation\n",
            "accuracy: 0.818 +/- 0.121\n",
            "roc_auc: 0.848 +/- 0.119\n",
            "\n",
            "Results of 8-fold cross-validation\n",
            "accuracy: 0.83 +/- 0.084\n",
            "roc_auc: 0.851 +/- 0.102\n",
            "\n",
            "Results of 10-fold cross-validation\n",
            "accuracy: 0.854 +/- 0.111\n",
            "roc_auc: 0.867 +/- 0.112\n"
          ]
        }
      ]
    },
    {
      "cell_type": "markdown",
      "metadata": {
        "id": "q3ahZNfEUbj_"
      },
      "source": [
        "On the cross validation procedure, the NB performs similar to Linear Regression."
      ]
    },
    {
      "cell_type": "code",
      "metadata": {
        "id": "U4dPWQTfU2V9",
        "colab": {
          "base_uri": "https://localhost:8080/"
        },
        "outputId": "10226ded-3d8e-4b49-b250-d2ca1947602b"
      },
      "source": [
        "#Perform the prediction on the test set\n",
        "model = GaussianNB()\n",
        "model.fit(train_x,train_y.ravel())\n",
        "predictions = model.predict(test_x)\n",
        "print(\"Accuracy on Test Set: \",sklearn.metrics.accuracy_score(test_y.ravel(), predictions))\n",
        "print(\"AUC: \",sklearn.metrics.roc_auc_score(test_y.ravel(), predictions))"
      ],
      "execution_count": null,
      "outputs": [
        {
          "output_type": "stream",
          "name": "stdout",
          "text": [
            "Accuracy on Test Set:  0.8461538461538461\n",
            "AUC:  0.8461538461538461\n"
          ]
        }
      ]
    },
    {
      "cell_type": "markdown",
      "metadata": {
        "id": "fewvl-3iVkkw"
      },
      "source": [
        "The accuracy on the Test Set using NB is more or less the same of Linear Regression."
      ]
    },
    {
      "cell_type": "markdown",
      "metadata": {
        "id": "lTey7K62WB_W"
      },
      "source": [
        "## *Classifier 3 - Decision Trees*\n",
        "\n"
      ]
    },
    {
      "cell_type": "code",
      "metadata": {
        "id": "CylZlVxQ0rGU",
        "colab": {
          "base_uri": "https://localhost:8080/"
        },
        "outputId": "805c728d-c3d6-4cc5-8d86-71cfaf74805f"
      },
      "source": [
        "#train and fine-tune the decision tree using the GridSearchCV class\n",
        "params = {'max_leaf_nodes': list(range(2,18,2)), 'min_samples_split': [2, 3, 4],\"max_depth\":list(range(2,10,2))}\n",
        "grid_search_cv = GridSearchCV(DecisionTreeClassifier(random_state=7), params)\n",
        "grid_search_cv.fit(train_x, train_y.ravel())"
      ],
      "execution_count": null,
      "outputs": [
        {
          "output_type": "execute_result",
          "data": {
            "text/plain": [
              "GridSearchCV(estimator=DecisionTreeClassifier(random_state=7),\n",
              "             param_grid={'max_depth': [2, 4, 6, 8],\n",
              "                         'max_leaf_nodes': [2, 4, 6, 8, 10, 12, 14, 16],\n",
              "                         'min_samples_split': [2, 3, 4]})"
            ]
          },
          "metadata": {},
          "execution_count": 17
        }
      ]
    },
    {
      "cell_type": "code",
      "metadata": {
        "colab": {
          "base_uri": "https://localhost:8080/"
        },
        "id": "5leJ0ZT5A3_i",
        "outputId": "b723bee5-2593-4127-ce60-6058aecdb105"
      },
      "source": [
        "#get best accuracy and params\n",
        "best_accuracy = grid_search_cv.best_score_ \n",
        "best_params = grid_search_cv.best_params_ \n",
        "print(\"Best Parameters: \", best_params)\n",
        "print(\"Best CV accuracy: \", best_accuracy)"
      ],
      "execution_count": null,
      "outputs": [
        {
          "output_type": "stream",
          "name": "stdout",
          "text": [
            "Best Parameters:  {'max_depth': 2, 'max_leaf_nodes': 2, 'min_samples_split': 2}\n",
            "Best CV accuracy:  0.8071895424836601\n"
          ]
        }
      ]
    },
    {
      "cell_type": "code",
      "metadata": {
        "colab": {
          "base_uri": "https://localhost:8080/"
        },
        "id": "X44R27SS3_xi",
        "outputId": "21f42eb6-4295-4826-b534-3d9cb9adcb6e"
      },
      "source": [
        "#make the prediction on the test set\n",
        "prediction = grid_search_cv.predict(test_x)\n",
        "print(\"Accuracy Test: \", sklearn.metrics.accuracy_score(test_y, prediction))\n",
        "print(\"AUC Test: \", sklearn.metrics.roc_auc_score(test_y, prediction))"
      ],
      "execution_count": null,
      "outputs": [
        {
          "output_type": "stream",
          "name": "stdout",
          "text": [
            "Accuracy Test:  0.7307692307692307\n",
            "AUC Test:  0.7307692307692307\n"
          ]
        }
      ]
    },
    {
      "cell_type": "markdown",
      "metadata": {
        "id": "vwgNTtI86VtU"
      },
      "source": [
        "For the purity score, the default Gini index is kept. The accuracy in this case is lower than the previous accuracies obtained with other classifiers. Moreover, with DT it seems that overfitting is affecting the training procedure, since the difference in accuracy between train and test set evident."
      ]
    },
    {
      "cell_type": "markdown",
      "metadata": {
        "id": "TVVw7xcL6xaj"
      },
      "source": [
        "## *Classifier 4 - Random Forest*\n",
        "This is an Ensemble learner. A random forest is composed of multiple decision trees and usually it reaches an higher accuracy with respect to single decision trees. \n",
        "The parameters to choose are the same, with the n_estimators hyperparameter which is added in the Random Forest."
      ]
    },
    {
      "cell_type": "code",
      "metadata": {
        "colab": {
          "base_uri": "https://localhost:8080/"
        },
        "id": "0wDueXO862Wv",
        "outputId": "a80fcfd4-7e58-4d7d-f506-d6e135d75277"
      },
      "source": [
        "params = {'n_estimators': [10,20,30,40,50],'max_leaf_nodes': list(range(2,8,2)), 'min_samples_split': [2, 3, 4],\"max_depth\":list(range(2,6,2))}\n",
        "model = GridSearchCV(estimator=RandomForestClassifier(random_state=7), param_grid=params)\n",
        "model.fit(train_x, train_y.ravel())"
      ],
      "execution_count": null,
      "outputs": [
        {
          "output_type": "execute_result",
          "data": {
            "text/plain": [
              "GridSearchCV(estimator=RandomForestClassifier(random_state=7),\n",
              "             param_grid={'max_depth': [2, 4], 'max_leaf_nodes': [2, 4, 6],\n",
              "                         'min_samples_split': [2, 3, 4],\n",
              "                         'n_estimators': [10, 20, 30, 40, 50]})"
            ]
          },
          "metadata": {},
          "execution_count": 20
        }
      ]
    },
    {
      "cell_type": "code",
      "metadata": {
        "colab": {
          "base_uri": "https://localhost:8080/"
        },
        "id": "MXN3eSiJDCTX",
        "outputId": "9c4716e8-3491-46ed-b26e-19614a78721e"
      },
      "source": [
        "#get best accuracy and params\n",
        "best_accuracy = model.best_score_ \n",
        "best_params = model.best_params_ \n",
        "print(\"Best Parameters: \", best_params)\n",
        "print(\"Best CV accuracy: \", best_accuracy)"
      ],
      "execution_count": null,
      "outputs": [
        {
          "output_type": "stream",
          "name": "stdout",
          "text": [
            "Best Parameters:  {'max_depth': 2, 'max_leaf_nodes': 2, 'min_samples_split': 2, 'n_estimators': 20}\n",
            "Best CV accuracy:  0.8869281045751635\n"
          ]
        }
      ]
    },
    {
      "cell_type": "code",
      "metadata": {
        "colab": {
          "base_uri": "https://localhost:8080/"
        },
        "id": "Pav9o4yODJ29",
        "outputId": "22e86532-13ff-4fce-b10d-a7dc3685b713"
      },
      "source": [
        "#make the prediction on the test set\n",
        "prediction = model.predict(test_x)\n",
        "print(\"Accuracy Test: \", sklearn.metrics.accuracy_score(test_y.ravel(), prediction))\n",
        "print(\"AUC Test: \", sklearn.metrics.roc_auc_score(test_y.ravel(), prediction))"
      ],
      "execution_count": null,
      "outputs": [
        {
          "output_type": "stream",
          "name": "stdout",
          "text": [
            "Accuracy Test:  0.8076923076923077\n",
            "AUC Test:  0.8076923076923077\n"
          ]
        }
      ]
    },
    {
      "cell_type": "markdown",
      "metadata": {
        "id": "aUMbYvUGITh3"
      },
      "source": [
        "The accuracy on the training set has significantly increased with the random forest, however in the test set the accuracy is very different, reflecting the same problem of overfitting of DTs."
      ]
    },
    {
      "cell_type": "markdown",
      "metadata": {
        "id": "dF6fWoPmJDIQ"
      },
      "source": [
        "## *Classifier 5 - K-Nearest Neighbors*\n",
        "The main two hyperparameters in this classifier are the number of nearest neighbours and the weights associated to each neighbour which influences the classification. *Uniform* and *Distance* give respectively a equal weight to all the neighbours of a specific point and a *weighted score* inversally proportional to the distance of a neighbour to the point."
      ]
    },
    {
      "cell_type": "code",
      "metadata": {
        "colab": {
          "base_uri": "https://localhost:8080/"
        },
        "id": "qd5AQ6GKJLdf",
        "outputId": "c36ff693-9a63-4fcd-83a8-bc19b7f82ea5"
      },
      "source": [
        "params = {'n_neighbors': list(range(3,30)),\"weights\": [\"uniform\", \"distance\"],\"p\":[1,2]}\n",
        "model = GridSearchCV(estimator=KNeighborsClassifier(), param_grid=params)\n",
        "model.fit(train_x, train_y.ravel())"
      ],
      "execution_count": null,
      "outputs": [
        {
          "output_type": "execute_result",
          "data": {
            "text/plain": [
              "GridSearchCV(estimator=KNeighborsClassifier(),\n",
              "             param_grid={'n_neighbors': [3, 4, 5, 6, 7, 8, 9, 10, 11, 12, 13,\n",
              "                                         14, 15, 16, 17, 18, 19, 20, 21, 22, 23,\n",
              "                                         24, 25, 26, 27, 28, 29],\n",
              "                         'p': [1, 2], 'weights': ['uniform', 'distance']})"
            ]
          },
          "metadata": {},
          "execution_count": 15
        }
      ]
    },
    {
      "cell_type": "code",
      "metadata": {
        "colab": {
          "base_uri": "https://localhost:8080/"
        },
        "id": "aG-X6xd8-x5E",
        "outputId": "e11b4d9f-ec77-4417-f96b-4000f0a9d62c"
      },
      "source": [
        "#get best accuracy and params\n",
        "best_accuracy = model.best_score_\n",
        "best_params = model.best_params_ \n",
        "print(\"Best Parameters: \", best_params)\n",
        "print(\"Best CV accuracy: \", best_accuracy)"
      ],
      "execution_count": null,
      "outputs": [
        {
          "output_type": "stream",
          "name": "stdout",
          "text": [
            "Best Parameters:  {'n_neighbors': 4, 'p': 1, 'weights': 'distance'}\n",
            "Best CV accuracy:  0.7843137254901962\n"
          ]
        }
      ]
    },
    {
      "cell_type": "code",
      "metadata": {
        "colab": {
          "base_uri": "https://localhost:8080/"
        },
        "id": "8iABXlqs-1jt",
        "outputId": "ace18c5b-b415-466a-cd05-7c101b5f2e65"
      },
      "source": [
        "#make the prediction on the test set\n",
        "prediction = model.predict(test_x)\n",
        "print(\"Accuracy Test: \", sklearn.metrics.accuracy_score(test_y, prediction))\n",
        "print(\"AUC Test: \", sklearn.metrics.roc_auc_score(test_y, prediction))"
      ],
      "execution_count": null,
      "outputs": [
        {
          "output_type": "stream",
          "name": "stdout",
          "text": [
            "Accuracy Test:  0.7692307692307693\n",
            "AUC Test:  0.7692307692307692\n"
          ]
        }
      ]
    },
    {
      "cell_type": "markdown",
      "metadata": {
        "id": "CuS3KvwyBCHU"
      },
      "source": [
        "As it is shown, the classifier doesn't seem to perform good, however the overfitting here is an almost neglectable phenomena."
      ]
    },
    {
      "cell_type": "markdown",
      "metadata": {
        "id": "Z-DT9pDnH6CA"
      },
      "source": [
        "## *Classifier 6 - Support Vector Machines (SVMs)*\n",
        "Even with the SVM, the main hyperparameter is the C regularization term. I can also use different types of Kernel functions, such as the linear, the polynomial, etc.\n"
      ]
    },
    {
      "cell_type": "code",
      "metadata": {
        "colab": {
          "base_uri": "https://localhost:8080/"
        },
        "id": "W4DJLfyoH5RA",
        "outputId": "aa8c579c-b1bb-4918-84af-4452a1823c87"
      },
      "source": [
        "parameter = [{'C':[1e-5,1e-4,1e-3,1e-2,1e-1,1,2,3,10], 'kernel': ['linear', 'poly', 'rbf', 'sigmoid']}]\n",
        "model = GridSearchCV(estimator=SVC(random_state=7), param_grid=parameter)\n",
        "model.fit(train_x, train_y.ravel())"
      ],
      "execution_count": null,
      "outputs": [
        {
          "output_type": "execute_result",
          "data": {
            "text/plain": [
              "GridSearchCV(estimator=SVC(random_state=7),\n",
              "             param_grid=[{'C': [1e-05, 0.0001, 0.001, 0.01, 0.1, 1, 2, 3, 10],\n",
              "                          'kernel': ['linear', 'poly', 'rbf', 'sigmoid']}])"
            ]
          },
          "metadata": {},
          "execution_count": 28
        }
      ]
    },
    {
      "cell_type": "code",
      "metadata": {
        "colab": {
          "base_uri": "https://localhost:8080/"
        },
        "id": "mntrWsOBJR2a",
        "outputId": "b292288f-c491-4ffc-cf16-e75495071509"
      },
      "source": [
        "#get best accuracy and params\n",
        "best_accuracy = model.best_score_\n",
        "best_params = model.best_params_\n",
        "print(\"Best Parameters: \", best_params)\n",
        "print(\"Best CV accuracy: \", best_accuracy)"
      ],
      "execution_count": null,
      "outputs": [
        {
          "output_type": "stream",
          "name": "stdout",
          "text": [
            "Best Parameters:  {'C': 1, 'kernel': 'rbf'}\n",
            "Best CV accuracy:  0.8862745098039216\n"
          ]
        }
      ]
    },
    {
      "cell_type": "code",
      "metadata": {
        "colab": {
          "base_uri": "https://localhost:8080/"
        },
        "id": "aE9SZd0zJcdO",
        "outputId": "f83e315b-d263-402f-f4cd-de60eaa130af"
      },
      "source": [
        "#make the prediction on the test set\n",
        "prediction = model.predict(test_x)\n",
        "print(\"Accuracy Test: \", sklearn.metrics.accuracy_score(test_y.ravel(), prediction))\n",
        "print(\"AUC Test: \", sklearn.metrics.roc_auc_score(test_y.ravel(), prediction))"
      ],
      "execution_count": null,
      "outputs": [
        {
          "output_type": "stream",
          "name": "stdout",
          "text": [
            "Accuracy Test:  0.8076923076923077\n",
            "AUC Test:  0.8076923076923077\n"
          ]
        }
      ]
    },
    {
      "cell_type": "markdown",
      "metadata": {
        "id": "33BitfdnK_32"
      },
      "source": [
        "In case of SVMs, the accuracy in the training set increases (88%), there is a high problem of overfitting, since in the test set the accuracy decreases to 80%. Even increasing the C hyperparameter the problem persists: the only solution is to increase the number of examples."
      ]
    },
    {
      "cell_type": "markdown",
      "metadata": {
        "id": "3UTJ783zMvKb"
      },
      "source": [
        "# **Neural Networks**"
      ]
    },
    {
      "cell_type": "markdown",
      "metadata": {
        "id": "pr_tjYn3M2aN"
      },
      "source": [
        "## *Multilayer Perceptron (MLP)*\n",
        "The simplest NN architecture is the MLP. Here, I implemented a MLP using the Sequential interface of Keras. For the optimizer I decided to use Adam, which is usually a good default choice. The network here is composed of 3 dense layers."
      ]
    },
    {
      "cell_type": "code",
      "metadata": {
        "id": "c8f4SJFHPoFG",
        "colab": {
          "base_uri": "https://localhost:8080/"
        },
        "outputId": "da2792f6-1947-4791-da15-ea7a76815240"
      },
      "source": [
        "def make_model():\n",
        "  set_seed(432)\n",
        "  nn_model = keras.models.Sequential()\n",
        "  nn_model.add(keras.layers.Dense(1400,activation = \"relu\",input_shape=(22277,)))\n",
        "  nn_model.add(keras.layers.Dense(800,activation = \"relu\"))\n",
        "  nn_model.add(keras.layers.Dense(1,activation = \"sigmoid\"))\n",
        "\n",
        "  opt = optimizers.Adam(learning_rate=0.05)\n",
        "  nn_model.compile(optimizer=opt,\n",
        "                loss='binary_crossentropy',\n",
        "                metrics=['accuracy'])\n",
        "    \n",
        "  return nn_model\n",
        "\n",
        "params={'batch_size':[15,20], \n",
        "        'epochs':[5,7]}\n",
        "\n",
        "my_classifier=KerasClassifier(make_model)\n",
        "validator_nn = GridSearchCV(my_classifier, param_grid=params,return_train_score=True)\n",
        "validator_nn.fit(train_x, train_y, verbose = 1)"
      ],
      "execution_count": null,
      "outputs": [
        {
          "output_type": "stream",
          "name": "stderr",
          "text": [
            "/usr/local/lib/python3.7/dist-packages/ipykernel_launcher.py:18: DeprecationWarning: KerasClassifier is deprecated, use Sci-Keras (https://github.com/adriangb/scikeras) instead.\n"
          ]
        },
        {
          "output_type": "stream",
          "name": "stdout",
          "text": [
            "Epoch 1/7\n",
            "5/5 [==============================] - 1s 180ms/step - loss: 19876.2402 - accuracy: 0.6143\n",
            "Epoch 2/7\n",
            "5/5 [==============================] - 1s 167ms/step - loss: 12261.3623 - accuracy: 0.6000\n",
            "Epoch 3/7\n",
            "5/5 [==============================] - 1s 171ms/step - loss: 3789.3911 - accuracy: 0.8143\n",
            "Epoch 4/7\n",
            "5/5 [==============================] - 1s 165ms/step - loss: 1608.9777 - accuracy: 0.8857\n",
            "Epoch 5/7\n",
            "5/5 [==============================] - 1s 167ms/step - loss: 2277.6890 - accuracy: 0.8286\n",
            "Epoch 6/7\n",
            "5/5 [==============================] - 1s 167ms/step - loss: 1316.8893 - accuracy: 0.9000\n",
            "Epoch 7/7\n",
            "5/5 [==============================] - 1s 163ms/step - loss: 278.5972 - accuracy: 0.9714\n",
            "2/2 [==============================] - 0s 41ms/step - loss: 54381.4297 - accuracy: 0.7778\n",
            "5/5 [==============================] - 0s 50ms/step - loss: 26.1581 - accuracy: 0.9857\n",
            "Epoch 1/7\n",
            "5/5 [==============================] - 1s 164ms/step - loss: 15955.4072 - accuracy: 0.5857\n",
            "Epoch 2/7\n",
            "5/5 [==============================] - 1s 163ms/step - loss: 7664.7266 - accuracy: 0.8000\n",
            "Epoch 3/7\n",
            "5/5 [==============================] - 1s 163ms/step - loss: 8837.5674 - accuracy: 0.7857\n",
            "Epoch 4/7\n",
            "5/5 [==============================] - 1s 167ms/step - loss: 2163.6084 - accuracy: 0.9143\n",
            "Epoch 5/7\n",
            "5/5 [==============================] - 1s 164ms/step - loss: 4433.5171 - accuracy: 0.8714\n",
            "Epoch 6/7\n",
            "5/5 [==============================] - 1s 164ms/step - loss: 11.9773 - accuracy: 0.9857\n",
            "Epoch 7/7\n",
            "5/5 [==============================] - 1s 163ms/step - loss: 779.6114 - accuracy: 0.9714\n",
            "2/2 [==============================] - 0s 33ms/step - loss: 7412.9663 - accuracy: 0.8889\n",
            "5/5 [==============================] - 0s 45ms/step - loss: 0.9628 - accuracy: 0.9857\n",
            "Epoch 1/7\n",
            "5/5 [==============================] - 1s 163ms/step - loss: 21358.8574 - accuracy: 0.6000\n",
            "Epoch 2/7\n",
            "5/5 [==============================] - 1s 160ms/step - loss: 9884.7686 - accuracy: 0.8143\n",
            "Epoch 3/7\n",
            "5/5 [==============================] - 1s 166ms/step - loss: 7032.2563 - accuracy: 0.8143\n",
            "Epoch 4/7\n",
            "5/5 [==============================] - 1s 168ms/step - loss: 5546.4707 - accuracy: 0.9143\n",
            "Epoch 5/7\n",
            "5/5 [==============================] - 1s 168ms/step - loss: 5047.3989 - accuracy: 0.8143\n",
            "Epoch 6/7\n",
            "5/5 [==============================] - 1s 164ms/step - loss: 628.3817 - accuracy: 0.9429\n",
            "Epoch 7/7\n",
            "5/5 [==============================] - 1s 162ms/step - loss: 1196.5775 - accuracy: 0.9571\n",
            "2/2 [==============================] - 0s 34ms/step - loss: 64218.5000 - accuracy: 0.6667\n",
            "5/5 [==============================] - 0s 45ms/step - loss: 0.0000e+00 - accuracy: 1.0000\n",
            "Epoch 1/7\n",
            "5/5 [==============================] - 1s 163ms/step - loss: 26356.6699 - accuracy: 0.5493\n",
            "Epoch 2/7\n",
            "5/5 [==============================] - 1s 164ms/step - loss: 8171.4189 - accuracy: 0.6901\n",
            "Epoch 3/7\n",
            "5/5 [==============================] - 1s 169ms/step - loss: 5825.8311 - accuracy: 0.8028\n",
            "Epoch 4/7\n",
            "5/5 [==============================] - 1s 166ms/step - loss: 2312.4709 - accuracy: 0.8310\n",
            "Epoch 5/7\n",
            "5/5 [==============================] - 1s 162ms/step - loss: 307.0294 - accuracy: 0.9577\n",
            "Epoch 6/7\n",
            "5/5 [==============================] - 1s 165ms/step - loss: 729.0472 - accuracy: 0.9296\n",
            "Epoch 7/7\n",
            "5/5 [==============================] - 1s 166ms/step - loss: 672.4083 - accuracy: 0.9718\n",
            "2/2 [==============================] - 0s 32ms/step - loss: 21837.7324 - accuracy: 0.7059\n",
            "5/5 [==============================] - 0s 46ms/step - loss: 120.6347 - accuracy: 0.9859\n",
            "Epoch 1/7\n",
            "5/5 [==============================] - 1s 167ms/step - loss: 34123.1328 - accuracy: 0.5634\n",
            "Epoch 2/7\n",
            "5/5 [==============================] - 1s 164ms/step - loss: 10231.6250 - accuracy: 0.7746\n",
            "Epoch 3/7\n",
            "5/5 [==============================] - 1s 171ms/step - loss: 11133.6416 - accuracy: 0.8028\n",
            "Epoch 4/7\n",
            "5/5 [==============================] - 1s 166ms/step - loss: 3146.2959 - accuracy: 0.7746\n",
            "Epoch 5/7\n",
            "5/5 [==============================] - 1s 171ms/step - loss: 6524.3213 - accuracy: 0.8028\n",
            "Epoch 6/7\n",
            "5/5 [==============================] - 1s 169ms/step - loss: 301.0346 - accuracy: 0.9718\n",
            "Epoch 7/7\n",
            "5/5 [==============================] - 1s 167ms/step - loss: 1628.0630 - accuracy: 0.8310\n",
            "2/2 [==============================] - 0s 33ms/step - loss: 2759.7017 - accuracy: 0.8824\n",
            "5/5 [==============================] - 0s 43ms/step - loss: 81.3361 - accuracy: 0.9859\n",
            "Epoch 1/7\n",
            "6/6 [==============================] - 2s 167ms/step - loss: 12849.8154 - accuracy: 0.5682\n",
            "Epoch 2/7\n",
            "6/6 [==============================] - 1s 164ms/step - loss: 14709.1133 - accuracy: 0.7273\n",
            "Epoch 3/7\n",
            "6/6 [==============================] - 1s 165ms/step - loss: 3652.0193 - accuracy: 0.8068\n",
            "Epoch 4/7\n",
            "6/6 [==============================] - 1s 168ms/step - loss: 2055.1201 - accuracy: 0.8750\n",
            "Epoch 5/7\n",
            "6/6 [==============================] - 1s 167ms/step - loss: 8314.1963 - accuracy: 0.8750\n",
            "Epoch 6/7\n",
            "6/6 [==============================] - 1s 166ms/step - loss: 3570.6929 - accuracy: 0.8523\n",
            "Epoch 7/7\n",
            "6/6 [==============================] - 1s 167ms/step - loss: 157.8272 - accuracy: 0.9545\n"
          ]
        },
        {
          "output_type": "execute_result",
          "data": {
            "text/plain": [
              "GridSearchCV(estimator=<keras.wrappers.scikit_learn.KerasClassifier object at 0x7fc0a2f28bd0>,\n",
              "             param_grid={'batch_size': [15], 'epochs': [7]},\n",
              "             return_train_score=True)"
            ]
          },
          "metadata": {},
          "execution_count": 15
        }
      ]
    },
    {
      "cell_type": "code",
      "metadata": {
        "id": "EA2ajwOvZ7dU"
      },
      "source": [
        "res = pd.DataFrame(validator_nn.cv_results_)\n",
        "res.pivot_table(index=[\"param_epochs\",\"param_batch_size\"],values=['mean_train_score',\"mean_test_score\"])"
      ],
      "execution_count": null,
      "outputs": []
    },
    {
      "cell_type": "code",
      "metadata": {
        "colab": {
          "base_uri": "https://localhost:8080/"
        },
        "id": "7rVG9VxEe722",
        "outputId": "e0b85a47-c5e3-4837-e0a3-ff0694da44c8"
      },
      "source": [
        "best_accuracy = validator_nn.best_score_\n",
        "best_params = validator_nn.best_params_\n",
        "print(\"Best Parameters: \", best_params)\n",
        "print(\"Best CV accuracy: \", best_accuracy)"
      ],
      "execution_count": null,
      "outputs": [
        {
          "output_type": "stream",
          "name": "stdout",
          "text": [
            "Best Parameters:  {'batch_size': 15, 'epochs': 7}\n",
            "Best CV accuracy:  0.7843137383460999\n"
          ]
        }
      ]
    },
    {
      "cell_type": "code",
      "metadata": {
        "colab": {
          "base_uri": "https://localhost:8080/"
        },
        "id": "AfG5-TViQN3w",
        "outputId": "2688be0d-e7da-4257-e2ff-e44b327407fe"
      },
      "source": [
        "best_model = validator_nn.best_estimator_.model\n",
        "loss,accuracy = best_model.evaluate(test_x,test_y.ravel())\n",
        "print(\"Accuracy Test: \", accuracy)\n",
        "print(\"Loss on Test: \", loss)"
      ],
      "execution_count": null,
      "outputs": [
        {
          "output_type": "stream",
          "name": "stdout",
          "text": [
            "1/1 [==============================] - 0s 258ms/step - loss: 1160.6202 - accuracy: 0.8462\n",
            "Accuracy Test:  0.8461538553237915\n",
            "Loss on Test:  1160.6202392578125\n"
          ]
        }
      ]
    },
    {
      "cell_type": "markdown",
      "metadata": {
        "id": "SpvSPdPH7smP"
      },
      "source": [
        "As it is shown by the results, the NN is able to reach 98% of accuracy on the training set. However, it is evident the presence of overfitting: the accuracy on the test set drops down to 84% and also the test loss is very high. The problem of overfitting is mainly due to the low number of examples and the high number of features (that in my case are represented by the number of genes = 22277). Since I can not increase the number of real examples, what I could do is to decrease the dimensionality of the dataset: that is, to reduce the number of genes to only the genes that are able to explain 95% of the dataset variability."
      ]
    },
    {
      "cell_type": "markdown",
      "metadata": {
        "id": "GNABt2jE9Vf0"
      },
      "source": [
        "## *Multilayer Perceptron (MLP) after dimensionality reduction*\n",
        "The idea is to find the components that are able to explain 95% of variability and to use that subset of data to train our MLP."
      ]
    },
    {
      "cell_type": "code",
      "metadata": {
        "colab": {
          "base_uri": "https://localhost:8080/"
        },
        "id": "uTFP6UPw9I0K",
        "outputId": "13b57865-8d50-4345-fab3-99bf00049cc8"
      },
      "source": [
        "#perform the PCA\n",
        "dim_reduction = sklearnPCA(n_components=0.95)\n",
        "trainx_reduced = dim_reduction.fit_transform(train_x)\n",
        "testx_reduced = dim_reduction.transform(test_x)\n",
        "print(trainx_reduced.shape)\n",
        "print(testx_reduced.shape)"
      ],
      "execution_count": null,
      "outputs": [
        {
          "output_type": "stream",
          "name": "stdout",
          "text": [
            "(88, 59)\n",
            "(26, 59)\n"
          ]
        }
      ]
    },
    {
      "cell_type": "markdown",
      "metadata": {
        "id": "xGVnlNtb_15Q"
      },
      "source": [
        "A total number of 59 components have been found. Now I can run again the same previous model, reducing the dimension of the Dense layers. In this case, I used as optimizer Adamax, which is a more stable variation of Adam optimizer."
      ]
    },
    {
      "cell_type": "code",
      "metadata": {
        "id": "syWJF0GpAL9C"
      },
      "source": [
        "def make_model(learning_rate):\n",
        "  set_seed(432)\n",
        "  nn_model_red = keras.models.Sequential()\n",
        "  nn_model_red.add(keras.layers.Dense(50, activation = \"relu\",input_shape=(59,)))\n",
        "  nn_model_red.add(keras.layers.Dense(30, activation = \"relu\"))\n",
        "  nn_model_red.add(keras.layers.Dense(1, activation = \"sigmoid\"))\n",
        "\n",
        "  opt = optimizers.Adam(learning_rate=learning_rate)\n",
        "  nn_model_red.compile(optimizer=opt,\n",
        "              loss='binary_crossentropy',\n",
        "              metrics=['accuracy'])\n",
        "  \n",
        "  return nn_model_red\n",
        "\n",
        "params={'batch_size':[15, 20, 25, 30, 35], \n",
        "        'epochs':[1, 3, 5, 10],\n",
        "        'learning_rate':[0.01,0.05,0.1]}\n",
        "\n",
        "my_classifier=KerasClassifier(make_model)\n",
        "validator_red_nn = GridSearchCV(my_classifier, param_grid=params,return_train_score=True)\n",
        "validator_red_nn.fit(trainx_reduced, train_y, verbose = 1)"
      ],
      "execution_count": null,
      "outputs": []
    },
    {
      "cell_type": "code",
      "metadata": {
        "colab": {
          "base_uri": "https://localhost:8080/",
          "height": 1000
        },
        "id": "3nT07X4RWqy2",
        "outputId": "36ab0a65-20f2-4eab-a8b3-aff14452663f"
      },
      "source": [
        "res = pd.DataFrame(validator_red_nn.cv_results_)\n",
        "res.pivot_table(index=[\"param_epochs\",\"param_batch_size\",\"param_learning_rate\"],values=['mean_train_score',\"mean_test_score\"])"
      ],
      "execution_count": null,
      "outputs": [
        {
          "output_type": "execute_result",
          "data": {
            "text/html": [
              "<div>\n",
              "<style scoped>\n",
              "    .dataframe tbody tr th:only-of-type {\n",
              "        vertical-align: middle;\n",
              "    }\n",
              "\n",
              "    .dataframe tbody tr th {\n",
              "        vertical-align: top;\n",
              "    }\n",
              "\n",
              "    .dataframe thead th {\n",
              "        text-align: right;\n",
              "    }\n",
              "</style>\n",
              "<table border=\"1\" class=\"dataframe\">\n",
              "  <thead>\n",
              "    <tr style=\"text-align: right;\">\n",
              "      <th></th>\n",
              "      <th></th>\n",
              "      <th></th>\n",
              "      <th>mean_test_score</th>\n",
              "      <th>mean_train_score</th>\n",
              "    </tr>\n",
              "    <tr>\n",
              "      <th>param_epochs</th>\n",
              "      <th>param_batch_size</th>\n",
              "      <th>param_learning_rate</th>\n",
              "      <th></th>\n",
              "      <th></th>\n",
              "    </tr>\n",
              "  </thead>\n",
              "  <tbody>\n",
              "    <tr>\n",
              "      <th rowspan=\"15\" valign=\"top\">1</th>\n",
              "      <th rowspan=\"3\" valign=\"top\">15</th>\n",
              "      <th>0.01</th>\n",
              "      <td>0.819608</td>\n",
              "      <td>0.920282</td>\n",
              "    </tr>\n",
              "    <tr>\n",
              "      <th>0.05</th>\n",
              "      <td>0.671242</td>\n",
              "      <td>0.792515</td>\n",
              "    </tr>\n",
              "    <tr>\n",
              "      <th>0.10</th>\n",
              "      <td>0.730065</td>\n",
              "      <td>0.766881</td>\n",
              "    </tr>\n",
              "    <tr>\n",
              "      <th rowspan=\"3\" valign=\"top\">20</th>\n",
              "      <th>0.01</th>\n",
              "      <td>0.717647</td>\n",
              "      <td>0.894608</td>\n",
              "    </tr>\n",
              "    <tr>\n",
              "      <th>0.05</th>\n",
              "      <td>0.771895</td>\n",
              "      <td>0.832596</td>\n",
              "    </tr>\n",
              "    <tr>\n",
              "      <th>0.10</th>\n",
              "      <td>0.603922</td>\n",
              "      <td>0.721690</td>\n",
              "    </tr>\n",
              "    <tr>\n",
              "      <th rowspan=\"3\" valign=\"top\">25</th>\n",
              "      <th>0.01</th>\n",
              "      <td>0.636601</td>\n",
              "      <td>0.798068</td>\n",
              "    </tr>\n",
              "    <tr>\n",
              "      <th>0.05</th>\n",
              "      <td>0.750327</td>\n",
              "      <td>0.838068</td>\n",
              "    </tr>\n",
              "    <tr>\n",
              "      <th>0.10</th>\n",
              "      <td>0.682353</td>\n",
              "      <td>0.718833</td>\n",
              "    </tr>\n",
              "    <tr>\n",
              "      <th rowspan=\"3\" valign=\"top\">30</th>\n",
              "      <th>0.01</th>\n",
              "      <td>0.670588</td>\n",
              "      <td>0.812193</td>\n",
              "    </tr>\n",
              "    <tr>\n",
              "      <th>0.05</th>\n",
              "      <td>0.750980</td>\n",
              "      <td>0.817907</td>\n",
              "    </tr>\n",
              "    <tr>\n",
              "      <th>0.10</th>\n",
              "      <td>0.715033</td>\n",
              "      <td>0.752998</td>\n",
              "    </tr>\n",
              "    <tr>\n",
              "      <th rowspan=\"3\" valign=\"top\">35</th>\n",
              "      <th>0.01</th>\n",
              "      <td>0.633987</td>\n",
              "      <td>0.727646</td>\n",
              "    </tr>\n",
              "    <tr>\n",
              "      <th>0.05</th>\n",
              "      <td>0.615033</td>\n",
              "      <td>0.695332</td>\n",
              "    </tr>\n",
              "    <tr>\n",
              "      <th>0.10</th>\n",
              "      <td>0.522222</td>\n",
              "      <td>0.652918</td>\n",
              "    </tr>\n",
              "    <tr>\n",
              "      <th rowspan=\"15\" valign=\"top\">3</th>\n",
              "      <th rowspan=\"3\" valign=\"top\">15</th>\n",
              "      <th>0.01</th>\n",
              "      <td>0.784967</td>\n",
              "      <td>0.977304</td>\n",
              "    </tr>\n",
              "    <tr>\n",
              "      <th>0.05</th>\n",
              "      <td>0.750327</td>\n",
              "      <td>0.914567</td>\n",
              "    </tr>\n",
              "    <tr>\n",
              "      <th>0.10</th>\n",
              "      <td>0.815686</td>\n",
              "      <td>0.875211</td>\n",
              "    </tr>\n",
              "    <tr>\n",
              "      <th rowspan=\"3\" valign=\"top\">20</th>\n",
              "      <th>0.01</th>\n",
              "      <td>0.749673</td>\n",
              "      <td>0.974326</td>\n",
              "    </tr>\n",
              "    <tr>\n",
              "      <th>0.05</th>\n",
              "      <td>0.737255</td>\n",
              "      <td>0.926157</td>\n",
              "    </tr>\n",
              "    <tr>\n",
              "      <th>0.10</th>\n",
              "      <td>0.818954</td>\n",
              "      <td>0.917626</td>\n",
              "    </tr>\n",
              "    <tr>\n",
              "      <th rowspan=\"3\" valign=\"top\">25</th>\n",
              "      <th>0.01</th>\n",
              "      <td>0.782353</td>\n",
              "      <td>0.968732</td>\n",
              "    </tr>\n",
              "    <tr>\n",
              "      <th>0.05</th>\n",
              "      <td>0.783007</td>\n",
              "      <td>0.943139</td>\n",
              "    </tr>\n",
              "    <tr>\n",
              "      <th>0.10</th>\n",
              "      <td>0.647059</td>\n",
              "      <td>0.792113</td>\n",
              "    </tr>\n",
              "    <tr>\n",
              "      <th rowspan=\"3\" valign=\"top\">30</th>\n",
              "      <th>0.01</th>\n",
              "      <td>0.771242</td>\n",
              "      <td>0.951509</td>\n",
              "    </tr>\n",
              "    <tr>\n",
              "      <th>0.05</th>\n",
              "      <td>0.816993</td>\n",
              "      <td>0.940402</td>\n",
              "    </tr>\n",
              "    <tr>\n",
              "      <th>0.10</th>\n",
              "      <td>0.762745</td>\n",
              "      <td>0.871710</td>\n",
              "    </tr>\n",
              "    <tr>\n",
              "      <th rowspan=\"3\" valign=\"top\">35</th>\n",
              "      <th>0.01</th>\n",
              "      <td>0.805882</td>\n",
              "      <td>0.948853</td>\n",
              "    </tr>\n",
              "    <tr>\n",
              "      <th>0.05</th>\n",
              "      <td>0.761438</td>\n",
              "      <td>0.917505</td>\n",
              "    </tr>\n",
              "    <tr>\n",
              "      <th>0.10</th>\n",
              "      <td>0.682353</td>\n",
              "      <td>0.872153</td>\n",
              "    </tr>\n",
              "    <tr>\n",
              "      <th rowspan=\"15\" valign=\"top\">5</th>\n",
              "      <th rowspan=\"3\" valign=\"top\">15</th>\n",
              "      <th>0.01</th>\n",
              "      <td>0.773203</td>\n",
              "      <td>0.997143</td>\n",
              "    </tr>\n",
              "    <tr>\n",
              "      <th>0.05</th>\n",
              "      <td>0.852288</td>\n",
              "      <td>0.965915</td>\n",
              "    </tr>\n",
              "    <tr>\n",
              "      <th>0.10</th>\n",
              "      <td>0.840523</td>\n",
              "      <td>0.948732</td>\n",
              "    </tr>\n",
              "    <tr>\n",
              "      <th rowspan=\"3\" valign=\"top\">20</th>\n",
              "      <th>0.01</th>\n",
              "      <td>0.795425</td>\n",
              "      <td>0.991469</td>\n",
              "    </tr>\n",
              "    <tr>\n",
              "      <th>0.05</th>\n",
              "      <td>0.772549</td>\n",
              "      <td>0.960282</td>\n",
              "    </tr>\n",
              "    <tr>\n",
              "      <th>0.10</th>\n",
              "      <td>0.726144</td>\n",
              "      <td>0.923260</td>\n",
              "    </tr>\n",
              "    <tr>\n",
              "      <th rowspan=\"3\" valign=\"top\">25</th>\n",
              "      <th>0.01</th>\n",
              "      <td>0.816993</td>\n",
              "      <td>0.991469</td>\n",
              "    </tr>\n",
              "    <tr>\n",
              "      <th>0.05</th>\n",
              "      <td>0.782353</td>\n",
              "      <td>0.962978</td>\n",
              "    </tr>\n",
              "    <tr>\n",
              "      <th>0.10</th>\n",
              "      <td>0.737909</td>\n",
              "      <td>0.866237</td>\n",
              "    </tr>\n",
              "    <tr>\n",
              "      <th rowspan=\"3\" valign=\"top\">30</th>\n",
              "      <th>0.01</th>\n",
              "      <td>0.816340</td>\n",
              "      <td>0.985755</td>\n",
              "    </tr>\n",
              "    <tr>\n",
              "      <th>0.05</th>\n",
              "      <td>0.739216</td>\n",
              "      <td>0.963018</td>\n",
              "    </tr>\n",
              "    <tr>\n",
              "      <th>0.10</th>\n",
              "      <td>0.739869</td>\n",
              "      <td>0.894286</td>\n",
              "    </tr>\n",
              "    <tr>\n",
              "      <th rowspan=\"3\" valign=\"top\">35</th>\n",
              "      <th>0.01</th>\n",
              "      <td>0.816993</td>\n",
              "      <td>0.991469</td>\n",
              "    </tr>\n",
              "    <tr>\n",
              "      <th>0.05</th>\n",
              "      <td>0.773203</td>\n",
              "      <td>0.931871</td>\n",
              "    </tr>\n",
              "    <tr>\n",
              "      <th>0.10</th>\n",
              "      <td>0.579739</td>\n",
              "      <td>0.826600</td>\n",
              "    </tr>\n",
              "    <tr>\n",
              "      <th rowspan=\"15\" valign=\"top\">10</th>\n",
              "      <th rowspan=\"3\" valign=\"top\">15</th>\n",
              "      <th>0.01</th>\n",
              "      <td>0.784314</td>\n",
              "      <td>1.000000</td>\n",
              "    </tr>\n",
              "    <tr>\n",
              "      <th>0.05</th>\n",
              "      <td>0.841176</td>\n",
              "      <td>0.991429</td>\n",
              "    </tr>\n",
              "    <tr>\n",
              "      <th>0.10</th>\n",
              "      <td>0.828758</td>\n",
              "      <td>0.963058</td>\n",
              "    </tr>\n",
              "    <tr>\n",
              "      <th rowspan=\"3\" valign=\"top\">20</th>\n",
              "      <th>0.01</th>\n",
              "      <td>0.828758</td>\n",
              "      <td>1.000000</td>\n",
              "    </tr>\n",
              "    <tr>\n",
              "      <th>0.05</th>\n",
              "      <td>0.784314</td>\n",
              "      <td>0.977304</td>\n",
              "    </tr>\n",
              "    <tr>\n",
              "      <th>0.10</th>\n",
              "      <td>0.807190</td>\n",
              "      <td>0.968692</td>\n",
              "    </tr>\n",
              "    <tr>\n",
              "      <th rowspan=\"3\" valign=\"top\">25</th>\n",
              "      <th>0.01</th>\n",
              "      <td>0.795425</td>\n",
              "      <td>0.997143</td>\n",
              "    </tr>\n",
              "    <tr>\n",
              "      <th>0.05</th>\n",
              "      <td>0.783660</td>\n",
              "      <td>0.971469</td>\n",
              "    </tr>\n",
              "    <tr>\n",
              "      <th>0.10</th>\n",
              "      <td>0.773203</td>\n",
              "      <td>0.888773</td>\n",
              "    </tr>\n",
              "    <tr>\n",
              "      <th rowspan=\"3\" valign=\"top\">30</th>\n",
              "      <th>0.01</th>\n",
              "      <td>0.749673</td>\n",
              "      <td>0.997143</td>\n",
              "    </tr>\n",
              "    <tr>\n",
              "      <th>0.05</th>\n",
              "      <td>0.794771</td>\n",
              "      <td>0.974286</td>\n",
              "    </tr>\n",
              "    <tr>\n",
              "      <th>0.10</th>\n",
              "      <td>0.784314</td>\n",
              "      <td>0.920000</td>\n",
              "    </tr>\n",
              "    <tr>\n",
              "      <th rowspan=\"3\" valign=\"top\">35</th>\n",
              "      <th>0.01</th>\n",
              "      <td>0.805229</td>\n",
              "      <td>1.000000</td>\n",
              "    </tr>\n",
              "    <tr>\n",
              "      <th>0.05</th>\n",
              "      <td>0.786275</td>\n",
              "      <td>0.960000</td>\n",
              "    </tr>\n",
              "    <tr>\n",
              "      <th>0.10</th>\n",
              "      <td>0.647059</td>\n",
              "      <td>0.874930</td>\n",
              "    </tr>\n",
              "  </tbody>\n",
              "</table>\n",
              "</div>"
            ],
            "text/plain": [
              "                                                   mean_test_score  mean_train_score\n",
              "param_epochs param_batch_size param_learning_rate                                   \n",
              "1            15               0.01                        0.819608          0.920282\n",
              "                              0.05                        0.671242          0.792515\n",
              "                              0.10                        0.730065          0.766881\n",
              "             20               0.01                        0.717647          0.894608\n",
              "                              0.05                        0.771895          0.832596\n",
              "                              0.10                        0.603922          0.721690\n",
              "             25               0.01                        0.636601          0.798068\n",
              "                              0.05                        0.750327          0.838068\n",
              "                              0.10                        0.682353          0.718833\n",
              "             30               0.01                        0.670588          0.812193\n",
              "                              0.05                        0.750980          0.817907\n",
              "                              0.10                        0.715033          0.752998\n",
              "             35               0.01                        0.633987          0.727646\n",
              "                              0.05                        0.615033          0.695332\n",
              "                              0.10                        0.522222          0.652918\n",
              "3            15               0.01                        0.784967          0.977304\n",
              "                              0.05                        0.750327          0.914567\n",
              "                              0.10                        0.815686          0.875211\n",
              "             20               0.01                        0.749673          0.974326\n",
              "                              0.05                        0.737255          0.926157\n",
              "                              0.10                        0.818954          0.917626\n",
              "             25               0.01                        0.782353          0.968732\n",
              "                              0.05                        0.783007          0.943139\n",
              "                              0.10                        0.647059          0.792113\n",
              "             30               0.01                        0.771242          0.951509\n",
              "                              0.05                        0.816993          0.940402\n",
              "                              0.10                        0.762745          0.871710\n",
              "             35               0.01                        0.805882          0.948853\n",
              "                              0.05                        0.761438          0.917505\n",
              "                              0.10                        0.682353          0.872153\n",
              "5            15               0.01                        0.773203          0.997143\n",
              "                              0.05                        0.852288          0.965915\n",
              "                              0.10                        0.840523          0.948732\n",
              "             20               0.01                        0.795425          0.991469\n",
              "                              0.05                        0.772549          0.960282\n",
              "                              0.10                        0.726144          0.923260\n",
              "             25               0.01                        0.816993          0.991469\n",
              "                              0.05                        0.782353          0.962978\n",
              "                              0.10                        0.737909          0.866237\n",
              "             30               0.01                        0.816340          0.985755\n",
              "                              0.05                        0.739216          0.963018\n",
              "                              0.10                        0.739869          0.894286\n",
              "             35               0.01                        0.816993          0.991469\n",
              "                              0.05                        0.773203          0.931871\n",
              "                              0.10                        0.579739          0.826600\n",
              "10           15               0.01                        0.784314          1.000000\n",
              "                              0.05                        0.841176          0.991429\n",
              "                              0.10                        0.828758          0.963058\n",
              "             20               0.01                        0.828758          1.000000\n",
              "                              0.05                        0.784314          0.977304\n",
              "                              0.10                        0.807190          0.968692\n",
              "             25               0.01                        0.795425          0.997143\n",
              "                              0.05                        0.783660          0.971469\n",
              "                              0.10                        0.773203          0.888773\n",
              "             30               0.01                        0.749673          0.997143\n",
              "                              0.05                        0.794771          0.974286\n",
              "                              0.10                        0.784314          0.920000\n",
              "             35               0.01                        0.805229          1.000000\n",
              "                              0.05                        0.786275          0.960000\n",
              "                              0.10                        0.647059          0.874930"
            ]
          },
          "metadata": {},
          "execution_count": 35
        }
      ]
    },
    {
      "cell_type": "code",
      "metadata": {
        "colab": {
          "base_uri": "https://localhost:8080/"
        },
        "id": "hlhFpVsTKrrZ",
        "outputId": "ecd4a041-9b83-4260-dbe7-1e4bd80a9c1b"
      },
      "source": [
        "print(\"Best hyperparameters: \",validator_red_nn.best_params_)\n",
        "print(\"Best CV accuracy: \",validator_red_nn.best_score_)"
      ],
      "execution_count": null,
      "outputs": [
        {
          "output_type": "stream",
          "name": "stdout",
          "text": [
            "Best hyperparameters:  {'batch_size': 15, 'epochs': 5, 'learning_rate': 0.05}\n",
            "Best CV accuracy:  0.8522875785827637\n"
          ]
        }
      ]
    },
    {
      "cell_type": "code",
      "metadata": {
        "colab": {
          "base_uri": "https://localhost:8080/"
        },
        "id": "wJE4RTpKLnmm",
        "outputId": "2d62a8d1-59a2-4dca-ede0-dc4a3d30ed80"
      },
      "source": [
        "best_model = validator_red_nn.best_estimator_.model\n",
        "loss,accuracy = best_model.evaluate(testx_reduced,test_y)\n",
        "print(\"Accuracy Test: \", accuracy)\n",
        "print(\"Loss on Test: \", loss)"
      ],
      "execution_count": null,
      "outputs": [
        {
          "output_type": "stream",
          "name": "stdout",
          "text": [
            "1/1 [==============================] - 0s 122ms/step - loss: 0.9116 - accuracy: 0.9231\n",
            "Accuracy Test:  0.9230769276618958\n",
            "Loss on Test:  0.9116257429122925\n"
          ]
        }
      ]
    },
    {
      "cell_type": "markdown",
      "metadata": {
        "id": "GvGd8ihyBuMz"
      },
      "source": [
        "Using PCA before running the MLP has demonstrated to help the training and reduce the overfitting: the accuracy on the training set has reached 96%, while the accuracy on the test set 92%. Thus, using a MLP with PCA has strongly increased the accuracy and decreased the problem of overfitting, even if is still present if we look at the CV results."
      ]
    },
    {
      "cell_type": "markdown",
      "metadata": {
        "id": "Gk1CbOLS1Lip"
      },
      "source": [
        "## *MLP with PCA and Dropout*\n",
        "Dropout is a techinque used to prevent overfitting and it is the most popular regularization technique for DNNs. In few words, during the training procedure, at each iteration, a neuron is temporarily disabled with a probability p. This probability is an hyperparameter and is called dropout-rate. In my case I used a dropout-rate equal to 0.2 since I am not actually dealing with a DNN."
      ]
    },
    {
      "cell_type": "code",
      "metadata": {
        "id": "T1DZ6g-O1Vjq",
        "colab": {
          "base_uri": "https://localhost:8080/"
        },
        "outputId": "1aa120be-2281-4dcc-992f-433be7fb9236"
      },
      "source": [
        "def make_model():\n",
        "  set_seed(432)\n",
        "  nn_model_red = keras.models.Sequential()\n",
        "  nn_model_red.add(keras.layers.Dense(50, activation = \"relu\",input_shape=(59,)))\n",
        "  nn_model_red.add(keras.layers.Dropout(0.2))\n",
        "  nn_model_red.add(keras.layers.Dense(30, activation = \"relu\"))\n",
        "  nn_model_red.add(keras.layers.Dense(1, activation = \"sigmoid\"))\n",
        "\n",
        "  opt = optimizers.Adam(learning_rate=0.05)\n",
        "  nn_model_red.compile(optimizer=opt,\n",
        "                loss='binary_crossentropy',\n",
        "                metrics=['accuracy'])\n",
        "  return nn_model_red\n",
        "params={'batch_size':[15, 20, 25], \n",
        "        'epochs':[3, 5,7]}\n",
        "\n",
        "my_classifier=KerasClassifier(make_model)\n",
        "validator_red_drop_nn = GridSearchCV(my_classifier, param_grid=params,return_train_score=True)\n",
        "validator_red_drop_nn.fit(trainx_reduced, train_y, verbose = 1)"
      ],
      "execution_count": null,
      "outputs": [
        {
          "output_type": "stream",
          "name": "stderr",
          "text": [
            "/usr/local/lib/python3.7/dist-packages/ipykernel_launcher.py:17: DeprecationWarning: KerasClassifier is deprecated, use Sci-Keras (https://github.com/adriangb/scikeras) instead.\n"
          ]
        },
        {
          "output_type": "stream",
          "name": "stdout",
          "text": [
            "Epoch 1/3\n",
            "5/5 [==============================] - 1s 3ms/step - loss: 10.7099 - accuracy: 0.5714\n",
            "Epoch 2/3\n",
            "5/5 [==============================] - 0s 3ms/step - loss: 1.6205 - accuracy: 0.8429\n",
            "Epoch 3/3\n",
            "5/5 [==============================] - 0s 3ms/step - loss: 0.6878 - accuracy: 0.9000\n",
            "2/2 [==============================] - 0s 6ms/step - loss: 0.9545 - accuracy: 0.8333\n",
            "5/5 [==============================] - 0s 3ms/step - loss: 0.2386 - accuracy: 0.8714\n",
            "Epoch 1/3\n",
            "5/5 [==============================] - 1s 3ms/step - loss: 10.0720 - accuracy: 0.5714\n",
            "Epoch 2/3\n",
            "5/5 [==============================] - 0s 3ms/step - loss: 3.9340 - accuracy: 0.7143\n",
            "Epoch 3/3\n",
            "5/5 [==============================] - 0s 3ms/step - loss: 1.8903 - accuracy: 0.8857\n",
            "2/2 [==============================] - 0s 5ms/step - loss: 2.5052 - accuracy: 0.8333\n",
            "5/5 [==============================] - 0s 3ms/step - loss: 1.5790 - accuracy: 0.9429\n",
            "Epoch 1/3\n",
            "5/5 [==============================] - 1s 4ms/step - loss: 8.2232 - accuracy: 0.6143\n",
            "Epoch 2/3\n",
            "5/5 [==============================] - 0s 3ms/step - loss: 3.4663 - accuracy: 0.8000\n",
            "Epoch 3/3\n",
            "5/5 [==============================] - 0s 4ms/step - loss: 0.2571 - accuracy: 0.9714\n",
            "2/2 [==============================] - 0s 5ms/step - loss: 14.1809 - accuracy: 0.7778\n",
            "5/5 [==============================] - 0s 2ms/step - loss: 0.2538 - accuracy: 0.9429\n",
            "Epoch 1/3\n",
            "5/5 [==============================] - 1s 4ms/step - loss: 11.0894 - accuracy: 0.6197\n",
            "Epoch 2/3\n",
            "5/5 [==============================] - 0s 3ms/step - loss: 3.6310 - accuracy: 0.8028\n",
            "Epoch 3/3\n",
            "5/5 [==============================] - 0s 4ms/step - loss: 1.4534 - accuracy: 0.7606\n",
            "2/2 [==============================] - 0s 7ms/step - loss: 1.9199 - accuracy: 0.7647\n",
            "5/5 [==============================] - 0s 3ms/step - loss: 0.3412 - accuracy: 0.8451\n",
            "Epoch 1/3\n",
            "5/5 [==============================] - 1s 4ms/step - loss: 11.5195 - accuracy: 0.6197\n",
            "Epoch 2/3\n",
            "5/5 [==============================] - 0s 4ms/step - loss: 4.3167 - accuracy: 0.6901\n",
            "Epoch 3/3\n",
            "5/5 [==============================] - 0s 3ms/step - loss: 1.4651 - accuracy: 0.8873\n",
            "2/2 [==============================] - 0s 7ms/step - loss: 1.8708 - accuracy: 0.8824\n",
            "5/5 [==============================] - 0s 3ms/step - loss: 0.0494 - accuracy: 0.9718\n",
            "Epoch 1/5\n",
            "5/5 [==============================] - 1s 4ms/step - loss: 10.7099 - accuracy: 0.5714\n",
            "Epoch 2/5\n",
            "5/5 [==============================] - 0s 3ms/step - loss: 1.6205 - accuracy: 0.8429\n",
            "Epoch 3/5\n",
            "5/5 [==============================] - 0s 4ms/step - loss: 0.6878 - accuracy: 0.9000\n",
            "Epoch 4/5\n",
            "5/5 [==============================] - 0s 3ms/step - loss: 0.3004 - accuracy: 0.8857\n",
            "Epoch 5/5\n",
            "5/5 [==============================] - 0s 4ms/step - loss: 0.1742 - accuracy: 0.9429\n",
            "2/2 [==============================] - 0s 6ms/step - loss: 0.7444 - accuracy: 0.8333\n",
            "5/5 [==============================] - 0s 3ms/step - loss: 0.0732 - accuracy: 0.9571\n",
            "Epoch 1/5\n",
            "5/5 [==============================] - 1s 4ms/step - loss: 10.0720 - accuracy: 0.5714\n",
            "Epoch 2/5\n",
            "5/5 [==============================] - 0s 5ms/step - loss: 3.9340 - accuracy: 0.7143\n",
            "Epoch 3/5\n",
            "5/5 [==============================] - 0s 5ms/step - loss: 1.8903 - accuracy: 0.8857\n",
            "Epoch 4/5\n",
            "5/5 [==============================] - 0s 3ms/step - loss: 1.3696 - accuracy: 0.9143\n",
            "Epoch 5/5\n",
            "5/5 [==============================] - 0s 4ms/step - loss: 0.1016 - accuracy: 0.9286\n",
            "2/2 [==============================] - 0s 5ms/step - loss: 2.5817 - accuracy: 0.8889\n",
            "5/5 [==============================] - 0s 3ms/step - loss: 0.2600 - accuracy: 0.9571\n",
            "Epoch 1/5\n",
            "5/5 [==============================] - 1s 4ms/step - loss: 8.2232 - accuracy: 0.6143\n",
            "Epoch 2/5\n",
            "5/5 [==============================] - 0s 3ms/step - loss: 3.4663 - accuracy: 0.8000\n",
            "Epoch 3/5\n",
            "5/5 [==============================] - 0s 4ms/step - loss: 0.2571 - accuracy: 0.9714\n",
            "Epoch 4/5\n",
            "5/5 [==============================] - 0s 3ms/step - loss: 0.1693 - accuracy: 0.9429\n",
            "Epoch 5/5\n",
            "5/5 [==============================] - 0s 3ms/step - loss: 0.3674 - accuracy: 0.9714\n",
            "2/2 [==============================] - 0s 6ms/step - loss: 14.3835 - accuracy: 0.8333\n",
            "5/5 [==============================] - 0s 3ms/step - loss: 0.0236 - accuracy: 1.0000\n",
            "Epoch 1/5\n",
            "5/5 [==============================] - 1s 3ms/step - loss: 11.0894 - accuracy: 0.6197\n",
            "Epoch 2/5\n",
            "5/5 [==============================] - 0s 3ms/step - loss: 3.6310 - accuracy: 0.8028\n",
            "Epoch 3/5\n",
            "5/5 [==============================] - 0s 4ms/step - loss: 1.4534 - accuracy: 0.7606\n",
            "Epoch 4/5\n",
            "5/5 [==============================] - 0s 4ms/step - loss: 0.3128 - accuracy: 0.9014\n",
            "Epoch 5/5\n",
            "5/5 [==============================] - 0s 5ms/step - loss: 1.6487 - accuracy: 0.9577\n",
            "2/2 [==============================] - 0s 8ms/step - loss: 0.9171 - accuracy: 0.8824\n",
            "5/5 [==============================] - 0s 3ms/step - loss: 0.0619 - accuracy: 0.9718\n",
            "Epoch 1/5\n",
            "5/5 [==============================] - 1s 3ms/step - loss: 11.5195 - accuracy: 0.6197\n",
            "Epoch 2/5\n",
            "5/5 [==============================] - 0s 3ms/step - loss: 4.3167 - accuracy: 0.6901\n",
            "Epoch 3/5\n",
            "5/5 [==============================] - 0s 4ms/step - loss: 1.4651 - accuracy: 0.8873\n",
            "Epoch 4/5\n",
            "5/5 [==============================] - 0s 4ms/step - loss: 0.7608 - accuracy: 0.9718\n",
            "Epoch 5/5\n",
            "5/5 [==============================] - 0s 3ms/step - loss: 0.1897 - accuracy: 0.9437\n",
            "2/2 [==============================] - 0s 6ms/step - loss: 3.3813 - accuracy: 0.8235\n",
            "5/5 [==============================] - 0s 3ms/step - loss: 0.0269 - accuracy: 0.9859\n",
            "Epoch 1/7\n",
            "5/5 [==============================] - 1s 4ms/step - loss: 10.7099 - accuracy: 0.5714\n",
            "Epoch 2/7\n",
            "5/5 [==============================] - 0s 3ms/step - loss: 1.6205 - accuracy: 0.8429\n",
            "Epoch 3/7\n",
            "5/5 [==============================] - 0s 4ms/step - loss: 0.6878 - accuracy: 0.9000\n",
            "Epoch 4/7\n",
            "5/5 [==============================] - 0s 3ms/step - loss: 0.3004 - accuracy: 0.8857\n",
            "Epoch 5/7\n",
            "5/5 [==============================] - 0s 4ms/step - loss: 0.1742 - accuracy: 0.9429\n",
            "Epoch 6/7\n",
            "5/5 [==============================] - 0s 4ms/step - loss: 0.1131 - accuracy: 0.9571\n",
            "Epoch 7/7\n",
            "5/5 [==============================] - 0s 6ms/step - loss: 0.0657 - accuracy: 0.9571\n",
            "2/2 [==============================] - 0s 6ms/step - loss: 0.6534 - accuracy: 0.7778\n",
            "5/5 [==============================] - 0s 3ms/step - loss: 0.0609 - accuracy: 0.9571\n",
            "Epoch 1/7\n",
            "5/5 [==============================] - 1s 3ms/step - loss: 10.0720 - accuracy: 0.5714\n",
            "Epoch 2/7\n",
            "5/5 [==============================] - 0s 3ms/step - loss: 3.9340 - accuracy: 0.7143\n",
            "Epoch 3/7\n",
            "5/5 [==============================] - 0s 4ms/step - loss: 1.8903 - accuracy: 0.8857\n",
            "Epoch 4/7\n",
            "5/5 [==============================] - 0s 4ms/step - loss: 1.3696 - accuracy: 0.9143\n",
            "Epoch 5/7\n",
            "5/5 [==============================] - 0s 4ms/step - loss: 0.1016 - accuracy: 0.9286\n",
            "Epoch 6/7\n",
            "5/5 [==============================] - 0s 3ms/step - loss: 0.6006 - accuracy: 0.9571\n",
            "Epoch 7/7\n",
            "5/5 [==============================] - 0s 4ms/step - loss: 0.1562 - accuracy: 0.9714\n",
            "2/2 [==============================] - 0s 6ms/step - loss: 2.0696 - accuracy: 0.9444\n",
            "5/5 [==============================] - 0s 3ms/step - loss: 0.0801 - accuracy: 0.9714\n",
            "Epoch 1/7\n",
            "5/5 [==============================] - 1s 4ms/step - loss: 8.2232 - accuracy: 0.6143\n",
            "Epoch 2/7\n",
            "5/5 [==============================] - 0s 4ms/step - loss: 3.4663 - accuracy: 0.8000\n",
            "Epoch 3/7\n",
            "5/5 [==============================] - 0s 4ms/step - loss: 0.2571 - accuracy: 0.9714\n",
            "Epoch 4/7\n",
            "5/5 [==============================] - 0s 3ms/step - loss: 0.1693 - accuracy: 0.9429\n",
            "Epoch 5/7\n",
            "5/5 [==============================] - 0s 4ms/step - loss: 0.3674 - accuracy: 0.9714\n",
            "Epoch 6/7\n",
            "5/5 [==============================] - 0s 4ms/step - loss: 0.0149 - accuracy: 1.0000\n",
            "Epoch 7/7\n",
            "5/5 [==============================] - 0s 4ms/step - loss: 0.1872 - accuracy: 0.9857\n",
            "2/2 [==============================] - 0s 7ms/step - loss: 15.1445 - accuracy: 0.8333\n",
            "5/5 [==============================] - 0s 3ms/step - loss: 0.0109 - accuracy: 1.0000\n",
            "Epoch 1/7\n",
            "5/5 [==============================] - 1s 3ms/step - loss: 11.0894 - accuracy: 0.6197\n",
            "Epoch 2/7\n",
            "5/5 [==============================] - 0s 3ms/step - loss: 3.6310 - accuracy: 0.8028\n",
            "Epoch 3/7\n",
            "5/5 [==============================] - 0s 3ms/step - loss: 1.4534 - accuracy: 0.7606\n",
            "Epoch 4/7\n",
            "5/5 [==============================] - 0s 3ms/step - loss: 0.3128 - accuracy: 0.9014\n",
            "Epoch 5/7\n",
            "5/5 [==============================] - 0s 5ms/step - loss: 1.6487 - accuracy: 0.9577\n",
            "Epoch 6/7\n",
            "5/5 [==============================] - 0s 4ms/step - loss: 0.0989 - accuracy: 0.9577\n",
            "Epoch 7/7\n",
            "5/5 [==============================] - 0s 3ms/step - loss: 0.0333 - accuracy: 0.9859\n",
            "2/2 [==============================] - 0s 7ms/step - loss: 1.7023 - accuracy: 0.8235\n",
            "5/5 [==============================] - 0s 3ms/step - loss: 0.0236 - accuracy: 0.9859\n",
            "Epoch 1/7\n",
            "5/5 [==============================] - 1s 4ms/step - loss: 11.5195 - accuracy: 0.6197\n",
            "Epoch 2/7\n",
            "5/5 [==============================] - 0s 4ms/step - loss: 4.3167 - accuracy: 0.6901\n",
            "Epoch 3/7\n",
            "5/5 [==============================] - 0s 4ms/step - loss: 1.4651 - accuracy: 0.8873\n",
            "Epoch 4/7\n",
            "5/5 [==============================] - 0s 3ms/step - loss: 0.7608 - accuracy: 0.9718\n",
            "Epoch 5/7\n",
            "5/5 [==============================] - 0s 3ms/step - loss: 0.1897 - accuracy: 0.9437\n",
            "Epoch 6/7\n",
            "5/5 [==============================] - 0s 4ms/step - loss: 0.0391 - accuracy: 0.9859\n",
            "Epoch 7/7\n",
            "5/5 [==============================] - 0s 3ms/step - loss: 0.0214 - accuracy: 0.9859\n",
            "2/2 [==============================] - 0s 9ms/step - loss: 2.9926 - accuracy: 0.8824\n",
            "5/5 [==============================] - 0s 3ms/step - loss: 0.0135 - accuracy: 0.9859\n",
            "Epoch 1/3\n",
            "4/4 [==============================] - 1s 4ms/step - loss: 11.0994 - accuracy: 0.5714\n",
            "Epoch 2/3\n",
            "4/4 [==============================] - 0s 5ms/step - loss: 3.4273 - accuracy: 0.8000\n",
            "Epoch 3/3\n",
            "4/4 [==============================] - 0s 5ms/step - loss: 0.5105 - accuracy: 0.9143\n",
            "1/1 [==============================] - 0s 126ms/step - loss: 2.7845 - accuracy: 0.9444\n",
            "4/4 [==============================] - 0s 3ms/step - loss: 0.1464 - accuracy: 0.9286\n",
            "Epoch 1/3\n",
            "4/4 [==============================] - 1s 4ms/step - loss: 11.1028 - accuracy: 0.6000\n",
            "Epoch 2/3\n",
            "4/4 [==============================] - 0s 6ms/step - loss: 5.1653 - accuracy: 0.8143\n",
            "Epoch 3/3\n",
            "4/4 [==============================] - 0s 5ms/step - loss: 1.7473 - accuracy: 0.8857\n",
            "1/1 [==============================] - 0s 128ms/step - loss: 2.9407 - accuracy: 0.8889\n",
            "4/4 [==============================] - 0s 3ms/step - loss: 0.3111 - accuracy: 0.9571\n",
            "Epoch 1/3\n",
            "4/4 [==============================] - 1s 4ms/step - loss: 9.0550 - accuracy: 0.5571\n",
            "Epoch 2/3\n",
            "4/4 [==============================] - 0s 4ms/step - loss: 2.6498 - accuracy: 0.8429\n",
            "Epoch 3/3\n",
            "4/4 [==============================] - 0s 5ms/step - loss: 2.1705 - accuracy: 0.9286\n",
            "1/1 [==============================] - 0s 142ms/step - loss: 9.0145 - accuracy: 0.6111\n",
            "4/4 [==============================] - 0s 4ms/step - loss: 0.2691 - accuracy: 0.9571\n",
            "Epoch 1/3\n",
            "4/4 [==============================] - 1s 5ms/step - loss: 11.4431 - accuracy: 0.6197\n",
            "Epoch 2/3\n",
            "4/4 [==============================] - 0s 4ms/step - loss: 3.2149 - accuracy: 0.7887\n",
            "Epoch 3/3\n",
            "4/4 [==============================] - 0s 4ms/step - loss: 1.7087 - accuracy: 0.7606\n",
            "1/1 [==============================] - 0s 133ms/step - loss: 3.4687 - accuracy: 0.7059\n",
            "4/4 [==============================] - 0s 3ms/step - loss: 0.5625 - accuracy: 0.9014\n",
            "Epoch 1/3\n",
            "4/4 [==============================] - 1s 6ms/step - loss: 11.4219 - accuracy: 0.6761\n",
            "Epoch 2/3\n",
            "4/4 [==============================] - 0s 5ms/step - loss: 5.5972 - accuracy: 0.7183\n",
            "Epoch 3/3\n",
            "4/4 [==============================] - 0s 5ms/step - loss: 0.2648 - accuracy: 0.9155\n",
            "1/1 [==============================] - 0s 132ms/step - loss: 0.5932 - accuracy: 0.8235\n",
            "4/4 [==============================] - 0s 3ms/step - loss: 0.1494 - accuracy: 0.9296\n",
            "Epoch 1/5\n",
            "4/4 [==============================] - 1s 5ms/step - loss: 11.0994 - accuracy: 0.5714\n",
            "Epoch 2/5\n",
            "4/4 [==============================] - 0s 3ms/step - loss: 3.4273 - accuracy: 0.8000\n",
            "Epoch 3/5\n",
            "4/4 [==============================] - 0s 5ms/step - loss: 0.5105 - accuracy: 0.9143\n",
            "Epoch 4/5\n",
            "4/4 [==============================] - 0s 5ms/step - loss: 0.4057 - accuracy: 0.9000\n",
            "Epoch 5/5\n",
            "4/4 [==============================] - 0s 5ms/step - loss: 0.2614 - accuracy: 0.9429\n",
            "1/1 [==============================] - 0s 127ms/step - loss: 3.3512 - accuracy: 0.8889\n",
            "4/4 [==============================] - 0s 6ms/step - loss: 0.1277 - accuracy: 0.9571\n",
            "Epoch 1/5\n",
            "4/4 [==============================] - 1s 5ms/step - loss: 11.1028 - accuracy: 0.6000\n",
            "Epoch 2/5\n",
            "4/4 [==============================] - 0s 4ms/step - loss: 5.1653 - accuracy: 0.8143\n",
            "Epoch 3/5\n",
            "4/4 [==============================] - 0s 5ms/step - loss: 1.7473 - accuracy: 0.8857\n",
            "Epoch 4/5\n",
            "4/4 [==============================] - 0s 4ms/step - loss: 0.9162 - accuracy: 0.9143\n",
            "Epoch 5/5\n",
            "4/4 [==============================] - 0s 4ms/step - loss: 0.0565 - accuracy: 0.9857\n",
            "1/1 [==============================] - 0s 140ms/step - loss: 2.3359 - accuracy: 0.8333\n",
            "4/4 [==============================] - 0s 4ms/step - loss: 0.0293 - accuracy: 0.9857\n",
            "Epoch 1/5\n",
            "4/4 [==============================] - 1s 5ms/step - loss: 9.0550 - accuracy: 0.5571\n",
            "Epoch 2/5\n",
            "4/4 [==============================] - 0s 5ms/step - loss: 2.6498 - accuracy: 0.8429\n",
            "Epoch 3/5\n",
            "4/4 [==============================] - 0s 4ms/step - loss: 2.1705 - accuracy: 0.9286\n",
            "Epoch 4/5\n",
            "4/4 [==============================] - 0s 4ms/step - loss: 0.3667 - accuracy: 0.9429\n",
            "Epoch 5/5\n",
            "4/4 [==============================] - 0s 4ms/step - loss: 1.0054 - accuracy: 0.9429\n",
            "1/1 [==============================] - 0s 124ms/step - loss: 10.2477 - accuracy: 0.7222\n",
            "4/4 [==============================] - 0s 3ms/step - loss: 0.0131 - accuracy: 1.0000\n",
            "Epoch 1/5\n",
            "4/4 [==============================] - 1s 4ms/step - loss: 11.4431 - accuracy: 0.6197\n",
            "Epoch 2/5\n",
            "4/4 [==============================] - 0s 5ms/step - loss: 3.2149 - accuracy: 0.7887\n",
            "Epoch 3/5\n",
            "4/4 [==============================] - 0s 4ms/step - loss: 1.7087 - accuracy: 0.7606\n",
            "Epoch 4/5\n",
            "4/4 [==============================] - 0s 4ms/step - loss: 0.5004 - accuracy: 0.8873\n",
            "Epoch 5/5\n",
            "4/4 [==============================] - 0s 3ms/step - loss: 0.1144 - accuracy: 0.9577\n",
            "1/1 [==============================] - 0s 130ms/step - loss: 1.0821 - accuracy: 0.7647\n",
            "4/4 [==============================] - 0s 4ms/step - loss: 0.0459 - accuracy: 1.0000\n",
            "Epoch 1/5\n",
            "4/4 [==============================] - 1s 4ms/step - loss: 11.4219 - accuracy: 0.6761\n",
            "Epoch 2/5\n",
            "4/4 [==============================] - 0s 5ms/step - loss: 5.5972 - accuracy: 0.7183\n",
            "Epoch 3/5\n",
            "4/4 [==============================] - 0s 6ms/step - loss: 0.2648 - accuracy: 0.9155\n",
            "Epoch 4/5\n",
            "4/4 [==============================] - 0s 4ms/step - loss: 0.5169 - accuracy: 0.9014\n",
            "Epoch 5/5\n",
            "4/4 [==============================] - 0s 5ms/step - loss: 0.7016 - accuracy: 0.8873\n",
            "1/1 [==============================] - 0s 123ms/step - loss: 0.3986 - accuracy: 0.7647\n",
            "4/4 [==============================] - 0s 4ms/step - loss: 0.1002 - accuracy: 0.9718\n",
            "Epoch 1/7\n",
            "4/4 [==============================] - 1s 4ms/step - loss: 11.0994 - accuracy: 0.5714\n",
            "Epoch 2/7\n",
            "4/4 [==============================] - 0s 4ms/step - loss: 3.4273 - accuracy: 0.8000\n",
            "Epoch 3/7\n",
            "4/4 [==============================] - 0s 4ms/step - loss: 0.5105 - accuracy: 0.9143\n",
            "Epoch 4/7\n",
            "4/4 [==============================] - 0s 4ms/step - loss: 0.4057 - accuracy: 0.9000\n",
            "Epoch 5/7\n",
            "4/4 [==============================] - 0s 4ms/step - loss: 0.2614 - accuracy: 0.9429\n",
            "Epoch 6/7\n",
            "4/4 [==============================] - 0s 4ms/step - loss: 0.1678 - accuracy: 0.9571\n",
            "Epoch 7/7\n",
            "4/4 [==============================] - 0s 3ms/step - loss: 0.0828 - accuracy: 0.9714\n",
            "1/1 [==============================] - 0s 129ms/step - loss: 3.3748 - accuracy: 0.8333\n",
            "4/4 [==============================] - 0s 4ms/step - loss: 0.0493 - accuracy: 0.9857\n",
            "Epoch 1/7\n",
            "4/4 [==============================] - 1s 5ms/step - loss: 11.1028 - accuracy: 0.6000\n",
            "Epoch 2/7\n",
            "4/4 [==============================] - 0s 6ms/step - loss: 5.1653 - accuracy: 0.8143\n",
            "Epoch 3/7\n",
            "4/4 [==============================] - 0s 4ms/step - loss: 1.7473 - accuracy: 0.8857\n",
            "Epoch 4/7\n",
            "4/4 [==============================] - 0s 4ms/step - loss: 0.9162 - accuracy: 0.9143\n",
            "Epoch 5/7\n",
            "4/4 [==============================] - 0s 6ms/step - loss: 0.0565 - accuracy: 0.9857\n",
            "Epoch 6/7\n",
            "4/4 [==============================] - 0s 5ms/step - loss: 0.2418 - accuracy: 0.9571\n",
            "Epoch 7/7\n",
            "4/4 [==============================] - 0s 5ms/step - loss: 0.2120 - accuracy: 0.9143\n",
            "1/1 [==============================] - 0s 118ms/step - loss: 1.4708 - accuracy: 0.8889\n",
            "4/4 [==============================] - 0s 4ms/step - loss: 0.0540 - accuracy: 0.9857\n",
            "Epoch 1/7\n",
            "4/4 [==============================] - 1s 5ms/step - loss: 9.0550 - accuracy: 0.5571\n",
            "Epoch 2/7\n",
            "4/4 [==============================] - 0s 5ms/step - loss: 2.6498 - accuracy: 0.8429\n",
            "Epoch 3/7\n",
            "4/4 [==============================] - 0s 5ms/step - loss: 2.1705 - accuracy: 0.9286\n",
            "Epoch 4/7\n",
            "4/4 [==============================] - 0s 4ms/step - loss: 0.3667 - accuracy: 0.9429\n",
            "Epoch 5/7\n",
            "4/4 [==============================] - 0s 4ms/step - loss: 1.0054 - accuracy: 0.9429\n",
            "Epoch 6/7\n",
            "4/4 [==============================] - 0s 4ms/step - loss: 0.4103 - accuracy: 0.9286\n",
            "Epoch 7/7\n",
            "4/4 [==============================] - 0s 4ms/step - loss: 0.1384 - accuracy: 0.9714\n",
            "1/1 [==============================] - 0s 121ms/step - loss: 12.1802 - accuracy: 0.6667\n",
            "4/4 [==============================] - 0s 5ms/step - loss: 0.1628 - accuracy: 0.9714\n",
            "Epoch 1/7\n",
            "4/4 [==============================] - 1s 4ms/step - loss: 11.4431 - accuracy: 0.6197\n",
            "Epoch 2/7\n",
            "4/4 [==============================] - 0s 6ms/step - loss: 3.2149 - accuracy: 0.7887\n",
            "Epoch 3/7\n",
            "4/4 [==============================] - 0s 4ms/step - loss: 1.7087 - accuracy: 0.7606\n",
            "Epoch 4/7\n",
            "4/4 [==============================] - 0s 5ms/step - loss: 0.5004 - accuracy: 0.8873\n",
            "Epoch 5/7\n",
            "4/4 [==============================] - 0s 5ms/step - loss: 0.1144 - accuracy: 0.9577\n",
            "Epoch 6/7\n",
            "4/4 [==============================] - 0s 4ms/step - loss: 0.4276 - accuracy: 0.9718\n",
            "Epoch 7/7\n",
            "4/4 [==============================] - 0s 4ms/step - loss: 0.0465 - accuracy: 1.0000\n",
            "1/1 [==============================] - 0s 127ms/step - loss: 0.7265 - accuracy: 0.8235\n",
            "4/4 [==============================] - 0s 4ms/step - loss: 0.0349 - accuracy: 0.9859\n",
            "Epoch 1/7\n",
            "4/4 [==============================] - 1s 6ms/step - loss: 11.4219 - accuracy: 0.6761\n",
            "Epoch 2/7\n",
            "4/4 [==============================] - 0s 4ms/step - loss: 5.5972 - accuracy: 0.7183\n",
            "Epoch 3/7\n",
            "4/4 [==============================] - 0s 6ms/step - loss: 0.2648 - accuracy: 0.9155\n",
            "Epoch 4/7\n",
            "4/4 [==============================] - 0s 4ms/step - loss: 0.5169 - accuracy: 0.9014\n",
            "Epoch 5/7\n",
            "4/4 [==============================] - 0s 4ms/step - loss: 0.7016 - accuracy: 0.8873\n",
            "Epoch 6/7\n",
            "4/4 [==============================] - 0s 4ms/step - loss: 0.2474 - accuracy: 0.9437\n",
            "Epoch 7/7\n",
            "4/4 [==============================] - 0s 5ms/step - loss: 0.1451 - accuracy: 0.9437\n",
            "1/1 [==============================] - 0s 136ms/step - loss: 0.6341 - accuracy: 0.8824\n",
            "4/4 [==============================] - 0s 4ms/step - loss: 0.0610 - accuracy: 0.9437\n",
            "Epoch 1/3\n",
            "3/3 [==============================] - 1s 5ms/step - loss: 11.8618 - accuracy: 0.5857\n",
            "Epoch 2/3\n",
            "3/3 [==============================] - 0s 4ms/step - loss: 2.4589 - accuracy: 0.8143\n",
            "Epoch 3/3\n",
            "3/3 [==============================] - 0s 5ms/step - loss: 0.7803 - accuracy: 0.8714\n",
            "1/1 [==============================] - 0s 130ms/step - loss: 1.8672 - accuracy: 0.8889\n",
            "3/3 [==============================] - 0s 5ms/step - loss: 0.1389 - accuracy: 0.9286\n",
            "Epoch 1/3\n",
            "3/3 [==============================] - 1s 6ms/step - loss: 11.8528 - accuracy: 0.5857\n",
            "Epoch 2/3\n",
            "3/3 [==============================] - 0s 7ms/step - loss: 3.4711 - accuracy: 0.8143\n",
            "Epoch 3/3\n",
            "3/3 [==============================] - 0s 5ms/step - loss: 1.3243 - accuracy: 0.8571\n",
            "1/1 [==============================] - 0s 126ms/step - loss: 0.2423 - accuracy: 0.8889\n",
            "3/3 [==============================] - 0s 5ms/step - loss: 0.1964 - accuracy: 0.9143\n",
            "Epoch 1/3\n",
            "3/3 [==============================] - 1s 5ms/step - loss: 10.8075 - accuracy: 0.5286\n",
            "Epoch 2/3\n",
            "3/3 [==============================] - 0s 5ms/step - loss: 2.9460 - accuracy: 0.8714\n",
            "Epoch 3/3\n",
            "3/3 [==============================] - 0s 5ms/step - loss: 2.3907 - accuracy: 0.8714\n",
            "1/1 [==============================] - 0s 122ms/step - loss: 7.0053 - accuracy: 0.8333\n",
            "3/3 [==============================] - 0s 5ms/step - loss: 0.3166 - accuracy: 0.9429\n",
            "Epoch 1/3\n",
            "3/3 [==============================] - 1s 7ms/step - loss: 9.4773 - accuracy: 0.6620\n",
            "Epoch 2/3\n",
            "3/3 [==============================] - 0s 5ms/step - loss: 3.9046 - accuracy: 0.7606\n",
            "Epoch 3/3\n",
            "3/3 [==============================] - 0s 5ms/step - loss: 0.6722 - accuracy: 0.9014\n",
            "1/1 [==============================] - 0s 124ms/step - loss: 0.3643 - accuracy: 0.8235\n",
            "3/3 [==============================] - 0s 5ms/step - loss: 0.1348 - accuracy: 0.9718\n",
            "Epoch 1/3\n",
            "3/3 [==============================] - 1s 6ms/step - loss: 12.5986 - accuracy: 0.6620\n",
            "Epoch 2/3\n",
            "3/3 [==============================] - 0s 4ms/step - loss: 2.1251 - accuracy: 0.8451\n",
            "Epoch 3/3\n",
            "3/3 [==============================] - 0s 7ms/step - loss: 1.5725 - accuracy: 0.8169\n",
            "1/1 [==============================] - 0s 120ms/step - loss: 0.4236 - accuracy: 0.8235\n",
            "3/3 [==============================] - 0s 4ms/step - loss: 0.1122 - accuracy: 0.9577\n",
            "Epoch 1/5\n",
            "3/3 [==============================] - 1s 5ms/step - loss: 11.8618 - accuracy: 0.5857\n",
            "Epoch 2/5\n",
            "3/3 [==============================] - 0s 5ms/step - loss: 2.4589 - accuracy: 0.8143\n",
            "Epoch 3/5\n",
            "3/3 [==============================] - 0s 5ms/step - loss: 0.7803 - accuracy: 0.8714\n",
            "Epoch 4/5\n",
            "3/3 [==============================] - 0s 5ms/step - loss: 0.2087 - accuracy: 0.9143\n",
            "Epoch 5/5\n",
            "3/3 [==============================] - 0s 6ms/step - loss: 0.5532 - accuracy: 0.9429\n",
            "1/1 [==============================] - 0s 126ms/step - loss: 1.6003 - accuracy: 0.8889\n",
            "3/3 [==============================] - 0s 3ms/step - loss: 0.0915 - accuracy: 0.9714\n",
            "Epoch 1/5\n",
            "3/3 [==============================] - 1s 6ms/step - loss: 11.8528 - accuracy: 0.5857\n",
            "Epoch 2/5\n",
            "3/3 [==============================] - 0s 5ms/step - loss: 3.4711 - accuracy: 0.8143\n",
            "Epoch 3/5\n",
            "3/3 [==============================] - 0s 5ms/step - loss: 1.3243 - accuracy: 0.8571\n",
            "Epoch 4/5\n",
            "3/3 [==============================] - 0s 8ms/step - loss: 0.2670 - accuracy: 0.9429\n",
            "Epoch 5/5\n",
            "3/3 [==============================] - 0s 6ms/step - loss: 0.3047 - accuracy: 0.8714\n",
            "1/1 [==============================] - 0s 118ms/step - loss: 0.2953 - accuracy: 0.9444\n",
            "3/3 [==============================] - 0s 4ms/step - loss: 0.2790 - accuracy: 0.8714\n",
            "Epoch 1/5\n",
            "3/3 [==============================] - 1s 8ms/step - loss: 10.8075 - accuracy: 0.5286\n",
            "Epoch 2/5\n",
            "3/3 [==============================] - 0s 6ms/step - loss: 2.9460 - accuracy: 0.8714\n",
            "Epoch 3/5\n",
            "3/3 [==============================] - 0s 7ms/step - loss: 2.3907 - accuracy: 0.8714\n",
            "Epoch 4/5\n",
            "3/3 [==============================] - 0s 6ms/step - loss: 0.3204 - accuracy: 0.9429\n",
            "Epoch 5/5\n",
            "3/3 [==============================] - 0s 7ms/step - loss: 0.1215 - accuracy: 0.9571\n",
            "1/1 [==============================] - 0s 123ms/step - loss: 6.4308 - accuracy: 0.7222\n",
            "3/3 [==============================] - 0s 4ms/step - loss: 0.1122 - accuracy: 0.9143\n",
            "Epoch 1/5\n",
            "3/3 [==============================] - 1s 4ms/step - loss: 9.4773 - accuracy: 0.6620\n",
            "Epoch 2/5\n",
            "3/3 [==============================] - 0s 7ms/step - loss: 3.9046 - accuracy: 0.7606\n",
            "Epoch 3/5\n",
            "3/3 [==============================] - 0s 7ms/step - loss: 0.6722 - accuracy: 0.9014\n",
            "Epoch 4/5\n",
            "3/3 [==============================] - 0s 6ms/step - loss: 0.3822 - accuracy: 0.8873\n",
            "Epoch 5/5\n",
            "3/3 [==============================] - 0s 7ms/step - loss: 0.2531 - accuracy: 0.9296\n",
            "1/1 [==============================] - 0s 128ms/step - loss: 0.8306 - accuracy: 0.8235\n",
            "3/3 [==============================] - 0s 5ms/step - loss: 0.0069 - accuracy: 1.0000\n",
            "Epoch 1/5\n",
            "3/3 [==============================] - 1s 8ms/step - loss: 12.5986 - accuracy: 0.6620\n",
            "Epoch 2/5\n",
            "3/3 [==============================] - 0s 4ms/step - loss: 2.1251 - accuracy: 0.8451\n",
            "Epoch 3/5\n",
            "3/3 [==============================] - 0s 4ms/step - loss: 1.5725 - accuracy: 0.8169\n",
            "Epoch 4/5\n",
            "3/3 [==============================] - 0s 4ms/step - loss: 0.1567 - accuracy: 0.9437\n",
            "Epoch 5/5\n",
            "3/3 [==============================] - 0s 5ms/step - loss: 0.1674 - accuracy: 0.9014\n",
            "1/1 [==============================] - 0s 123ms/step - loss: 0.4533 - accuracy: 0.8235\n",
            "3/3 [==============================] - 0s 3ms/step - loss: 0.1780 - accuracy: 0.9014\n",
            "Epoch 1/7\n",
            "3/3 [==============================] - 1s 5ms/step - loss: 11.8618 - accuracy: 0.5857\n",
            "Epoch 2/7\n",
            "3/3 [==============================] - 0s 5ms/step - loss: 2.4589 - accuracy: 0.8143\n",
            "Epoch 3/7\n",
            "3/3 [==============================] - 0s 8ms/step - loss: 0.7803 - accuracy: 0.8714\n",
            "Epoch 4/7\n",
            "3/3 [==============================] - 0s 6ms/step - loss: 0.2087 - accuracy: 0.9143\n",
            "Epoch 5/7\n",
            "3/3 [==============================] - 0s 5ms/step - loss: 0.5532 - accuracy: 0.9429\n",
            "Epoch 6/7\n",
            "3/3 [==============================] - 0s 6ms/step - loss: 0.0544 - accuracy: 0.9714\n",
            "Epoch 7/7\n",
            "3/3 [==============================] - 0s 6ms/step - loss: 0.0609 - accuracy: 0.9714\n",
            "1/1 [==============================] - 1s 516ms/step - loss: 1.3777 - accuracy: 0.7778\n",
            "3/3 [==============================] - 0s 4ms/step - loss: 0.0671 - accuracy: 0.9714\n",
            "Epoch 1/7\n",
            "3/3 [==============================] - 1s 6ms/step - loss: 11.8528 - accuracy: 0.5857\n",
            "Epoch 2/7\n",
            "3/3 [==============================] - 0s 5ms/step - loss: 3.4711 - accuracy: 0.8143\n",
            "Epoch 3/7\n",
            "3/3 [==============================] - 0s 5ms/step - loss: 1.3243 - accuracy: 0.8571\n",
            "Epoch 4/7\n",
            "3/3 [==============================] - 0s 4ms/step - loss: 0.2670 - accuracy: 0.9429\n",
            "Epoch 5/7\n",
            "3/3 [==============================] - 0s 5ms/step - loss: 0.3047 - accuracy: 0.8714\n",
            "Epoch 6/7\n",
            "3/3 [==============================] - 0s 5ms/step - loss: 0.2639 - accuracy: 0.8714\n",
            "Epoch 7/7\n",
            "3/3 [==============================] - 0s 4ms/step - loss: 0.2679 - accuracy: 0.8571\n",
            "1/1 [==============================] - 0s 156ms/step - loss: 0.3352 - accuracy: 0.7222\n",
            "3/3 [==============================] - 0s 6ms/step - loss: 0.1657 - accuracy: 0.9143\n",
            "Epoch 1/7\n",
            "3/3 [==============================] - 1s 6ms/step - loss: 10.8075 - accuracy: 0.5286\n",
            "Epoch 2/7\n",
            "3/3 [==============================] - 0s 5ms/step - loss: 2.9460 - accuracy: 0.8714\n",
            "Epoch 3/7\n",
            "3/3 [==============================] - 0s 5ms/step - loss: 2.3907 - accuracy: 0.8714\n",
            "Epoch 4/7\n",
            "3/3 [==============================] - 0s 4ms/step - loss: 0.3204 - accuracy: 0.9429\n",
            "Epoch 5/7\n",
            "3/3 [==============================] - 0s 5ms/step - loss: 0.1215 - accuracy: 0.9571\n",
            "Epoch 6/7\n",
            "3/3 [==============================] - 0s 5ms/step - loss: 0.5505 - accuracy: 0.9143\n",
            "Epoch 7/7\n",
            "3/3 [==============================] - 0s 4ms/step - loss: 0.1521 - accuracy: 0.9143\n",
            "1/1 [==============================] - 0s 139ms/step - loss: 6.8368 - accuracy: 0.7778\n",
            "3/3 [==============================] - 0s 8ms/step - loss: 0.0977 - accuracy: 0.9571\n",
            "Epoch 1/7\n",
            "3/3 [==============================] - 1s 7ms/step - loss: 9.4773 - accuracy: 0.6620\n",
            "Epoch 2/7\n",
            "3/3 [==============================] - 0s 6ms/step - loss: 3.9046 - accuracy: 0.7606\n",
            "Epoch 3/7\n",
            "3/3 [==============================] - 0s 6ms/step - loss: 0.6722 - accuracy: 0.9014\n",
            "Epoch 4/7\n",
            "3/3 [==============================] - 0s 6ms/step - loss: 0.3822 - accuracy: 0.8873\n",
            "Epoch 5/7\n",
            "3/3 [==============================] - 0s 8ms/step - loss: 0.2531 - accuracy: 0.9296\n",
            "Epoch 6/7\n",
            "3/3 [==============================] - 0s 6ms/step - loss: 0.0293 - accuracy: 0.9859\n",
            "Epoch 7/7\n",
            "3/3 [==============================] - 0s 4ms/step - loss: 0.0899 - accuracy: 0.9718\n",
            "1/1 [==============================] - 0s 134ms/step - loss: 1.6680 - accuracy: 0.8235\n",
            "3/3 [==============================] - 0s 4ms/step - loss: 0.0135 - accuracy: 1.0000\n",
            "Epoch 1/7\n",
            "3/3 [==============================] - 1s 8ms/step - loss: 12.5986 - accuracy: 0.6620\n",
            "Epoch 2/7\n",
            "3/3 [==============================] - 0s 7ms/step - loss: 2.1251 - accuracy: 0.8451\n",
            "Epoch 3/7\n",
            "3/3 [==============================] - 0s 6ms/step - loss: 1.5725 - accuracy: 0.8169\n",
            "Epoch 4/7\n",
            "3/3 [==============================] - 0s 6ms/step - loss: 0.1567 - accuracy: 0.9437\n",
            "Epoch 5/7\n",
            "3/3 [==============================] - 0s 6ms/step - loss: 0.1674 - accuracy: 0.9014\n",
            "Epoch 6/7\n",
            "3/3 [==============================] - 0s 5ms/step - loss: 0.2299 - accuracy: 0.9014\n",
            "Epoch 7/7\n",
            "3/3 [==============================] - 0s 6ms/step - loss: 0.2053 - accuracy: 0.9296\n",
            "1/1 [==============================] - 0s 123ms/step - loss: 0.4505 - accuracy: 0.8235\n",
            "3/3 [==============================] - 0s 3ms/step - loss: 0.0811 - accuracy: 0.9718\n",
            "Epoch 1/5\n",
            "6/6 [==============================] - 1s 5ms/step - loss: 8.3248 - accuracy: 0.6705\n",
            "Epoch 2/5\n",
            "6/6 [==============================] - 0s 3ms/step - loss: 0.6195 - accuracy: 0.8409\n",
            "Epoch 3/5\n",
            "6/6 [==============================] - 0s 4ms/step - loss: 1.6792 - accuracy: 0.7841\n",
            "Epoch 4/5\n",
            "6/6 [==============================] - 0s 3ms/step - loss: 0.7197 - accuracy: 0.9091\n",
            "Epoch 5/5\n",
            "6/6 [==============================] - 0s 3ms/step - loss: 0.3437 - accuracy: 0.8636\n"
          ]
        },
        {
          "output_type": "execute_result",
          "data": {
            "text/plain": [
              "GridSearchCV(estimator=<keras.wrappers.scikit_learn.KerasClassifier object at 0x7f2b34019890>,\n",
              "             param_grid={'batch_size': [15, 20, 25], 'epochs': [3, 5, 7]},\n",
              "             return_train_score=True)"
            ]
          },
          "metadata": {},
          "execution_count": 68
        }
      ]
    },
    {
      "cell_type": "code",
      "metadata": {
        "id": "tBYAACMAaD9c",
        "colab": {
          "base_uri": "https://localhost:8080/",
          "height": 343
        },
        "outputId": "a9f08d51-865d-4b7c-f204-733a1b542a46"
      },
      "source": [
        "res = pd.DataFrame(validator_red_drop_nn.cv_results_)\n",
        "res.pivot_table(index=[\"param_epochs\",\"param_batch_size\"],values=['mean_train_score',\"mean_test_score\"])"
      ],
      "execution_count": null,
      "outputs": [
        {
          "output_type": "execute_result",
          "data": {
            "text/html": [
              "<div>\n",
              "<style scoped>\n",
              "    .dataframe tbody tr th:only-of-type {\n",
              "        vertical-align: middle;\n",
              "    }\n",
              "\n",
              "    .dataframe tbody tr th {\n",
              "        vertical-align: top;\n",
              "    }\n",
              "\n",
              "    .dataframe thead th {\n",
              "        text-align: right;\n",
              "    }\n",
              "</style>\n",
              "<table border=\"1\" class=\"dataframe\">\n",
              "  <thead>\n",
              "    <tr style=\"text-align: right;\">\n",
              "      <th></th>\n",
              "      <th></th>\n",
              "      <th>mean_test_score</th>\n",
              "      <th>mean_train_score</th>\n",
              "    </tr>\n",
              "    <tr>\n",
              "      <th>param_epochs</th>\n",
              "      <th>param_batch_size</th>\n",
              "      <th></th>\n",
              "      <th></th>\n",
              "    </tr>\n",
              "  </thead>\n",
              "  <tbody>\n",
              "    <tr>\n",
              "      <th rowspan=\"3\" valign=\"top\">3</th>\n",
              "      <th>15</th>\n",
              "      <td>0.818301</td>\n",
              "      <td>0.914809</td>\n",
              "    </tr>\n",
              "    <tr>\n",
              "      <th>20</th>\n",
              "      <td>0.794771</td>\n",
              "      <td>0.934769</td>\n",
              "    </tr>\n",
              "    <tr>\n",
              "      <th>25</th>\n",
              "      <td>0.851634</td>\n",
              "      <td>0.943058</td>\n",
              "    </tr>\n",
              "    <tr>\n",
              "      <th rowspan=\"3\" valign=\"top\">5</th>\n",
              "      <th>15</th>\n",
              "      <td>0.852288</td>\n",
              "      <td>0.974406</td>\n",
              "    </tr>\n",
              "    <tr>\n",
              "      <th>20</th>\n",
              "      <td>0.794771</td>\n",
              "      <td>0.982938</td>\n",
              "    </tr>\n",
              "    <tr>\n",
              "      <th>25</th>\n",
              "      <td>0.840523</td>\n",
              "      <td>0.931710</td>\n",
              "    </tr>\n",
              "    <tr>\n",
              "      <th rowspan=\"3\" valign=\"top\">7</th>\n",
              "      <th>15</th>\n",
              "      <td>0.852288</td>\n",
              "      <td>0.980080</td>\n",
              "    </tr>\n",
              "    <tr>\n",
              "      <th>20</th>\n",
              "      <td>0.818954</td>\n",
              "      <td>0.974487</td>\n",
              "    </tr>\n",
              "    <tr>\n",
              "      <th>25</th>\n",
              "      <td>0.784967</td>\n",
              "      <td>0.962938</td>\n",
              "    </tr>\n",
              "  </tbody>\n",
              "</table>\n",
              "</div>"
            ],
            "text/plain": [
              "                               mean_test_score  mean_train_score\n",
              "param_epochs param_batch_size                                   \n",
              "3            15                       0.818301          0.914809\n",
              "             20                       0.794771          0.934769\n",
              "             25                       0.851634          0.943058\n",
              "5            15                       0.852288          0.974406\n",
              "             20                       0.794771          0.982938\n",
              "             25                       0.840523          0.931710\n",
              "7            15                       0.852288          0.980080\n",
              "             20                       0.818954          0.974487\n",
              "             25                       0.784967          0.962938"
            ]
          },
          "metadata": {},
          "execution_count": 69
        }
      ]
    },
    {
      "cell_type": "code",
      "metadata": {
        "colab": {
          "base_uri": "https://localhost:8080/"
        },
        "id": "pTNj7Rmxsk8E",
        "outputId": "34e119aa-5336-42a9-cdf6-bff5852f7b6d"
      },
      "source": [
        "print(\"Best hyperparameters: \",validator_red_drop_nn.best_params_)\n",
        "print(\"Best CV accuracy: \",validator_red_drop_nn.best_score_)"
      ],
      "execution_count": null,
      "outputs": [
        {
          "output_type": "stream",
          "name": "stdout",
          "text": [
            "Best hyperparameters:  {'batch_size': 15, 'epochs': 5}\n",
            "Best CV accuracy:  0.8522875785827637\n"
          ]
        }
      ]
    },
    {
      "cell_type": "code",
      "metadata": {
        "colab": {
          "base_uri": "https://localhost:8080/"
        },
        "id": "LVN0HTgw12_y",
        "outputId": "733b2bda-e45d-458b-b626-e309a9779398"
      },
      "source": [
        "best_model = validator_red_drop_nn.best_estimator_.model\n",
        "loss,accuracy = best_model.evaluate(testx_reduced,test_y)\n",
        "print(\"Accuracy on Test: \", accuracy)\n",
        "print(\"Loss on Test: \", loss)"
      ],
      "execution_count": null,
      "outputs": [
        {
          "output_type": "stream",
          "name": "stdout",
          "text": [
            "1/1 [==============================] - 0s 119ms/step - loss: 0.3096 - accuracy: 0.8077\n",
            "Accuracy on Test:  0.807692289352417\n",
            "Loss on Test:  0.3096109628677368\n"
          ]
        }
      ]
    },
    {
      "cell_type": "markdown",
      "metadata": {
        "id": "AdqVoVgg0IwT"
      },
      "source": [
        "The Dropout doesn't seem to increase the accuracy using a MLP after dimensionality reduction.\n",
        "\n"
      ]
    },
    {
      "cell_type": "markdown",
      "metadata": {
        "id": "uTcjaTMj0HxT"
      },
      "source": [
        "# **Convolutional Neural Networks (CNNs)**\n",
        "CNNs are maybe the most popular DL architecture. They are very computationally efficient. "
      ]
    },
    {
      "cell_type": "markdown",
      "metadata": {
        "id": "m-8I159SP7DN"
      },
      "source": [
        "## *CNN with 1D Convolutional layer*\n",
        "A 1D conv layer creates a convolution kernel that is convolved with the layer input over a single spatial (or temporal) dimension to produce a tensor of outputs. The dataset has been encoded in 1D vector and, to avoid RAM problems, I reduced the dimension of the vector to the first 5K genes."
      ]
    },
    {
      "cell_type": "code",
      "metadata": {
        "id": "uDFSQmQqHJbn"
      },
      "source": [
        "#transform train set into an array (for RAM problems I kept only the first 5k genes)\n",
        "trainx_cnn = train_x.iloc[:,:5000].to_numpy()\n",
        "#add 1 dim to the input vector\n",
        "trainx_cnn = numpy.reshape(trainx_cnn,(88,5000,1))\n",
        "trainx_cnn = trainx_cnn.astype(\"float32\")\n",
        "\n",
        "#let's do the same for the test set\n",
        "testx_cnn = test_x.iloc[:,:5000].to_numpy()\n",
        "testx_cnn = numpy.reshape(testx_cnn,(26,5000,1))\n",
        "testx_cnn = testx_cnn.astype(\"float32\")"
      ],
      "execution_count": null,
      "outputs": []
    },
    {
      "cell_type": "code",
      "metadata": {
        "id": "tqFgILQhIfij",
        "colab": {
          "base_uri": "https://localhost:8080/"
        },
        "outputId": "82ce8e57-cb5b-433b-9da3-d9e043a91c24"
      },
      "source": [
        "def make_model(dense_layer_sizes, filters, kernel_size):\n",
        "  set_seed(432)\n",
        "  model = models.Sequential()\n",
        "  model.add(keras.layers.Conv1D(filters,kernel_size=kernel_size,input_shape=(5000,1)))\n",
        "  model.add(keras.layers.Activation('relu'))\n",
        "  model.add(keras.layers.Dropout(0.2))\n",
        "  model.add(keras.layers.MaxPooling1D(1))\n",
        "  model.add(keras.layers.Flatten())\n",
        "  model.add(keras.layers.Dense(dense_layer_sizes, activation='relu'))\n",
        "  model.add(keras.layers.Dense(1, activation='sigmoid'))\n",
        "  model.compile(loss='binary_crossentropy',\n",
        "                  optimizer='adam',\n",
        "                  metrics=['accuracy'])\n",
        "  return model\n",
        "\n",
        "my_classifier = KerasClassifier(make_model, batch_size=20)\n",
        "validator_1Dconv = GridSearchCV(my_classifier,\n",
        "                         param_grid={'dense_layer_sizes': [32,64,128],\n",
        "                                     'epochs': [5,7],\n",
        "                                     'filters': [32,64,128],\n",
        "                                     'kernel_size': [3,5,7]},\n",
        "                         scoring='accuracy',\n",
        "                         n_jobs=1,return_train_score=True)\n",
        "validator_1Dconv.fit(trainx_cnn, train_y)"
      ],
      "execution_count": null,
      "outputs": [
        {
          "output_type": "stream",
          "name": "stderr",
          "text": [
            "/usr/local/lib/python3.7/dist-packages/ipykernel_launcher.py:16: DeprecationWarning: KerasClassifier is deprecated, use Sci-Keras (https://github.com/adriangb/scikeras) instead.\n",
            "  app.launch_new_instance()\n"
          ]
        },
        {
          "output_type": "stream",
          "name": "stdout",
          "text": [
            "Epoch 1/7\n",
            "4/4 [==============================] - 2s 282ms/step - loss: 2.7796 - accuracy: 0.7143\n",
            "Epoch 2/7\n",
            "4/4 [==============================] - 1s 277ms/step - loss: 2.3726 - accuracy: 0.8000\n",
            "Epoch 3/7\n",
            "4/4 [==============================] - 1s 277ms/step - loss: 1.0051 - accuracy: 0.9286\n",
            "Epoch 4/7\n",
            "4/4 [==============================] - 1s 279ms/step - loss: 0.6025 - accuracy: 0.9429\n",
            "Epoch 5/7\n",
            "4/4 [==============================] - 1s 275ms/step - loss: 0.1243 - accuracy: 0.9571\n",
            "Epoch 6/7\n",
            "4/4 [==============================] - 1s 277ms/step - loss: 0.0067 - accuracy: 1.0000\n",
            "Epoch 7/7\n",
            "4/4 [==============================] - 1s 271ms/step - loss: 0.0207 - accuracy: 0.9857\n",
            "Epoch 1/7\n",
            "4/4 [==============================] - 2s 309ms/step - loss: 5.6329 - accuracy: 0.6429\n",
            "Epoch 2/7\n",
            "4/4 [==============================] - 1s 276ms/step - loss: 3.9020 - accuracy: 0.7143\n",
            "Epoch 3/7\n",
            "4/4 [==============================] - 1s 277ms/step - loss: 1.3988 - accuracy: 0.9286\n",
            "Epoch 4/7\n",
            "4/4 [==============================] - 1s 281ms/step - loss: 1.5685 - accuracy: 0.8286\n",
            "Epoch 5/7\n",
            "4/4 [==============================] - 1s 276ms/step - loss: 0.4748 - accuracy: 0.9429\n",
            "Epoch 6/7\n",
            "4/4 [==============================] - 1s 281ms/step - loss: 0.3699 - accuracy: 0.9143\n",
            "Epoch 7/7\n",
            "4/4 [==============================] - 1s 278ms/step - loss: 0.0978 - accuracy: 0.9714\n",
            "Epoch 1/7\n",
            "4/4 [==============================] - 2s 288ms/step - loss: 1.4337 - accuracy: 0.7714\n",
            "Epoch 2/7\n",
            "4/4 [==============================] - 1s 287ms/step - loss: 0.7764 - accuracy: 0.9143\n",
            "Epoch 3/7\n",
            "4/4 [==============================] - 1s 293ms/step - loss: 0.6588 - accuracy: 0.9286\n",
            "Epoch 4/7\n",
            "4/4 [==============================] - 1s 287ms/step - loss: 0.1928 - accuracy: 0.9286\n",
            "Epoch 5/7\n",
            "4/4 [==============================] - 1s 284ms/step - loss: 0.0785 - accuracy: 0.9714\n",
            "Epoch 6/7\n",
            "4/4 [==============================] - 1s 288ms/step - loss: 0.0552 - accuracy: 0.9857\n",
            "Epoch 7/7\n",
            "4/4 [==============================] - 1s 282ms/step - loss: 2.5333e-04 - accuracy: 1.0000\n",
            "Epoch 1/7\n",
            "4/4 [==============================] - 2s 280ms/step - loss: 3.0053 - accuracy: 0.6620\n",
            "Epoch 2/7\n",
            "4/4 [==============================] - 1s 295ms/step - loss: 1.6894 - accuracy: 0.9155\n",
            "Epoch 3/7\n",
            "4/4 [==============================] - 1s 283ms/step - loss: 0.6689 - accuracy: 0.9577\n",
            "Epoch 4/7\n",
            "4/4 [==============================] - 1s 295ms/step - loss: 0.0581 - accuracy: 0.9718\n",
            "Epoch 5/7\n",
            "4/4 [==============================] - 1s 290ms/step - loss: 0.1222 - accuracy: 0.9718\n",
            "Epoch 6/7\n",
            "4/4 [==============================] - 1s 285ms/step - loss: 0.1322 - accuracy: 0.9577\n",
            "Epoch 7/7\n",
            "4/4 [==============================] - 1s 286ms/step - loss: 0.2769 - accuracy: 0.9859\n",
            "Epoch 1/7\n",
            "4/4 [==============================] - 2s 303ms/step - loss: 3.4199 - accuracy: 0.6197\n",
            "Epoch 2/7\n",
            "4/4 [==============================] - 1s 290ms/step - loss: 1.6544 - accuracy: 0.9155\n",
            "Epoch 3/7\n",
            "4/4 [==============================] - 1s 284ms/step - loss: 1.2409 - accuracy: 0.9296\n",
            "Epoch 4/7\n",
            "4/4 [==============================] - 1s 284ms/step - loss: 0.8431 - accuracy: 0.9296\n",
            "Epoch 5/7\n",
            "4/4 [==============================] - 1s 285ms/step - loss: 0.2979 - accuracy: 0.9577\n",
            "Epoch 6/7\n",
            "4/4 [==============================] - 1s 292ms/step - loss: 0.0223 - accuracy: 0.9859\n",
            "Epoch 7/7\n",
            "4/4 [==============================] - 1s 302ms/step - loss: 1.4663e-04 - accuracy: 1.0000\n",
            "Epoch 1/7\n",
            "5/5 [==============================] - 2s 302ms/step - loss: 1.7462 - accuracy: 0.7614\n",
            "Epoch 2/7\n",
            "5/5 [==============================] - 2s 296ms/step - loss: 2.6027 - accuracy: 0.8295\n",
            "Epoch 3/7\n",
            "5/5 [==============================] - 2s 296ms/step - loss: 0.8728 - accuracy: 0.8864\n",
            "Epoch 4/7\n",
            "5/5 [==============================] - 1s 291ms/step - loss: 0.7319 - accuracy: 0.8977\n",
            "Epoch 5/7\n",
            "5/5 [==============================] - 1s 286ms/step - loss: 0.2324 - accuracy: 0.9432\n",
            "Epoch 6/7\n",
            "5/5 [==============================] - 1s 291ms/step - loss: 0.1095 - accuracy: 0.9659\n",
            "Epoch 7/7\n",
            "5/5 [==============================] - 1s 291ms/step - loss: 0.0446 - accuracy: 0.9886\n"
          ]
        },
        {
          "output_type": "execute_result",
          "data": {
            "text/plain": [
              "GridSearchCV(estimator=<keras.wrappers.scikit_learn.KerasClassifier object at 0x7f07ca503950>,\n",
              "             n_jobs=1,\n",
              "             param_grid={'dense_layer_sizes': [64], 'epochs': [7],\n",
              "                         'filters': [64], 'kernel_size': [3]},\n",
              "             return_train_score=True, scoring='accuracy')"
            ]
          },
          "metadata": {},
          "execution_count": 33
        }
      ]
    },
    {
      "cell_type": "code",
      "metadata": {
        "id": "XlELwELWaLDL",
        "colab": {
          "base_uri": "https://localhost:8080/",
          "height": 432
        },
        "outputId": "1135fc03-5530-4c21-9cf4-0758655d4b5b"
      },
      "source": [
        "res = pd.DataFrame(validator_1Dconv.cv_results_)\n",
        "res.pivot_table(index=[\"param_epochs\",\"param_filters\",\"param_dense_layer_sizes\",\"param_kernel_size\"],values=['mean_train_score',\"mean_test_score\"])"
      ],
      "execution_count": null,
      "outputs": [
        {
          "output_type": "execute_result",
          "data": {
            "text/html": [
              "<div>\n",
              "<style scoped>\n",
              "    .dataframe tbody tr th:only-of-type {\n",
              "        vertical-align: middle;\n",
              "    }\n",
              "\n",
              "    .dataframe tbody tr th {\n",
              "        vertical-align: top;\n",
              "    }\n",
              "\n",
              "    .dataframe thead th {\n",
              "        text-align: right;\n",
              "    }\n",
              "</style>\n",
              "<table border=\"1\" class=\"dataframe\">\n",
              "  <thead>\n",
              "    <tr style=\"text-align: right;\">\n",
              "      <th></th>\n",
              "      <th></th>\n",
              "      <th></th>\n",
              "      <th></th>\n",
              "      <th>mean_test_score</th>\n",
              "      <th>mean_train_score</th>\n",
              "    </tr>\n",
              "    <tr>\n",
              "      <th>param_epochs</th>\n",
              "      <th>param_filters</th>\n",
              "      <th>param_dense_layer_sizes</th>\n",
              "      <th>param_kernel_size</th>\n",
              "      <th></th>\n",
              "      <th></th>\n",
              "    </tr>\n",
              "  </thead>\n",
              "  <tbody>\n",
              "    <tr>\n",
              "      <th rowspan=\"4\" valign=\"top\">3</th>\n",
              "      <th rowspan=\"2\" valign=\"top\">32</th>\n",
              "      <th>64</th>\n",
              "      <th>50</th>\n",
              "      <td>0.796078</td>\n",
              "      <td>0.900201</td>\n",
              "    </tr>\n",
              "    <tr>\n",
              "      <th>128</th>\n",
              "      <th>50</th>\n",
              "      <td>0.830719</td>\n",
              "      <td>0.897545</td>\n",
              "    </tr>\n",
              "    <tr>\n",
              "      <th rowspan=\"2\" valign=\"top\">64</th>\n",
              "      <th>64</th>\n",
              "      <th>50</th>\n",
              "      <td>0.784967</td>\n",
              "      <td>0.922978</td>\n",
              "    </tr>\n",
              "    <tr>\n",
              "      <th>128</th>\n",
              "      <th>50</th>\n",
              "      <td>0.738562</td>\n",
              "      <td>0.906117</td>\n",
              "    </tr>\n",
              "    <tr>\n",
              "      <th rowspan=\"4\" valign=\"top\">5</th>\n",
              "      <th rowspan=\"2\" valign=\"top\">32</th>\n",
              "      <th>64</th>\n",
              "      <th>50</th>\n",
              "      <td>0.796078</td>\n",
              "      <td>0.948732</td>\n",
              "    </tr>\n",
              "    <tr>\n",
              "      <th>128</th>\n",
              "      <th>50</th>\n",
              "      <td>0.805882</td>\n",
              "      <td>0.962978</td>\n",
              "    </tr>\n",
              "    <tr>\n",
              "      <th rowspan=\"2\" valign=\"top\">64</th>\n",
              "      <th>64</th>\n",
              "      <th>50</th>\n",
              "      <td>0.818954</td>\n",
              "      <td>0.960040</td>\n",
              "    </tr>\n",
              "    <tr>\n",
              "      <th>128</th>\n",
              "      <th>50</th>\n",
              "      <td>0.839869</td>\n",
              "      <td>0.963058</td>\n",
              "    </tr>\n",
              "    <tr>\n",
              "      <th rowspan=\"4\" valign=\"top\">7</th>\n",
              "      <th rowspan=\"2\" valign=\"top\">32</th>\n",
              "      <th>64</th>\n",
              "      <th>50</th>\n",
              "      <td>0.851634</td>\n",
              "      <td>0.994326</td>\n",
              "    </tr>\n",
              "    <tr>\n",
              "      <th>128</th>\n",
              "      <th>50</th>\n",
              "      <td>0.839869</td>\n",
              "      <td>0.988571</td>\n",
              "    </tr>\n",
              "    <tr>\n",
              "      <th rowspan=\"2\" valign=\"top\">64</th>\n",
              "      <th>64</th>\n",
              "      <th>50</th>\n",
              "      <td>0.839869</td>\n",
              "      <td>0.997143</td>\n",
              "    </tr>\n",
              "    <tr>\n",
              "      <th>128</th>\n",
              "      <th>50</th>\n",
              "      <td>0.839869</td>\n",
              "      <td>1.000000</td>\n",
              "    </tr>\n",
              "  </tbody>\n",
              "</table>\n",
              "</div>"
            ],
            "text/plain": [
              "                                                                      mean_test_score  mean_train_score\n",
              "param_epochs param_filters param_dense_layer_sizes param_kernel_size                                   \n",
              "3            32            64                      50                        0.796078          0.900201\n",
              "                           128                     50                        0.830719          0.897545\n",
              "             64            64                      50                        0.784967          0.922978\n",
              "                           128                     50                        0.738562          0.906117\n",
              "5            32            64                      50                        0.796078          0.948732\n",
              "                           128                     50                        0.805882          0.962978\n",
              "             64            64                      50                        0.818954          0.960040\n",
              "                           128                     50                        0.839869          0.963058\n",
              "7            32            64                      50                        0.851634          0.994326\n",
              "                           128                     50                        0.839869          0.988571\n",
              "             64            64                      50                        0.839869          0.997143\n",
              "                           128                     50                        0.839869          1.000000"
            ]
          },
          "metadata": {},
          "execution_count": 25
        }
      ]
    },
    {
      "cell_type": "code",
      "metadata": {
        "colab": {
          "base_uri": "https://localhost:8080/"
        },
        "id": "SJUUsygUKaxw",
        "outputId": "f59160ce-2595-4834-e605-b0303d90f862"
      },
      "source": [
        "print(\"Best hyperparameters: \",validator_1Dconv.best_params_)\n",
        "print(\"Best CV accuracy: \",validator_1Dconv.best_score_)"
      ],
      "execution_count": null,
      "outputs": [
        {
          "output_type": "stream",
          "name": "stdout",
          "text": [
            "Best hyperparameters:  {'dense_layer_sizes': 64, 'epochs': 7, 'filters': 64, 'kernel_size': 3}\n",
            "Best CV accuracy:  0.8516339869281045\n"
          ]
        }
      ]
    },
    {
      "cell_type": "code",
      "metadata": {
        "colab": {
          "base_uri": "https://localhost:8080/"
        },
        "id": "fOtGrQqeKeCn",
        "outputId": "ef2468aa-c278-408f-a615-e0fc601080fa"
      },
      "source": [
        "best_1Dconv_model = validator_1Dconv.best_estimator_.model\n",
        "loss, accuracy = best_1Dconv_model.evaluate(testx_cnn, test_y,verbose=0)\n",
        "print(\"Accuracy on Test: \",accuracy)\n",
        "print(\"Loss on Test: \",loss)"
      ],
      "execution_count": null,
      "outputs": [
        {
          "output_type": "stream",
          "name": "stdout",
          "text": [
            "Accuracy on Test:  0.8846153616905212\n",
            "Loss on Test:  2.524669885635376\n"
          ]
        }
      ]
    },
    {
      "cell_type": "markdown",
      "metadata": {
        "id": "haSI6jsR2gzv"
      },
      "source": [
        "## *CNN with input matrix*\n",
        "In this case, the CNN has a matrix 2D picture format-like in input (instead of a vector), as the most common CNNs, and a 2D convolutional layer. The output is then passed to a 2D maxpooling layer, a Fully Connected (FC) layer, and a prediction layer."
      ]
    },
    {
      "cell_type": "code",
      "metadata": {
        "id": "2k-d9iyt3lDX"
      },
      "source": [
        "#transform train set into an array\n",
        "trainx_cnn = train_x.to_numpy()\n",
        "#add 23 zeros to the 1 axis of the array\n",
        "trainx_cnn = numpy.concatenate((trainx_cnn,numpy.zeros((88,23))),axis=1)\n",
        "#reshape the array in order to obtain an array of (88,223,100,1) dim\n",
        "trainx_cnn = numpy.reshape(trainx_cnn,(-1,223,100,1))\n",
        "trainx_cnn = trainx_cnn.astype(\"float32\")\n",
        "\n",
        "#let's do the same for the test set\n",
        "testx_cnn = test_x.to_numpy()\n",
        "testx_cnn = numpy.concatenate((testx_cnn,numpy.zeros((26,23))),axis=1)\n",
        "testx_cnn = numpy.reshape(testx_cnn,(-1,223,100,1))\n",
        "testx_cnn = testx_cnn.astype(\"float32\")"
      ],
      "execution_count": null,
      "outputs": []
    },
    {
      "cell_type": "code",
      "metadata": {
        "id": "Lo9J6btM3lvP",
        "colab": {
          "base_uri": "https://localhost:8080/"
        },
        "outputId": "3d6fc2ba-acba-4e10-cd8a-6f9e83b90265"
      },
      "source": [
        "def make_model(dense_layer_sizes, filters, kernel_size):\n",
        "  set_seed(432)\n",
        "  model = models.Sequential()\n",
        "  model.add(keras.layers.Conv2D(filters,kernel_size=kernel_size,strides=(5,5),input_shape=(223,100,1)))\n",
        "  model.add(keras.layers.Activation('relu'))\n",
        "  model.add(keras.layers.MaxPooling2D(2, 2))\n",
        "  model.add(keras.layers.Flatten())\n",
        "  model.add(keras.layers.Dropout(0.2))\n",
        "  model.add(keras.layers.Dense(dense_layer_sizes, activation='relu'))\n",
        "  model.add(keras.layers.Dense(1, activation='sigmoid'))\n",
        "  model.compile(loss='binary_crossentropy',\n",
        "                  optimizer='adam',\n",
        "                  metrics=['accuracy'])\n",
        "  return model\n",
        "\n",
        "my_classifier = KerasClassifier(make_model, batch_size=25)\n",
        "validator_matrix = GridSearchCV(my_classifier,\n",
        "                         param_grid={'dense_layer_sizes': [64,128],\n",
        "                                     'epochs': [5,7],\n",
        "                                     'filters': [32,64,128],\n",
        "                                     'kernel_size': [(7, 7), (10, 10), (15, 15)]},\n",
        "                         scoring='accuracy',\n",
        "                         n_jobs=1,return_train_score=True)\n",
        "\n",
        "validator_matrix.fit(trainx_cnn, train_y)"
      ],
      "execution_count": null,
      "outputs": [
        {
          "output_type": "stream",
          "name": "stderr",
          "text": [
            "/usr/local/lib/python3.7/dist-packages/ipykernel_launcher.py:16: DeprecationWarning: KerasClassifier is deprecated, use Sci-Keras (https://github.com/adriangb/scikeras) instead.\n",
            "  app.launch_new_instance()\n"
          ]
        },
        {
          "output_type": "stream",
          "name": "stdout",
          "text": [
            "Epoch 1/7\n",
            "3/3 [==============================] - 1s 42ms/step - loss: 1.5067 - accuracy: 0.4571\n",
            "Epoch 2/7\n",
            "3/3 [==============================] - 0s 40ms/step - loss: 0.8145 - accuracy: 0.5571\n",
            "Epoch 3/7\n",
            "3/3 [==============================] - 0s 44ms/step - loss: 0.8748 - accuracy: 0.5571\n",
            "Epoch 4/7\n",
            "3/3 [==============================] - 0s 44ms/step - loss: 0.4484 - accuracy: 0.7571\n",
            "Epoch 5/7\n",
            "3/3 [==============================] - 0s 39ms/step - loss: 0.4506 - accuracy: 0.7286\n",
            "Epoch 6/7\n",
            "3/3 [==============================] - 0s 39ms/step - loss: 0.3038 - accuracy: 0.9143\n",
            "Epoch 7/7\n",
            "3/3 [==============================] - 0s 44ms/step - loss: 0.2887 - accuracy: 0.9000\n",
            "Epoch 1/7\n",
            "3/3 [==============================] - 1s 48ms/step - loss: 1.2370 - accuracy: 0.5429\n",
            "Epoch 2/7\n",
            "3/3 [==============================] - 0s 41ms/step - loss: 0.9676 - accuracy: 0.6429\n",
            "Epoch 3/7\n",
            "3/3 [==============================] - 0s 42ms/step - loss: 0.6770 - accuracy: 0.6286\n",
            "Epoch 4/7\n",
            "3/3 [==============================] - 0s 47ms/step - loss: 0.3296 - accuracy: 0.8571\n",
            "Epoch 5/7\n",
            "3/3 [==============================] - 0s 40ms/step - loss: 0.3856 - accuracy: 0.8429\n",
            "Epoch 6/7\n",
            "3/3 [==============================] - 0s 42ms/step - loss: 0.3326 - accuracy: 0.9000\n",
            "Epoch 7/7\n",
            "3/3 [==============================] - 0s 42ms/step - loss: 0.2169 - accuracy: 0.9286\n",
            "Epoch 1/7\n",
            "3/3 [==============================] - 1s 42ms/step - loss: 1.4523 - accuracy: 0.4714\n",
            "Epoch 2/7\n",
            "3/3 [==============================] - 0s 46ms/step - loss: 0.9054 - accuracy: 0.5714\n",
            "Epoch 3/7\n",
            "3/3 [==============================] - 0s 38ms/step - loss: 0.5547 - accuracy: 0.6571\n",
            "Epoch 4/7\n",
            "3/3 [==============================] - 0s 39ms/step - loss: 0.5165 - accuracy: 0.7429\n",
            "Epoch 5/7\n",
            "3/3 [==============================] - 0s 41ms/step - loss: 0.2915 - accuracy: 0.8571\n",
            "Epoch 6/7\n",
            "3/3 [==============================] - 0s 42ms/step - loss: 0.3408 - accuracy: 0.9000\n",
            "Epoch 7/7\n",
            "3/3 [==============================] - 0s 39ms/step - loss: 0.2397 - accuracy: 0.9286\n",
            "Epoch 1/7\n",
            "3/3 [==============================] - 1s 46ms/step - loss: 1.0503 - accuracy: 0.4225\n",
            "Epoch 2/7\n",
            "3/3 [==============================] - 0s 40ms/step - loss: 0.5865 - accuracy: 0.6761\n",
            "Epoch 3/7\n",
            "3/3 [==============================] - 0s 41ms/step - loss: 0.4711 - accuracy: 0.7887\n",
            "Epoch 4/7\n",
            "3/3 [==============================] - 0s 41ms/step - loss: 0.4362 - accuracy: 0.7887\n",
            "Epoch 5/7\n",
            "3/3 [==============================] - 0s 46ms/step - loss: 0.4254 - accuracy: 0.8169\n",
            "Epoch 6/7\n",
            "3/3 [==============================] - 0s 41ms/step - loss: 0.2002 - accuracy: 0.9296\n",
            "Epoch 7/7\n",
            "3/3 [==============================] - 0s 42ms/step - loss: 0.3105 - accuracy: 0.8592\n",
            "Epoch 1/7\n",
            "3/3 [==============================] - 1s 41ms/step - loss: 0.7388 - accuracy: 0.5070\n",
            "Epoch 2/7\n",
            "3/3 [==============================] - 0s 44ms/step - loss: 0.7791 - accuracy: 0.5915\n",
            "Epoch 3/7\n",
            "3/3 [==============================] - 0s 47ms/step - loss: 0.4628 - accuracy: 0.8028\n",
            "Epoch 4/7\n",
            "3/3 [==============================] - 0s 43ms/step - loss: 0.2671 - accuracy: 0.9296\n",
            "Epoch 5/7\n",
            "3/3 [==============================] - 0s 40ms/step - loss: 0.2527 - accuracy: 0.9014\n",
            "Epoch 6/7\n",
            "3/3 [==============================] - 0s 42ms/step - loss: 0.1475 - accuracy: 0.9718\n",
            "Epoch 7/7\n",
            "3/3 [==============================] - 0s 43ms/step - loss: 0.1347 - accuracy: 0.9437\n",
            "Epoch 1/7\n",
            "3/3 [==============================] - 1s 50ms/step - loss: 1.2520 - accuracy: 0.4286\n",
            "Epoch 2/7\n",
            "3/3 [==============================] - 0s 51ms/step - loss: 0.5810 - accuracy: 0.6286\n",
            "Epoch 3/7\n",
            "3/3 [==============================] - 0s 50ms/step - loss: 0.5661 - accuracy: 0.6714\n",
            "Epoch 4/7\n",
            "3/3 [==============================] - 0s 55ms/step - loss: 0.3934 - accuracy: 0.8429\n",
            "Epoch 5/7\n",
            "3/3 [==============================] - 0s 53ms/step - loss: 0.3089 - accuracy: 0.9000\n",
            "Epoch 6/7\n",
            "3/3 [==============================] - 0s 50ms/step - loss: 0.2334 - accuracy: 0.9143\n",
            "Epoch 7/7\n",
            "3/3 [==============================] - 0s 55ms/step - loss: 0.1926 - accuracy: 0.9429\n",
            "Epoch 1/7\n",
            "3/3 [==============================] - 1s 52ms/step - loss: 1.1743 - accuracy: 0.4429\n",
            "Epoch 2/7\n",
            "3/3 [==============================] - 0s 54ms/step - loss: 0.7046 - accuracy: 0.6571\n",
            "Epoch 3/7\n",
            "3/3 [==============================] - 0s 53ms/step - loss: 0.7324 - accuracy: 0.6000\n",
            "Epoch 4/7\n",
            "3/3 [==============================] - 0s 51ms/step - loss: 0.4417 - accuracy: 0.8143\n",
            "Epoch 5/7\n",
            "3/3 [==============================] - 0s 54ms/step - loss: 0.3244 - accuracy: 0.9000\n",
            "Epoch 6/7\n",
            "3/3 [==============================] - 0s 49ms/step - loss: 0.2820 - accuracy: 0.8714\n",
            "Epoch 7/7\n",
            "3/3 [==============================] - 0s 53ms/step - loss: 0.2231 - accuracy: 0.9286\n",
            "Epoch 1/7\n",
            "3/3 [==============================] - 1s 52ms/step - loss: 0.7872 - accuracy: 0.5571\n",
            "Epoch 2/7\n",
            "3/3 [==============================] - 0s 50ms/step - loss: 0.7376 - accuracy: 0.7000\n",
            "Epoch 3/7\n",
            "3/3 [==============================] - 0s 51ms/step - loss: 0.3760 - accuracy: 0.8143\n",
            "Epoch 4/7\n",
            "3/3 [==============================] - 0s 48ms/step - loss: 0.2292 - accuracy: 0.9000\n",
            "Epoch 5/7\n",
            "3/3 [==============================] - 0s 58ms/step - loss: 0.1335 - accuracy: 0.9571\n",
            "Epoch 6/7\n",
            "3/3 [==============================] - 0s 49ms/step - loss: 0.1640 - accuracy: 0.9286\n",
            "Epoch 7/7\n",
            "3/3 [==============================] - 0s 45ms/step - loss: 0.1155 - accuracy: 0.9571\n",
            "Epoch 1/7\n",
            "3/3 [==============================] - 1s 54ms/step - loss: 1.3323 - accuracy: 0.4225\n",
            "Epoch 2/7\n",
            "3/3 [==============================] - 0s 53ms/step - loss: 0.7054 - accuracy: 0.5211\n",
            "Epoch 3/7\n",
            "3/3 [==============================] - 0s 55ms/step - loss: 0.6329 - accuracy: 0.6901\n",
            "Epoch 4/7\n",
            "3/3 [==============================] - 0s 54ms/step - loss: 0.5087 - accuracy: 0.8451\n",
            "Epoch 5/7\n",
            "3/3 [==============================] - 0s 56ms/step - loss: 0.4212 - accuracy: 0.8451\n",
            "Epoch 6/7\n",
            "3/3 [==============================] - 0s 50ms/step - loss: 0.3232 - accuracy: 0.8873\n",
            "Epoch 7/7\n",
            "3/3 [==============================] - 0s 55ms/step - loss: 0.2554 - accuracy: 0.9296\n",
            "Epoch 1/7\n",
            "3/3 [==============================] - 1s 56ms/step - loss: 1.1815 - accuracy: 0.4507\n",
            "Epoch 2/7\n",
            "3/3 [==============================] - 0s 54ms/step - loss: 0.5099 - accuracy: 0.7606\n",
            "Epoch 3/7\n",
            "3/3 [==============================] - 0s 55ms/step - loss: 0.5132 - accuracy: 0.6901\n",
            "Epoch 4/7\n",
            "3/3 [==============================] - 0s 58ms/step - loss: 0.5480 - accuracy: 0.6197\n",
            "Epoch 5/7\n",
            "3/3 [==============================] - 0s 57ms/step - loss: 0.3803 - accuracy: 0.8310\n",
            "Epoch 6/7\n",
            "3/3 [==============================] - 0s 60ms/step - loss: 0.3326 - accuracy: 0.8732\n",
            "Epoch 7/7\n",
            "3/3 [==============================] - 0s 58ms/step - loss: 0.1943 - accuracy: 0.9577\n",
            "Epoch 1/7\n",
            "3/3 [==============================] - 1s 69ms/step - loss: 1.2477 - accuracy: 0.5286\n",
            "Epoch 2/7\n",
            "3/3 [==============================] - 0s 74ms/step - loss: 0.5138 - accuracy: 0.6857\n",
            "Epoch 3/7\n",
            "3/3 [==============================] - 0s 72ms/step - loss: 0.4194 - accuracy: 0.8857\n",
            "Epoch 4/7\n",
            "3/3 [==============================] - 0s 75ms/step - loss: 0.2718 - accuracy: 0.9429\n",
            "Epoch 5/7\n",
            "3/3 [==============================] - 0s 74ms/step - loss: 0.2056 - accuracy: 0.9286\n",
            "Epoch 6/7\n",
            "3/3 [==============================] - 0s 72ms/step - loss: 0.1574 - accuracy: 0.9714\n",
            "Epoch 7/7\n",
            "3/3 [==============================] - 0s 74ms/step - loss: 0.1213 - accuracy: 0.9714\n",
            "Epoch 1/7\n",
            "3/3 [==============================] - 1s 75ms/step - loss: 1.0663 - accuracy: 0.5000\n",
            "Epoch 2/7\n",
            "3/3 [==============================] - 0s 82ms/step - loss: 0.5346 - accuracy: 0.7571\n",
            "Epoch 3/7\n",
            "3/3 [==============================] - 0s 71ms/step - loss: 0.5013 - accuracy: 0.8286\n",
            "Epoch 4/7\n",
            "3/3 [==============================] - 0s 68ms/step - loss: 0.3437 - accuracy: 0.9000\n",
            "Epoch 5/7\n",
            "3/3 [==============================] - 0s 81ms/step - loss: 0.2435 - accuracy: 0.9286\n",
            "Epoch 6/7\n",
            "3/3 [==============================] - 0s 71ms/step - loss: 0.2032 - accuracy: 0.9571\n",
            "Epoch 7/7\n",
            "3/3 [==============================] - 0s 72ms/step - loss: 0.1491 - accuracy: 0.9571\n",
            "Epoch 1/7\n",
            "3/3 [==============================] - 1s 72ms/step - loss: 0.7916 - accuracy: 0.5857\n",
            "Epoch 2/7\n",
            "3/3 [==============================] - 0s 73ms/step - loss: 0.6424 - accuracy: 0.7857\n",
            "Epoch 3/7\n",
            "3/3 [==============================] - 0s 73ms/step - loss: 0.3866 - accuracy: 0.7714\n",
            "Epoch 4/7\n",
            "3/3 [==============================] - 0s 79ms/step - loss: 0.1658 - accuracy: 0.9571\n",
            "Epoch 5/7\n",
            "3/3 [==============================] - 0s 73ms/step - loss: 0.1484 - accuracy: 0.9571\n",
            "Epoch 6/7\n",
            "3/3 [==============================] - 0s 72ms/step - loss: 0.1429 - accuracy: 0.9429\n",
            "Epoch 7/7\n",
            "3/3 [==============================] - 0s 71ms/step - loss: 0.0761 - accuracy: 0.9571\n",
            "Epoch 1/7\n",
            "3/3 [==============================] - 1s 73ms/step - loss: 1.3026 - accuracy: 0.4648\n",
            "Epoch 2/7\n",
            "3/3 [==============================] - 0s 75ms/step - loss: 0.7481 - accuracy: 0.5070\n",
            "Epoch 3/7\n",
            "3/3 [==============================] - 0s 73ms/step - loss: 0.5689 - accuracy: 0.8169\n",
            "Epoch 4/7\n",
            "3/3 [==============================] - 0s 71ms/step - loss: 0.4233 - accuracy: 0.8732\n",
            "Epoch 5/7\n",
            "3/3 [==============================] - 0s 72ms/step - loss: 0.3403 - accuracy: 0.9014\n",
            "Epoch 6/7\n",
            "3/3 [==============================] - 0s 73ms/step - loss: 0.2462 - accuracy: 0.9296\n",
            "Epoch 7/7\n",
            "3/3 [==============================] - 0s 74ms/step - loss: 0.1899 - accuracy: 0.9296\n",
            "Epoch 1/7\n",
            "3/3 [==============================] - 1s 77ms/step - loss: 1.1535 - accuracy: 0.5211\n",
            "Epoch 2/7\n",
            "3/3 [==============================] - 0s 69ms/step - loss: 0.5475 - accuracy: 0.7606\n",
            "Epoch 3/7\n",
            "3/3 [==============================] - 0s 69ms/step - loss: 0.6817 - accuracy: 0.6338\n",
            "Epoch 4/7\n",
            "3/3 [==============================] - 0s 73ms/step - loss: 0.5048 - accuracy: 0.7042\n",
            "Epoch 5/7\n",
            "3/3 [==============================] - 0s 75ms/step - loss: 0.3620 - accuracy: 0.8592\n",
            "Epoch 6/7\n",
            "3/3 [==============================] - 0s 75ms/step - loss: 0.2648 - accuracy: 0.8873\n",
            "Epoch 7/7\n",
            "3/3 [==============================] - 0s 71ms/step - loss: 0.1569 - accuracy: 0.9577\n",
            "Epoch 1/7\n",
            "4/4 [==============================] - 1s 40ms/step - loss: 1.0608 - accuracy: 0.4432\n",
            "Epoch 2/7\n",
            "4/4 [==============================] - 0s 39ms/step - loss: 0.6444 - accuracy: 0.6364\n",
            "Epoch 3/7\n",
            "4/4 [==============================] - 0s 37ms/step - loss: 0.4699 - accuracy: 0.8636\n",
            "Epoch 4/7\n",
            "4/4 [==============================] - 0s 38ms/step - loss: 0.3349 - accuracy: 0.8750\n",
            "Epoch 5/7\n",
            "4/4 [==============================] - 0s 39ms/step - loss: 0.2830 - accuracy: 0.8977\n",
            "Epoch 6/7\n",
            "4/4 [==============================] - 0s 40ms/step - loss: 0.2744 - accuracy: 0.9091\n",
            "Epoch 7/7\n",
            "4/4 [==============================] - 0s 35ms/step - loss: 0.2076 - accuracy: 0.9205\n"
          ]
        },
        {
          "output_type": "execute_result",
          "data": {
            "text/plain": [
              "GridSearchCV(estimator=<keras.wrappers.scikit_learn.KerasClassifier object at 0x7efbd7e8f810>,\n",
              "             n_jobs=1,\n",
              "             param_grid={'dense_layer_sizes': [64], 'epochs': [7],\n",
              "                         'filters': [64],\n",
              "                         'kernel_size': [(7, 7), (10, 10), (15, 15)]},\n",
              "             return_train_score=True, scoring='accuracy')"
            ]
          },
          "metadata": {},
          "execution_count": 19
        }
      ]
    },
    {
      "cell_type": "code",
      "metadata": {
        "id": "1wfelH7Qbvhx"
      },
      "source": [
        "res = pd.DataFrame(validator_matrix.cv_results_)\n",
        "res.pivot_table(index=[\"param_epochs\",\"param_filters\",\"param_dense_layer_sizes\",\"param_kernel_size\"],values=['mean_train_score',\"mean_test_score\"])"
      ],
      "execution_count": null,
      "outputs": []
    },
    {
      "cell_type": "code",
      "metadata": {
        "colab": {
          "base_uri": "https://localhost:8080/"
        },
        "id": "lsptTNT58yyH",
        "outputId": "5731fb79-861f-4932-aa79-b934cfdf0114"
      },
      "source": [
        "print(\"Best hyperparameters: \",validator_matrix.best_params_)\n",
        "print(\"Best CV accuracy: \",validator_matrix.best_score_)"
      ],
      "execution_count": null,
      "outputs": [
        {
          "output_type": "stream",
          "name": "stdout",
          "text": [
            "Best hyperparameters:  {'dense_layer_sizes': 64, 'epochs': 7, 'filters': 64, 'kernel_size': (7, 7)}\n",
            "Best CV accuracy:  0.8751633986928106\n"
          ]
        }
      ]
    },
    {
      "cell_type": "code",
      "metadata": {
        "colab": {
          "base_uri": "https://localhost:8080/"
        },
        "id": "XezW6S6Y869U",
        "outputId": "559ad7aa-3b90-424c-b47b-507d64fc7149"
      },
      "source": [
        "best_matr_model = validator_matrix.best_estimator_.model\n",
        "loss, accuracy = best_matr_model.evaluate(testx_cnn, test_y,verbose=0)\n",
        "print(\"Accuracy on Test: \",accuracy)\n",
        "print(\"Loss on Test: \",loss)"
      ],
      "execution_count": null,
      "outputs": [
        {
          "output_type": "stream",
          "name": "stdout",
          "text": [
            "Accuracy on Test:  0.9230769276618958\n",
            "Loss on Test:  0.3179877996444702\n"
          ]
        }
      ]
    },
    {
      "cell_type": "markdown",
      "metadata": {
        "id": "Cd3NvQNgULLD"
      },
      "source": [
        "# **Results and Discussion**"
      ]
    },
    {
      "cell_type": "markdown",
      "metadata": {
        "id": "Kie8L4vcHv5S"
      },
      "source": [
        "According to the results obtained on both training and test set, the models with the highest accuracies are the MLP after dimensionality reduction and the CNN with input matrix. In the first one the accuracy on the training set has reached a peak of 96% and 92% on the test set, while in the second one 92% on both the training and the test set, even if in the validation set has reached 87%. However, even with these two models and consistently with the other models, a problem of overfitting is still present. This problem can be reduced, for example using Dropout or BatchNormalization, but the source reason of overfitting is the low number of samples (examples). Thus, the only way to strongly reduce the overfitting is to increase the number of samples: indeed, with a very high number of features (genes) and low number of examples (patients), the overfitting is an expected phenomena."
      ]
    }
  ]
}